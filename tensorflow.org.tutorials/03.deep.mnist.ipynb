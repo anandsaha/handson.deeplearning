{
 "cells": [
  {
   "cell_type": "code",
   "execution_count": 1,
   "metadata": {
    "collapsed": true
   },
   "outputs": [],
   "source": [
    "import tensorflow as tf\n",
    "from tensorflow.examples.tutorials.mnist import input_data"
   ]
  },
  {
   "cell_type": "code",
   "execution_count": 2,
   "metadata": {},
   "outputs": [
    {
     "name": "stdout",
     "output_type": "stream",
     "text": [
      "Extracting /home/as/datasets/mnist/train-images-idx3-ubyte.gz\n",
      "Extracting /home/as/datasets/mnist/train-labels-idx1-ubyte.gz\n",
      "Extracting /home/as/datasets/mnist/t10k-images-idx3-ubyte.gz\n",
      "Extracting /home/as/datasets/mnist/t10k-labels-idx1-ubyte.gz\n"
     ]
    }
   ],
   "source": [
    "mnist = input_data.read_data_sets(\"/home/as/datasets/mnist\", one_hot=True)"
   ]
  },
  {
   "cell_type": "code",
   "execution_count": 3,
   "metadata": {
    "collapsed": true
   },
   "outputs": [],
   "source": [
    "def weight_var(shape):\n",
    "    initial = tf.truncated_normal(shape, stddev=0.1)\n",
    "    return tf.Variable(initial)\n",
    "\n",
    "def bias_var(shape):\n",
    "    initial = tf.constant(0.1, shape=shape)\n",
    "    return tf.Variable(initial)"
   ]
  },
  {
   "cell_type": "code",
   "execution_count": 4,
   "metadata": {
    "collapsed": true
   },
   "outputs": [],
   "source": [
    "def conv2d(x, W):\n",
    "    return tf.nn.conv2d(x, W, strides=[1, 1, 1, 1], padding='SAME')\n",
    "def max_pool_2x2(x):\n",
    "    return tf.nn.max_pool(x, ksize=[1, 2, 2, 1], strides=[1, 2, 2, 1], padding='SAME')"
   ]
  },
  {
   "cell_type": "code",
   "execution_count": 5,
   "metadata": {
    "collapsed": true
   },
   "outputs": [],
   "source": [
    "x = tf.placeholder(tf.float32, shape=[None, 784])\n",
    "y = tf.placeholder(tf.float32, shape=[None, 10])\n",
    "x_image = tf.reshape(x, [-1, 28, 28, 1])"
   ]
  },
  {
   "cell_type": "code",
   "execution_count": 6,
   "metadata": {
    "collapsed": true
   },
   "outputs": [],
   "source": [
    "with tf.name_scope(\"Conv1\"):\n",
    "    W_conv1 = weight_var([5, 5, 1, 32])\n",
    "    b_conv1 = bias_var([32])\n",
    "    h_conv1 = tf.nn.relu(conv2d(x_image, W_conv1) + b_conv1)\n",
    "    h_pool1 = max_pool_2x2(h_conv1)\n",
    "    \n",
    "    tf.summary.histogram(\"weights\", W_conv1)\n",
    "    tf.summary.histogram(\"biases\", b_conv1)\n",
    "    tf.summary.histogram(\"activation\", h_conv1)\n",
    "    "
   ]
  },
  {
   "cell_type": "code",
   "execution_count": 7,
   "metadata": {
    "collapsed": true
   },
   "outputs": [],
   "source": [
    "with tf.name_scope(\"Conv2\"):\n",
    "    W_conv2 = weight_var([5,5,32,64])\n",
    "    b_conv2 = bias_var([64])\n",
    "    h_conv2 = tf.nn.relu(conv2d(h_pool1, W_conv2) + b_conv2)\n",
    "    h_pool2 = max_pool_2x2(h_conv2)\n",
    "    \n",
    "    tf.summary.histogram(\"weights\", W_conv2)\n",
    "    tf.summary.histogram(\"biases\", b_conv2)\n",
    "    tf.summary.histogram(\"activation\", h_conv2)"
   ]
  },
  {
   "cell_type": "code",
   "execution_count": 8,
   "metadata": {
    "collapsed": true
   },
   "outputs": [],
   "source": [
    "with tf.name_scope(\"Fc1\"):\n",
    "    W_fc1 = weight_var([7 * 7 * 64, 1024])\n",
    "    b_fc1 = bias_var([1024])\n",
    "    h_pool2_flat = tf.reshape(h_pool2, [-1, 7*7*64])\n",
    "    h_fc1 = tf.nn.relu(tf.matmul(h_pool2_flat, W_fc1) + b_fc1)"
   ]
  },
  {
   "cell_type": "code",
   "execution_count": 9,
   "metadata": {},
   "outputs": [],
   "source": [
    "with tf.name_scope(\"Fc2\"):\n",
    "    keep_prob = tf.placeholder(tf.float32)\n",
    "    h_fc1_drop = tf.nn.dropout(h_fc1, keep_prob)\n",
    "    W_fc2 = weight_var([1024, 10])\n",
    "    b_fc2 = bias_var([10])\n",
    "    y_conv = tf.matmul(h_fc1_drop, W_fc2) + b_fc2"
   ]
  },
  {
   "cell_type": "code",
   "execution_count": 10,
   "metadata": {
    "collapsed": true
   },
   "outputs": [],
   "source": [
    "with tf.name_scope(\"xentropy\"):\n",
    "    cross_entropy = tf.reduce_mean(tf.nn.softmax_cross_entropy_with_logits(labels=y, logits=y_conv))\n",
    "with tf.name_scope(\"train\"):\n",
    "    train_step = tf.train.AdamOptimizer(1e-4).minimize(cross_entropy)\n",
    "with tf.name_scope(\"correct_pred\"):\n",
    "    correct_pred = tf.equal(tf.argmax(y_conv, 1), tf.argmax(y, 1))\n",
    "with tf.name_scope(\"accuracy\"):\n",
    "    accuracy = tf.reduce_mean(tf.cast(correct_pred, tf.float32))"
   ]
  },
  {
   "cell_type": "code",
   "execution_count": 11,
   "metadata": {
    "collapsed": true
   },
   "outputs": [],
   "source": [
    "summary_acc = tf.summary.scalar(\"accuracy\", accuracy)\n",
    "summary_loss = tf.summary.scalar(\"xloss\", cross_entropy)\n",
    "summary_imgs = tf.summary.image(\"imgs\", x_image, 3)"
   ]
  },
  {
   "cell_type": "code",
   "execution_count": 12,
   "metadata": {
    "collapsed": true
   },
   "outputs": [],
   "source": [
    "summary_merge = tf.summary.merge_all()"
   ]
  },
  {
   "cell_type": "code",
   "execution_count": 13,
   "metadata": {
    "collapsed": true
   },
   "outputs": [],
   "source": [
    "!rm -rf tensorboard/*"
   ]
  },
  {
   "cell_type": "code",
   "execution_count": 14,
   "metadata": {},
   "outputs": [
    {
     "name": "stdout",
     "output_type": "stream",
     "text": [
      "0.1339\n",
      "0.4604\n",
      "0.6435\n",
      "0.7358\n",
      "0.7942\n",
      "0.8436\n",
      "0.8638\n",
      "0.8833\n",
      "0.8953\n",
      "0.9069\n",
      "0.9144\n",
      "0.9204\n",
      "0.9258\n",
      "0.931\n",
      "0.9339\n",
      "0.9358\n",
      "0.9404\n",
      "0.9429\n",
      "0.9454\n",
      "0.9474\n",
      "0.9471\n",
      "0.9502\n",
      "0.9507\n",
      "0.9531\n",
      "0.9532\n",
      "0.9529\n",
      "0.9568\n",
      "0.9577\n",
      "0.96\n",
      "0.96\n",
      "0.9609\n",
      "0.9618\n",
      "0.9619\n",
      "0.9635\n",
      "0.9628\n",
      "0.9643\n",
      "0.9648\n",
      "0.9647\n",
      "0.9671\n",
      "0.967\n",
      "0.9677\n",
      "0.9676\n",
      "0.9683\n",
      "0.9688\n",
      "0.9691\n",
      "0.9704\n",
      "0.9703\n",
      "0.969\n",
      "0.9716\n",
      "0.9691\n",
      "0.9727\n",
      "0.9706\n",
      "0.9729\n",
      "0.9739\n",
      "0.9724\n",
      "0.973\n",
      "0.9746\n",
      "0.974\n",
      "0.9728\n",
      "0.9739\n"
     ]
    }
   ],
   "source": [
    "with tf.Session() as sess:\n",
    "    \n",
    "    writer = tf.summary.FileWriter('tensorboard/0', sess.graph)\n",
    "    \n",
    "    sess.run(tf.global_variables_initializer())\n",
    "    for i in range(600):\n",
    "        batch = mnist.train.next_batch(1000)\n",
    "        train_step.run(feed_dict={x: batch[0], y: batch[1], keep_prob:0.5})\n",
    "        \n",
    "        if i % 10 == 0:\n",
    "            test_accuracy = accuracy.eval(feed_dict={x: mnist.test.images, y: mnist.test.labels, keep_prob:1})\n",
    "            print(test_accuracy)\n",
    "            summ_str = sess.run(summary_merge, feed_dict={x: mnist.test.images, y: mnist.test.labels, keep_prob:1})\n",
    "            writer.add_summary(summ_str, i)\n",
    "            \n",
    "writer.close()"
   ]
  },
  {
   "cell_type": "code",
   "execution_count": null,
   "metadata": {
    "collapsed": true
   },
   "outputs": [],
   "source": [
    "# tensorboard --logdir tensorboard/0/"
   ]
  },
  {
   "cell_type": "code",
   "execution_count": null,
   "metadata": {
    "collapsed": true
   },
   "outputs": [],
   "source": []
  },
  {
   "cell_type": "code",
   "execution_count": null,
   "metadata": {
    "collapsed": true
   },
   "outputs": [],
   "source": []
  }
 ],
 "metadata": {
  "kernelspec": {
   "display_name": "Python 3",
   "language": "python",
   "name": "python3"
  },
  "language_info": {
   "codemirror_mode": {
    "name": "ipython",
    "version": 3
   },
   "file_extension": ".py",
   "mimetype": "text/x-python",
   "name": "python",
   "nbconvert_exporter": "python",
   "pygments_lexer": "ipython3",
   "version": "3.6.3"
  }
 },
 "nbformat": 4,
 "nbformat_minor": 2
}
