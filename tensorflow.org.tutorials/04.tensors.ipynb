{
 "cells": [
  {
   "cell_type": "code",
   "execution_count": 1,
   "metadata": {
    "collapsed": true
   },
   "outputs": [],
   "source": [
    "import tensorflow as tf"
   ]
  },
  {
   "cell_type": "code",
   "execution_count": 2,
   "metadata": {},
   "outputs": [],
   "source": [
    "nums = tf.Variable([[\"World\"]], dtype=tf.string)"
   ]
  },
  {
   "cell_type": "code",
   "execution_count": 3,
   "metadata": {},
   "outputs": [
    {
     "name": "stdout",
     "output_type": "stream",
     "text": [
      "2\n",
      "[1 1]\n"
     ]
    }
   ],
   "source": [
    "with tf.Session() as sess:\n",
    "    sess.run(tf.global_variables_initializer())\n",
    "    print(sess.run(tf.rank(nums)))\n",
    "    print(sess.run(tf.shape(nums)))\n",
    "   "
   ]
  },
  {
   "cell_type": "code",
   "execution_count": 4,
   "metadata": {},
   "outputs": [
    {
     "name": "stdout",
     "output_type": "stream",
     "text": [
      "[[[ 1.  1.  1.  1.  1.]\n",
      "  [ 1.  1.  1.  1.  1.]\n",
      "  [ 1.  1.  1.  1.  1.]\n",
      "  [ 1.  1.  1.  1.  1.]]\n",
      "\n",
      " [[ 1.  1.  1.  1.  1.]\n",
      "  [ 1.  1.  1.  1.  1.]\n",
      "  [ 1.  1.  1.  1.  1.]\n",
      "  [ 1.  1.  1.  1.  1.]]\n",
      "\n",
      " [[ 1.  1.  1.  1.  1.]\n",
      "  [ 1.  1.  1.  1.  1.]\n",
      "  [ 1.  1.  1.  1.  1.]\n",
      "  [ 1.  1.  1.  1.  1.]]] ---\n",
      "[[ 1.  1.  1.  1.  1.  1.  1.  1.  1.  1.]\n",
      " [ 1.  1.  1.  1.  1.  1.  1.  1.  1.  1.]\n",
      " [ 1.  1.  1.  1.  1.  1.  1.  1.  1.  1.]\n",
      " [ 1.  1.  1.  1.  1.  1.  1.  1.  1.  1.]\n",
      " [ 1.  1.  1.  1.  1.  1.  1.  1.  1.  1.]\n",
      " [ 1.  1.  1.  1.  1.  1.  1.  1.  1.  1.]] ---\n",
      "[[ 1.  1.  1.  1.  1.  1.  1.  1.  1.  1.  1.  1.  1.  1.  1.  1.  1.  1.\n",
      "   1.  1.]\n",
      " [ 1.  1.  1.  1.  1.  1.  1.  1.  1.  1.  1.  1.  1.  1.  1.  1.  1.  1.\n",
      "   1.  1.]\n",
      " [ 1.  1.  1.  1.  1.  1.  1.  1.  1.  1.  1.  1.  1.  1.  1.  1.  1.  1.\n",
      "   1.  1.]] ---\n",
      "[[[ 1.  1.  1.  1.  1.]\n",
      "  [ 1.  1.  1.  1.  1.]\n",
      "  [ 1.  1.  1.  1.  1.]]\n",
      "\n",
      " [[ 1.  1.  1.  1.  1.]\n",
      "  [ 1.  1.  1.  1.  1.]\n",
      "  [ 1.  1.  1.  1.  1.]]\n",
      "\n",
      " [[ 1.  1.  1.  1.  1.]\n",
      "  [ 1.  1.  1.  1.  1.]\n",
      "  [ 1.  1.  1.  1.  1.]]\n",
      "\n",
      " [[ 1.  1.  1.  1.  1.]\n",
      "  [ 1.  1.  1.  1.  1.]\n",
      "  [ 1.  1.  1.  1.  1.]]] ---\n"
     ]
    }
   ],
   "source": [
    "rank_three_tensor = tf.ones([3, 4, 5])\n",
    "matrix = tf.reshape(rank_three_tensor, [6, 10])\n",
    "matrixB = tf.reshape(matrix, [3, -1])\n",
    "matrixAlt = tf.reshape(matrixB, [4, 3, -1])\n",
    "\n",
    "with tf.Session() as sess:\n",
    "    print(sess.run(rank_three_tensor), \"---\")\n",
    "    print(sess.run(matrix), \"---\")\n",
    "    print(sess.run(matrixB), \"---\")\n",
    "    print(sess.run(matrixAlt), \"---\")"
   ]
  },
  {
   "cell_type": "code",
   "execution_count": 5,
   "metadata": {},
   "outputs": [
    {
     "name": "stdout",
     "output_type": "stream",
     "text": [
      "[1 4 9]\n"
     ]
    }
   ],
   "source": [
    "with tf.Session() as sess:\n",
    "    const = tf.constant([1, 2, 3])\n",
    "    tensor = const * const\n",
    "    print(tensor.eval())"
   ]
  },
  {
   "cell_type": "code",
   "execution_count": 6,
   "metadata": {},
   "outputs": [
    {
     "name": "stdout",
     "output_type": "stream",
     "text": [
      "3.0\n"
     ]
    }
   ],
   "source": [
    "with tf.Session() as sess:\n",
    "    p = tf.placeholder(tf.float32)\n",
    "    t = p + 1.0\n",
    "    print(t.eval(feed_dict={p:2.0}))"
   ]
  },
  {
   "cell_type": "code",
   "execution_count": 10,
   "metadata": {},
   "outputs": [
    {
     "name": "stdout",
     "output_type": "stream",
     "text": [
      "4.0\n"
     ]
    }
   ],
   "source": [
    "with tf.Session() as sess:\n",
    "    var = tf.Variable(3.0, dtype=tf.float32, trainable=False)\n",
    "    sess.run(tf.global_variables_initializer())\n",
    "    sess.run(tf.assign(var, 4.0))\n",
    "    print(sess.run(var))"
   ]
  },
  {
   "cell_type": "code",
   "execution_count": 8,
   "metadata": {},
   "outputs": [
    {
     "data": {
      "text/plain": [
       "<tf.Operation 'init_1' type=NoOp>"
      ]
     },
     "execution_count": 8,
     "metadata": {},
     "output_type": "execute_result"
    }
   ],
   "source": []
  },
  {
   "cell_type": "code",
   "execution_count": 12,
   "metadata": {},
   "outputs": [
    {
     "name": "stdout",
     "output_type": "stream",
     "text": [
      "[]\n"
     ]
    }
   ],
   "source": [
    "with tf.Session() as sess:\n",
    "    sess.run(tf.global_variables_initializer())\n",
    "    print(sess.run(tf.report_uninitialized_variables()))"
   ]
  },
  {
   "cell_type": "code",
   "execution_count": 21,
   "metadata": {},
   "outputs": [
    {
     "name": "stdout",
     "output_type": "stream",
     "text": [
      "2.0\n"
     ]
    }
   ],
   "source": [
    "with tf.Session() as sess:\n",
    "    with tf.variable_scope(tf.get_variable_scope(), reuse=True):\n",
    "        v = tf.get_variable(\"v\", shape=(), initializer=tf.zeros_initializer())\n",
    "        assignment = v.assign_add(1)\n",
    "        assignment2 = v.assign_add(2)\n",
    "        sess.run(tf.global_variables_initializer())\n",
    "        with tf.control_dependencies([assignment2]):\n",
    "            w = v.read_value()\n",
    "            print(sess.run(w))"
   ]
  }
 ],
 "metadata": {
  "kernelspec": {
   "display_name": "Python 3",
   "language": "python",
   "name": "python3"
  },
  "language_info": {
   "codemirror_mode": {
    "name": "ipython",
    "version": 3
   },
   "file_extension": ".py",
   "mimetype": "text/x-python",
   "name": "python",
   "nbconvert_exporter": "python",
   "pygments_lexer": "ipython3",
   "version": "3.6.3"
  }
 },
 "nbformat": 4,
 "nbformat_minor": 2
}
