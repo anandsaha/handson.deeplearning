{
 "cells": [
  {
   "cell_type": "markdown",
   "metadata": {},
   "source": [
    "## Predicting Churn Rate using ANN\n",
    "\n",
    "\n",
    "We are given bank customers data which suggests if the customer with certain properties left the bank or not. \n",
    "\n",
    "The challenge here is to create a model so that we can predict if a customer with given properties will leave the bank or not.\n",
    "\n",
    "We do this by creating an ANN and training on it."
   ]
  },
  {
   "cell_type": "markdown",
   "metadata": {},
   "source": [
    "### Step 1: Prepare the data"
   ]
  },
  {
   "cell_type": "code",
   "execution_count": 1,
   "metadata": {
    "collapsed": true
   },
   "outputs": [],
   "source": [
    "import numpy as np\n",
    "import matplotlib.pyplot as plt\n",
    "import pandas as pd"
   ]
  },
  {
   "cell_type": "code",
   "execution_count": 2,
   "metadata": {
    "collapsed": true
   },
   "outputs": [],
   "source": [
    "dataset = pd.read_csv('data/Churn_Modelling.csv')"
   ]
  },
  {
   "cell_type": "code",
   "execution_count": 3,
   "metadata": {},
   "outputs": [
    {
     "data": {
      "text/html": [
       "<div>\n",
       "<table border=\"1\" class=\"dataframe\">\n",
       "  <thead>\n",
       "    <tr style=\"text-align: right;\">\n",
       "      <th></th>\n",
       "      <th>RowNumber</th>\n",
       "      <th>CustomerId</th>\n",
       "      <th>CreditScore</th>\n",
       "      <th>Age</th>\n",
       "      <th>Tenure</th>\n",
       "      <th>Balance</th>\n",
       "      <th>NumOfProducts</th>\n",
       "      <th>HasCrCard</th>\n",
       "      <th>IsActiveMember</th>\n",
       "      <th>EstimatedSalary</th>\n",
       "      <th>Exited</th>\n",
       "    </tr>\n",
       "  </thead>\n",
       "  <tbody>\n",
       "    <tr>\n",
       "      <th>count</th>\n",
       "      <td>10000.00000</td>\n",
       "      <td>1.000000e+04</td>\n",
       "      <td>10000.000000</td>\n",
       "      <td>10000.000000</td>\n",
       "      <td>10000.000000</td>\n",
       "      <td>10000.000000</td>\n",
       "      <td>10000.000000</td>\n",
       "      <td>10000.00000</td>\n",
       "      <td>10000.000000</td>\n",
       "      <td>10000.000000</td>\n",
       "      <td>10000.000000</td>\n",
       "    </tr>\n",
       "    <tr>\n",
       "      <th>mean</th>\n",
       "      <td>5000.50000</td>\n",
       "      <td>1.569094e+07</td>\n",
       "      <td>650.528800</td>\n",
       "      <td>38.921800</td>\n",
       "      <td>5.012800</td>\n",
       "      <td>76485.889288</td>\n",
       "      <td>1.530200</td>\n",
       "      <td>0.70550</td>\n",
       "      <td>0.515100</td>\n",
       "      <td>100090.239881</td>\n",
       "      <td>0.203700</td>\n",
       "    </tr>\n",
       "    <tr>\n",
       "      <th>std</th>\n",
       "      <td>2886.89568</td>\n",
       "      <td>7.193619e+04</td>\n",
       "      <td>96.653299</td>\n",
       "      <td>10.487806</td>\n",
       "      <td>2.892174</td>\n",
       "      <td>62397.405202</td>\n",
       "      <td>0.581654</td>\n",
       "      <td>0.45584</td>\n",
       "      <td>0.499797</td>\n",
       "      <td>57510.492818</td>\n",
       "      <td>0.402769</td>\n",
       "    </tr>\n",
       "    <tr>\n",
       "      <th>min</th>\n",
       "      <td>1.00000</td>\n",
       "      <td>1.556570e+07</td>\n",
       "      <td>350.000000</td>\n",
       "      <td>18.000000</td>\n",
       "      <td>0.000000</td>\n",
       "      <td>0.000000</td>\n",
       "      <td>1.000000</td>\n",
       "      <td>0.00000</td>\n",
       "      <td>0.000000</td>\n",
       "      <td>11.580000</td>\n",
       "      <td>0.000000</td>\n",
       "    </tr>\n",
       "    <tr>\n",
       "      <th>25%</th>\n",
       "      <td>2500.75000</td>\n",
       "      <td>1.562853e+07</td>\n",
       "      <td>584.000000</td>\n",
       "      <td>32.000000</td>\n",
       "      <td>3.000000</td>\n",
       "      <td>0.000000</td>\n",
       "      <td>1.000000</td>\n",
       "      <td>0.00000</td>\n",
       "      <td>0.000000</td>\n",
       "      <td>51002.110000</td>\n",
       "      <td>0.000000</td>\n",
       "    </tr>\n",
       "    <tr>\n",
       "      <th>50%</th>\n",
       "      <td>5000.50000</td>\n",
       "      <td>1.569074e+07</td>\n",
       "      <td>652.000000</td>\n",
       "      <td>37.000000</td>\n",
       "      <td>5.000000</td>\n",
       "      <td>97198.540000</td>\n",
       "      <td>1.000000</td>\n",
       "      <td>1.00000</td>\n",
       "      <td>1.000000</td>\n",
       "      <td>100193.915000</td>\n",
       "      <td>0.000000</td>\n",
       "    </tr>\n",
       "    <tr>\n",
       "      <th>75%</th>\n",
       "      <td>7500.25000</td>\n",
       "      <td>1.575323e+07</td>\n",
       "      <td>718.000000</td>\n",
       "      <td>44.000000</td>\n",
       "      <td>7.000000</td>\n",
       "      <td>127644.240000</td>\n",
       "      <td>2.000000</td>\n",
       "      <td>1.00000</td>\n",
       "      <td>1.000000</td>\n",
       "      <td>149388.247500</td>\n",
       "      <td>0.000000</td>\n",
       "    </tr>\n",
       "    <tr>\n",
       "      <th>max</th>\n",
       "      <td>10000.00000</td>\n",
       "      <td>1.581569e+07</td>\n",
       "      <td>850.000000</td>\n",
       "      <td>92.000000</td>\n",
       "      <td>10.000000</td>\n",
       "      <td>250898.090000</td>\n",
       "      <td>4.000000</td>\n",
       "      <td>1.00000</td>\n",
       "      <td>1.000000</td>\n",
       "      <td>199992.480000</td>\n",
       "      <td>1.000000</td>\n",
       "    </tr>\n",
       "  </tbody>\n",
       "</table>\n",
       "</div>"
      ],
      "text/plain": [
       "         RowNumber    CustomerId   CreditScore           Age        Tenure  \\\n",
       "count  10000.00000  1.000000e+04  10000.000000  10000.000000  10000.000000   \n",
       "mean    5000.50000  1.569094e+07    650.528800     38.921800      5.012800   \n",
       "std     2886.89568  7.193619e+04     96.653299     10.487806      2.892174   \n",
       "min        1.00000  1.556570e+07    350.000000     18.000000      0.000000   \n",
       "25%     2500.75000  1.562853e+07    584.000000     32.000000      3.000000   \n",
       "50%     5000.50000  1.569074e+07    652.000000     37.000000      5.000000   \n",
       "75%     7500.25000  1.575323e+07    718.000000     44.000000      7.000000   \n",
       "max    10000.00000  1.581569e+07    850.000000     92.000000     10.000000   \n",
       "\n",
       "             Balance  NumOfProducts    HasCrCard  IsActiveMember  \\\n",
       "count   10000.000000   10000.000000  10000.00000    10000.000000   \n",
       "mean    76485.889288       1.530200      0.70550        0.515100   \n",
       "std     62397.405202       0.581654      0.45584        0.499797   \n",
       "min         0.000000       1.000000      0.00000        0.000000   \n",
       "25%         0.000000       1.000000      0.00000        0.000000   \n",
       "50%     97198.540000       1.000000      1.00000        1.000000   \n",
       "75%    127644.240000       2.000000      1.00000        1.000000   \n",
       "max    250898.090000       4.000000      1.00000        1.000000   \n",
       "\n",
       "       EstimatedSalary        Exited  \n",
       "count     10000.000000  10000.000000  \n",
       "mean     100090.239881      0.203700  \n",
       "std       57510.492818      0.402769  \n",
       "min          11.580000      0.000000  \n",
       "25%       51002.110000      0.000000  \n",
       "50%      100193.915000      0.000000  \n",
       "75%      149388.247500      0.000000  \n",
       "max      199992.480000      1.000000  "
      ]
     },
     "execution_count": 3,
     "metadata": {},
     "output_type": "execute_result"
    }
   ],
   "source": [
    "dataset.describe()"
   ]
  },
  {
   "cell_type": "code",
   "execution_count": 4,
   "metadata": {},
   "outputs": [
    {
     "data": {
      "text/html": [
       "<div>\n",
       "<table border=\"1\" class=\"dataframe\">\n",
       "  <thead>\n",
       "    <tr style=\"text-align: right;\">\n",
       "      <th></th>\n",
       "      <th>RowNumber</th>\n",
       "      <th>CustomerId</th>\n",
       "      <th>Surname</th>\n",
       "      <th>CreditScore</th>\n",
       "      <th>Geography</th>\n",
       "      <th>Gender</th>\n",
       "      <th>Age</th>\n",
       "      <th>Tenure</th>\n",
       "      <th>Balance</th>\n",
       "      <th>NumOfProducts</th>\n",
       "      <th>HasCrCard</th>\n",
       "      <th>IsActiveMember</th>\n",
       "      <th>EstimatedSalary</th>\n",
       "      <th>Exited</th>\n",
       "    </tr>\n",
       "  </thead>\n",
       "  <tbody>\n",
       "    <tr>\n",
       "      <th>0</th>\n",
       "      <td>1</td>\n",
       "      <td>15634602</td>\n",
       "      <td>Hargrave</td>\n",
       "      <td>619</td>\n",
       "      <td>France</td>\n",
       "      <td>Female</td>\n",
       "      <td>42</td>\n",
       "      <td>2</td>\n",
       "      <td>0.00</td>\n",
       "      <td>1</td>\n",
       "      <td>1</td>\n",
       "      <td>1</td>\n",
       "      <td>101348.88</td>\n",
       "      <td>1</td>\n",
       "    </tr>\n",
       "    <tr>\n",
       "      <th>1</th>\n",
       "      <td>2</td>\n",
       "      <td>15647311</td>\n",
       "      <td>Hill</td>\n",
       "      <td>608</td>\n",
       "      <td>Spain</td>\n",
       "      <td>Female</td>\n",
       "      <td>41</td>\n",
       "      <td>1</td>\n",
       "      <td>83807.86</td>\n",
       "      <td>1</td>\n",
       "      <td>0</td>\n",
       "      <td>1</td>\n",
       "      <td>112542.58</td>\n",
       "      <td>0</td>\n",
       "    </tr>\n",
       "    <tr>\n",
       "      <th>2</th>\n",
       "      <td>3</td>\n",
       "      <td>15619304</td>\n",
       "      <td>Onio</td>\n",
       "      <td>502</td>\n",
       "      <td>France</td>\n",
       "      <td>Female</td>\n",
       "      <td>42</td>\n",
       "      <td>8</td>\n",
       "      <td>159660.80</td>\n",
       "      <td>3</td>\n",
       "      <td>1</td>\n",
       "      <td>0</td>\n",
       "      <td>113931.57</td>\n",
       "      <td>1</td>\n",
       "    </tr>\n",
       "    <tr>\n",
       "      <th>3</th>\n",
       "      <td>4</td>\n",
       "      <td>15701354</td>\n",
       "      <td>Boni</td>\n",
       "      <td>699</td>\n",
       "      <td>France</td>\n",
       "      <td>Female</td>\n",
       "      <td>39</td>\n",
       "      <td>1</td>\n",
       "      <td>0.00</td>\n",
       "      <td>2</td>\n",
       "      <td>0</td>\n",
       "      <td>0</td>\n",
       "      <td>93826.63</td>\n",
       "      <td>0</td>\n",
       "    </tr>\n",
       "    <tr>\n",
       "      <th>4</th>\n",
       "      <td>5</td>\n",
       "      <td>15737888</td>\n",
       "      <td>Mitchell</td>\n",
       "      <td>850</td>\n",
       "      <td>Spain</td>\n",
       "      <td>Female</td>\n",
       "      <td>43</td>\n",
       "      <td>2</td>\n",
       "      <td>125510.82</td>\n",
       "      <td>1</td>\n",
       "      <td>1</td>\n",
       "      <td>1</td>\n",
       "      <td>79084.10</td>\n",
       "      <td>0</td>\n",
       "    </tr>\n",
       "  </tbody>\n",
       "</table>\n",
       "</div>"
      ],
      "text/plain": [
       "   RowNumber  CustomerId   Surname  CreditScore Geography  Gender  Age  \\\n",
       "0          1    15634602  Hargrave          619    France  Female   42   \n",
       "1          2    15647311      Hill          608     Spain  Female   41   \n",
       "2          3    15619304      Onio          502    France  Female   42   \n",
       "3          4    15701354      Boni          699    France  Female   39   \n",
       "4          5    15737888  Mitchell          850     Spain  Female   43   \n",
       "\n",
       "   Tenure    Balance  NumOfProducts  HasCrCard  IsActiveMember  \\\n",
       "0       2       0.00              1          1               1   \n",
       "1       1   83807.86              1          0               1   \n",
       "2       8  159660.80              3          1               0   \n",
       "3       1       0.00              2          0               0   \n",
       "4       2  125510.82              1          1               1   \n",
       "\n",
       "   EstimatedSalary  Exited  \n",
       "0        101348.88       1  \n",
       "1        112542.58       0  \n",
       "2        113931.57       1  \n",
       "3         93826.63       0  \n",
       "4         79084.10       0  "
      ]
     },
     "execution_count": 4,
     "metadata": {},
     "output_type": "execute_result"
    }
   ],
   "source": [
    "dataset.head()"
   ]
  },
  {
   "cell_type": "markdown",
   "metadata": {},
   "source": [
    "* 'Exited' is the lable that we want to predict\n",
    "* We have Surname, Geography, Gender, Exited as categorical variables - they need to be encoded.\n",
    "* Surname will have no bearing on our prediction. We need to delete it.\n",
    "* All values need to be normalized for usage in NN"
   ]
  },
  {
   "cell_type": "code",
   "execution_count": 5,
   "metadata": {
    "collapsed": true
   },
   "outputs": [],
   "source": [
    "# Drop Surname\n",
    "dataset = dataset.drop(['Surname', 'RowNumber', 'CustomerId'], axis = 1)"
   ]
  },
  {
   "cell_type": "code",
   "execution_count": 6,
   "metadata": {},
   "outputs": [
    {
     "data": {
      "text/html": [
       "<div>\n",
       "<table border=\"1\" class=\"dataframe\">\n",
       "  <thead>\n",
       "    <tr style=\"text-align: right;\">\n",
       "      <th></th>\n",
       "      <th>CreditScore</th>\n",
       "      <th>Geography</th>\n",
       "      <th>Gender</th>\n",
       "      <th>Age</th>\n",
       "      <th>Tenure</th>\n",
       "      <th>Balance</th>\n",
       "      <th>NumOfProducts</th>\n",
       "      <th>HasCrCard</th>\n",
       "      <th>IsActiveMember</th>\n",
       "      <th>EstimatedSalary</th>\n",
       "      <th>Exited</th>\n",
       "    </tr>\n",
       "  </thead>\n",
       "  <tbody>\n",
       "    <tr>\n",
       "      <th>0</th>\n",
       "      <td>619</td>\n",
       "      <td>France</td>\n",
       "      <td>Female</td>\n",
       "      <td>42</td>\n",
       "      <td>2</td>\n",
       "      <td>0.00</td>\n",
       "      <td>1</td>\n",
       "      <td>1</td>\n",
       "      <td>1</td>\n",
       "      <td>101348.88</td>\n",
       "      <td>1</td>\n",
       "    </tr>\n",
       "    <tr>\n",
       "      <th>1</th>\n",
       "      <td>608</td>\n",
       "      <td>Spain</td>\n",
       "      <td>Female</td>\n",
       "      <td>41</td>\n",
       "      <td>1</td>\n",
       "      <td>83807.86</td>\n",
       "      <td>1</td>\n",
       "      <td>0</td>\n",
       "      <td>1</td>\n",
       "      <td>112542.58</td>\n",
       "      <td>0</td>\n",
       "    </tr>\n",
       "    <tr>\n",
       "      <th>2</th>\n",
       "      <td>502</td>\n",
       "      <td>France</td>\n",
       "      <td>Female</td>\n",
       "      <td>42</td>\n",
       "      <td>8</td>\n",
       "      <td>159660.80</td>\n",
       "      <td>3</td>\n",
       "      <td>1</td>\n",
       "      <td>0</td>\n",
       "      <td>113931.57</td>\n",
       "      <td>1</td>\n",
       "    </tr>\n",
       "    <tr>\n",
       "      <th>3</th>\n",
       "      <td>699</td>\n",
       "      <td>France</td>\n",
       "      <td>Female</td>\n",
       "      <td>39</td>\n",
       "      <td>1</td>\n",
       "      <td>0.00</td>\n",
       "      <td>2</td>\n",
       "      <td>0</td>\n",
       "      <td>0</td>\n",
       "      <td>93826.63</td>\n",
       "      <td>0</td>\n",
       "    </tr>\n",
       "    <tr>\n",
       "      <th>4</th>\n",
       "      <td>850</td>\n",
       "      <td>Spain</td>\n",
       "      <td>Female</td>\n",
       "      <td>43</td>\n",
       "      <td>2</td>\n",
       "      <td>125510.82</td>\n",
       "      <td>1</td>\n",
       "      <td>1</td>\n",
       "      <td>1</td>\n",
       "      <td>79084.10</td>\n",
       "      <td>0</td>\n",
       "    </tr>\n",
       "  </tbody>\n",
       "</table>\n",
       "</div>"
      ],
      "text/plain": [
       "   CreditScore Geography  Gender  Age  Tenure    Balance  NumOfProducts  \\\n",
       "0          619    France  Female   42       2       0.00              1   \n",
       "1          608     Spain  Female   41       1   83807.86              1   \n",
       "2          502    France  Female   42       8  159660.80              3   \n",
       "3          699    France  Female   39       1       0.00              2   \n",
       "4          850     Spain  Female   43       2  125510.82              1   \n",
       "\n",
       "   HasCrCard  IsActiveMember  EstimatedSalary  Exited  \n",
       "0          1               1        101348.88       1  \n",
       "1          0               1        112542.58       0  \n",
       "2          1               0        113931.57       1  \n",
       "3          0               0         93826.63       0  \n",
       "4          1               1         79084.10       0  "
      ]
     },
     "execution_count": 6,
     "metadata": {},
     "output_type": "execute_result"
    }
   ],
   "source": [
    "dataset.head()"
   ]
  },
  {
   "cell_type": "code",
   "execution_count": 7,
   "metadata": {},
   "outputs": [
    {
     "data": {
      "text/html": [
       "<div>\n",
       "<table border=\"1\" class=\"dataframe\">\n",
       "  <thead>\n",
       "    <tr style=\"text-align: right;\">\n",
       "      <th></th>\n",
       "      <th>CreditScore</th>\n",
       "      <th>Age</th>\n",
       "      <th>Tenure</th>\n",
       "      <th>Balance</th>\n",
       "      <th>NumOfProducts</th>\n",
       "      <th>HasCrCard</th>\n",
       "      <th>IsActiveMember</th>\n",
       "      <th>EstimatedSalary</th>\n",
       "      <th>Exited</th>\n",
       "      <th>Geography_France</th>\n",
       "      <th>Geography_Germany</th>\n",
       "      <th>Geography_Spain</th>\n",
       "      <th>Gender_Female</th>\n",
       "      <th>Gender_Male</th>\n",
       "    </tr>\n",
       "  </thead>\n",
       "  <tbody>\n",
       "    <tr>\n",
       "      <th>0</th>\n",
       "      <td>619</td>\n",
       "      <td>42</td>\n",
       "      <td>2</td>\n",
       "      <td>0.00</td>\n",
       "      <td>1</td>\n",
       "      <td>1</td>\n",
       "      <td>1</td>\n",
       "      <td>101348.88</td>\n",
       "      <td>1</td>\n",
       "      <td>1</td>\n",
       "      <td>0</td>\n",
       "      <td>0</td>\n",
       "      <td>1</td>\n",
       "      <td>0</td>\n",
       "    </tr>\n",
       "    <tr>\n",
       "      <th>1</th>\n",
       "      <td>608</td>\n",
       "      <td>41</td>\n",
       "      <td>1</td>\n",
       "      <td>83807.86</td>\n",
       "      <td>1</td>\n",
       "      <td>0</td>\n",
       "      <td>1</td>\n",
       "      <td>112542.58</td>\n",
       "      <td>0</td>\n",
       "      <td>0</td>\n",
       "      <td>0</td>\n",
       "      <td>1</td>\n",
       "      <td>1</td>\n",
       "      <td>0</td>\n",
       "    </tr>\n",
       "    <tr>\n",
       "      <th>2</th>\n",
       "      <td>502</td>\n",
       "      <td>42</td>\n",
       "      <td>8</td>\n",
       "      <td>159660.80</td>\n",
       "      <td>3</td>\n",
       "      <td>1</td>\n",
       "      <td>0</td>\n",
       "      <td>113931.57</td>\n",
       "      <td>1</td>\n",
       "      <td>1</td>\n",
       "      <td>0</td>\n",
       "      <td>0</td>\n",
       "      <td>1</td>\n",
       "      <td>0</td>\n",
       "    </tr>\n",
       "    <tr>\n",
       "      <th>3</th>\n",
       "      <td>699</td>\n",
       "      <td>39</td>\n",
       "      <td>1</td>\n",
       "      <td>0.00</td>\n",
       "      <td>2</td>\n",
       "      <td>0</td>\n",
       "      <td>0</td>\n",
       "      <td>93826.63</td>\n",
       "      <td>0</td>\n",
       "      <td>1</td>\n",
       "      <td>0</td>\n",
       "      <td>0</td>\n",
       "      <td>1</td>\n",
       "      <td>0</td>\n",
       "    </tr>\n",
       "    <tr>\n",
       "      <th>4</th>\n",
       "      <td>850</td>\n",
       "      <td>43</td>\n",
       "      <td>2</td>\n",
       "      <td>125510.82</td>\n",
       "      <td>1</td>\n",
       "      <td>1</td>\n",
       "      <td>1</td>\n",
       "      <td>79084.10</td>\n",
       "      <td>0</td>\n",
       "      <td>0</td>\n",
       "      <td>0</td>\n",
       "      <td>1</td>\n",
       "      <td>1</td>\n",
       "      <td>0</td>\n",
       "    </tr>\n",
       "  </tbody>\n",
       "</table>\n",
       "</div>"
      ],
      "text/plain": [
       "   CreditScore  Age  Tenure    Balance  NumOfProducts  HasCrCard  \\\n",
       "0          619   42       2       0.00              1          1   \n",
       "1          608   41       1   83807.86              1          0   \n",
       "2          502   42       8  159660.80              3          1   \n",
       "3          699   39       1       0.00              2          0   \n",
       "4          850   43       2  125510.82              1          1   \n",
       "\n",
       "   IsActiveMember  EstimatedSalary  Exited  Geography_France  \\\n",
       "0               1        101348.88       1                 1   \n",
       "1               1        112542.58       0                 0   \n",
       "2               0        113931.57       1                 1   \n",
       "3               0         93826.63       0                 1   \n",
       "4               1         79084.10       0                 0   \n",
       "\n",
       "   Geography_Germany  Geography_Spain  Gender_Female  Gender_Male  \n",
       "0                  0                0              1            0  \n",
       "1                  0                1              1            0  \n",
       "2                  0                0              1            0  \n",
       "3                  0                0              1            0  \n",
       "4                  0                1              1            0  "
      ]
     },
     "execution_count": 7,
     "metadata": {},
     "output_type": "execute_result"
    }
   ],
   "source": [
    "# Encode the categorical variables\n",
    "dataset = pd.get_dummies(dataset)\n",
    "dataset.head()"
   ]
  },
  {
   "cell_type": "code",
   "execution_count": 8,
   "metadata": {},
   "outputs": [
    {
     "data": {
      "text/html": [
       "<div>\n",
       "<table border=\"1\" class=\"dataframe\">\n",
       "  <thead>\n",
       "    <tr style=\"text-align: right;\">\n",
       "      <th></th>\n",
       "      <th>CreditScore</th>\n",
       "      <th>Age</th>\n",
       "      <th>Tenure</th>\n",
       "      <th>Balance</th>\n",
       "      <th>NumOfProducts</th>\n",
       "      <th>HasCrCard</th>\n",
       "      <th>IsActiveMember</th>\n",
       "      <th>EstimatedSalary</th>\n",
       "      <th>Exited</th>\n",
       "      <th>Geography_France</th>\n",
       "      <th>Geography_Germany</th>\n",
       "      <th>Gender_Female</th>\n",
       "    </tr>\n",
       "  </thead>\n",
       "  <tbody>\n",
       "    <tr>\n",
       "      <th>0</th>\n",
       "      <td>619</td>\n",
       "      <td>42</td>\n",
       "      <td>2</td>\n",
       "      <td>0.00</td>\n",
       "      <td>1</td>\n",
       "      <td>1</td>\n",
       "      <td>1</td>\n",
       "      <td>101348.88</td>\n",
       "      <td>1</td>\n",
       "      <td>1</td>\n",
       "      <td>0</td>\n",
       "      <td>1</td>\n",
       "    </tr>\n",
       "    <tr>\n",
       "      <th>1</th>\n",
       "      <td>608</td>\n",
       "      <td>41</td>\n",
       "      <td>1</td>\n",
       "      <td>83807.86</td>\n",
       "      <td>1</td>\n",
       "      <td>0</td>\n",
       "      <td>1</td>\n",
       "      <td>112542.58</td>\n",
       "      <td>0</td>\n",
       "      <td>0</td>\n",
       "      <td>0</td>\n",
       "      <td>1</td>\n",
       "    </tr>\n",
       "    <tr>\n",
       "      <th>2</th>\n",
       "      <td>502</td>\n",
       "      <td>42</td>\n",
       "      <td>8</td>\n",
       "      <td>159660.80</td>\n",
       "      <td>3</td>\n",
       "      <td>1</td>\n",
       "      <td>0</td>\n",
       "      <td>113931.57</td>\n",
       "      <td>1</td>\n",
       "      <td>1</td>\n",
       "      <td>0</td>\n",
       "      <td>1</td>\n",
       "    </tr>\n",
       "    <tr>\n",
       "      <th>3</th>\n",
       "      <td>699</td>\n",
       "      <td>39</td>\n",
       "      <td>1</td>\n",
       "      <td>0.00</td>\n",
       "      <td>2</td>\n",
       "      <td>0</td>\n",
       "      <td>0</td>\n",
       "      <td>93826.63</td>\n",
       "      <td>0</td>\n",
       "      <td>1</td>\n",
       "      <td>0</td>\n",
       "      <td>1</td>\n",
       "    </tr>\n",
       "    <tr>\n",
       "      <th>4</th>\n",
       "      <td>850</td>\n",
       "      <td>43</td>\n",
       "      <td>2</td>\n",
       "      <td>125510.82</td>\n",
       "      <td>1</td>\n",
       "      <td>1</td>\n",
       "      <td>1</td>\n",
       "      <td>79084.10</td>\n",
       "      <td>0</td>\n",
       "      <td>0</td>\n",
       "      <td>0</td>\n",
       "      <td>1</td>\n",
       "    </tr>\n",
       "  </tbody>\n",
       "</table>\n",
       "</div>"
      ],
      "text/plain": [
       "   CreditScore  Age  Tenure    Balance  NumOfProducts  HasCrCard  \\\n",
       "0          619   42       2       0.00              1          1   \n",
       "1          608   41       1   83807.86              1          0   \n",
       "2          502   42       8  159660.80              3          1   \n",
       "3          699   39       1       0.00              2          0   \n",
       "4          850   43       2  125510.82              1          1   \n",
       "\n",
       "   IsActiveMember  EstimatedSalary  Exited  Geography_France  \\\n",
       "0               1        101348.88       1                 1   \n",
       "1               1        112542.58       0                 0   \n",
       "2               0        113931.57       1                 1   \n",
       "3               0         93826.63       0                 1   \n",
       "4               1         79084.10       0                 0   \n",
       "\n",
       "   Geography_Germany  Gender_Female  \n",
       "0                  0              1  \n",
       "1                  0              1  \n",
       "2                  0              1  \n",
       "3                  0              1  \n",
       "4                  0              1  "
      ]
     },
     "execution_count": 8,
     "metadata": {},
     "output_type": "execute_result"
    }
   ],
   "source": [
    "# To avoid the dummy variable trap, we need to delete 1 column for each of the dummy variable column collection\n",
    "dataset = dataset.drop('Geography_Spain', axis = 1)\n",
    "dataset = dataset.drop('Gender_Male', axis = 1)\n",
    "dataset.head()"
   ]
  },
  {
   "cell_type": "code",
   "execution_count": 9,
   "metadata": {
    "collapsed": true
   },
   "outputs": [],
   "source": [
    "# Split the data into dependent and independent variables\n",
    "y = dataset['Exited'].values\n",
    "dataset = dataset.drop(['Exited'], axis = 1)\n",
    "X = dataset.iloc[:, :].values"
   ]
  },
  {
   "cell_type": "code",
   "execution_count": 10,
   "metadata": {
    "collapsed": true
   },
   "outputs": [],
   "source": [
    "# Split the data into training and testing sets\n",
    "from sklearn.model_selection import train_test_split\n",
    "\n",
    "X_train, X_test, y_train, y_test = train_test_split(X, y, test_size=0.2)"
   ]
  },
  {
   "cell_type": "code",
   "execution_count": 11,
   "metadata": {
    "collapsed": true
   },
   "outputs": [],
   "source": [
    "# Feature Scaling\n",
    "from sklearn.preprocessing import StandardScaler\n",
    "sc = StandardScaler()\n",
    "X_train = sc.fit_transform(X_train)\n",
    "X_test = sc.transform(X_test)"
   ]
  },
  {
   "cell_type": "markdown",
   "metadata": {},
   "source": [
    "### Step 2: Create the NN and train the model \n",
    "\n",
    "(Without using KFold cross validation. That is done in Step 2a.)\n",
    "\n",
    "We will create a model with two hidden layers (with 6 nodes each)"
   ]
  },
  {
   "cell_type": "code",
   "execution_count": 12,
   "metadata": {},
   "outputs": [
    {
     "name": "stderr",
     "output_type": "stream",
     "text": [
      "Using Theano backend.\n",
      "Using cuDNN version 5110 on context None\n",
      "Mapped name None to device cuda: GeForce GTX 1080 Ti (0000:23:00.0)\n"
     ]
    }
   ],
   "source": [
    "import keras\n",
    "from keras.models import Sequential\n",
    "from keras.layers import Dense"
   ]
  },
  {
   "cell_type": "code",
   "execution_count": 13,
   "metadata": {
    "collapsed": true
   },
   "outputs": [],
   "source": [
    "# Create the NN (it is classifier for us)\n",
    "classifier = Sequential()"
   ]
  },
  {
   "cell_type": "code",
   "execution_count": 14,
   "metadata": {
    "collapsed": true
   },
   "outputs": [],
   "source": [
    "# Create the layers\n",
    "classifier.add(Dense(units = 6, activation = 'relu', kernel_initializer='uniform', input_dim=11))\n",
    "classifier.add(Dense(units = 6, activation = 'relu', kernel_initializer='uniform'))\n",
    "classifier.add(Dense(units = 1, activation = 'sigmoid', kernel_initializer='uniform'))"
   ]
  },
  {
   "cell_type": "code",
   "execution_count": 15,
   "metadata": {
    "collapsed": true
   },
   "outputs": [],
   "source": [
    "classifier.compile(optimizer='adam', loss='binary_crossentropy', metrics = ['accuracy'])"
   ]
  },
  {
   "cell_type": "code",
   "execution_count": 16,
   "metadata": {},
   "outputs": [
    {
     "name": "stdout",
     "output_type": "stream",
     "text": [
      "Epoch 1/100\n",
      "8000/8000 [==============================] - 0s - loss: 0.4874 - acc: 0.7921     \n",
      "Epoch 2/100\n",
      "8000/8000 [==============================] - 0s - loss: 0.4241 - acc: 0.7927     \n",
      "Epoch 3/100\n",
      "8000/8000 [==============================] - 0s - loss: 0.4140 - acc: 0.8017     \n",
      "Epoch 4/100\n",
      "8000/8000 [==============================] - 0s - loss: 0.4042 - acc: 0.8266     \n",
      "Epoch 5/100\n",
      "8000/8000 [==============================] - 0s - loss: 0.3904 - acc: 0.8304     \n",
      "Epoch 6/100\n",
      "8000/8000 [==============================] - 0s - loss: 0.3816 - acc: 0.8385     \n",
      "Epoch 7/100\n",
      "8000/8000 [==============================] - 0s - loss: 0.3770 - acc: 0.8430     \n",
      "Epoch 8/100\n",
      "8000/8000 [==============================] - 0s - loss: 0.3734 - acc: 0.8470     \n",
      "Epoch 9/100\n",
      "8000/8000 [==============================] - 0s - loss: 0.3721 - acc: 0.8459     \n",
      "Epoch 10/100\n",
      "8000/8000 [==============================] - 0s - loss: 0.3694 - acc: 0.8484     \n",
      "Epoch 11/100\n",
      "8000/8000 [==============================] - 0s - loss: 0.3682 - acc: 0.8471     \n",
      "Epoch 12/100\n",
      "8000/8000 [==============================] - 0s - loss: 0.3664 - acc: 0.8491     \n",
      "Epoch 13/100\n",
      "8000/8000 [==============================] - 0s - loss: 0.3656 - acc: 0.8525     - ETA: 0s - loss: 0.3508 - ac\n",
      "Epoch 14/100\n",
      "8000/8000 [==============================] - 0s - loss: 0.3646 - acc: 0.8494     \n",
      "Epoch 15/100\n",
      "8000/8000 [==============================] - 0s - loss: 0.3638 - acc: 0.8511     \n",
      "Epoch 16/100\n",
      "8000/8000 [==============================] - 0s - loss: 0.3631 - acc: 0.8489     \n",
      "Epoch 17/100\n",
      "8000/8000 [==============================] - 0s - loss: 0.3615 - acc: 0.8505     \n",
      "Epoch 18/100\n",
      "8000/8000 [==============================] - 0s - loss: 0.3600 - acc: 0.8507     \n",
      "Epoch 19/100\n",
      "8000/8000 [==============================] - 0s - loss: 0.3585 - acc: 0.8532     \n",
      "Epoch 20/100\n",
      "8000/8000 [==============================] - 0s - loss: 0.3571 - acc: 0.8510     \n",
      "Epoch 21/100\n",
      "8000/8000 [==============================] - 0s - loss: 0.3561 - acc: 0.8510     \n",
      "Epoch 22/100\n",
      "8000/8000 [==============================] - 0s - loss: 0.3557 - acc: 0.8550     \n",
      "Epoch 23/100\n",
      "8000/8000 [==============================] - 0s - loss: 0.3532 - acc: 0.8556     \n",
      "Epoch 24/100\n",
      "8000/8000 [==============================] - 0s - loss: 0.3534 - acc: 0.8529     \n",
      "Epoch 25/100\n",
      "8000/8000 [==============================] - 0s - loss: 0.3529 - acc: 0.8550     \n",
      "Epoch 26/100\n",
      "8000/8000 [==============================] - 0s - loss: 0.3516 - acc: 0.8577     \n",
      "Epoch 27/100\n",
      "8000/8000 [==============================] - 0s - loss: 0.3526 - acc: 0.8557     \n",
      "Epoch 28/100\n",
      "8000/8000 [==============================] - 0s - loss: 0.3510 - acc: 0.8585     - ETA: 0s - loss: 0.3601 - ac\n",
      "Epoch 29/100\n",
      "8000/8000 [==============================] - 0s - loss: 0.3513 - acc: 0.8569     \n",
      "Epoch 30/100\n",
      "8000/8000 [==============================] - 0s - loss: 0.3508 - acc: 0.8539     \n",
      "Epoch 31/100\n",
      "8000/8000 [==============================] - 0s - loss: 0.3495 - acc: 0.8587     \n",
      "Epoch 32/100\n",
      "8000/8000 [==============================] - 0s - loss: 0.3499 - acc: 0.8560     \n",
      "Epoch 33/100\n",
      "8000/8000 [==============================] - 0s - loss: 0.3496 - acc: 0.8575     \n",
      "Epoch 34/100\n",
      "8000/8000 [==============================] - 0s - loss: 0.3481 - acc: 0.8574     \n",
      "Epoch 35/100\n",
      "8000/8000 [==============================] - 0s - loss: 0.3489 - acc: 0.8564     \n",
      "Epoch 36/100\n",
      "8000/8000 [==============================] - 0s - loss: 0.3485 - acc: 0.8555     \n",
      "Epoch 37/100\n",
      "8000/8000 [==============================] - 0s - loss: 0.3472 - acc: 0.8592     \n",
      "Epoch 38/100\n",
      "8000/8000 [==============================] - 0s - loss: 0.3462 - acc: 0.8581     \n",
      "Epoch 39/100\n",
      "8000/8000 [==============================] - 0s - loss: 0.3478 - acc: 0.8562     \n",
      "Epoch 40/100\n",
      "8000/8000 [==============================] - 0s - loss: 0.3475 - acc: 0.8574     \n",
      "Epoch 41/100\n",
      "8000/8000 [==============================] - 0s - loss: 0.3467 - acc: 0.8545     \n",
      "Epoch 42/100\n",
      "8000/8000 [==============================] - 0s - loss: 0.3473 - acc: 0.8556     \n",
      "Epoch 43/100\n",
      "8000/8000 [==============================] - 0s - loss: 0.3465 - acc: 0.8580     \n",
      "Epoch 44/100\n",
      "8000/8000 [==============================] - 0s - loss: 0.3458 - acc: 0.8567     \n",
      "Epoch 45/100\n",
      "8000/8000 [==============================] - 0s - loss: 0.3456 - acc: 0.8576     \n",
      "Epoch 46/100\n",
      "8000/8000 [==============================] - 0s - loss: 0.3462 - acc: 0.8579     \n",
      "Epoch 47/100\n",
      "8000/8000 [==============================] - 0s - loss: 0.3460 - acc: 0.8567     \n",
      "Epoch 48/100\n",
      "8000/8000 [==============================] - 0s - loss: 0.3454 - acc: 0.8572     \n",
      "Epoch 49/100\n",
      "8000/8000 [==============================] - 0s - loss: 0.3451 - acc: 0.8556     \n",
      "Epoch 50/100\n",
      "8000/8000 [==============================] - 0s - loss: 0.3461 - acc: 0.8574     \n",
      "Epoch 51/100\n",
      "8000/8000 [==============================] - 0s - loss: 0.3462 - acc: 0.8555     \n",
      "Epoch 52/100\n",
      "8000/8000 [==============================] - 0s - loss: 0.3449 - acc: 0.8557     \n",
      "Epoch 53/100\n",
      "8000/8000 [==============================] - 0s - loss: 0.3438 - acc: 0.8564     \n",
      "Epoch 54/100\n",
      "8000/8000 [==============================] - 0s - loss: 0.3436 - acc: 0.8570     \n",
      "Epoch 55/100\n",
      "8000/8000 [==============================] - 0s - loss: 0.3453 - acc: 0.8579     \n",
      "Epoch 56/100\n",
      "8000/8000 [==============================] - 0s - loss: 0.3448 - acc: 0.8570     \n",
      "Epoch 57/100\n",
      "8000/8000 [==============================] - 0s - loss: 0.3439 - acc: 0.8560     \n",
      "Epoch 58/100\n",
      "8000/8000 [==============================] - 0s - loss: 0.3448 - acc: 0.8574     \n",
      "Epoch 59/100\n",
      "8000/8000 [==============================] - 0s - loss: 0.3451 - acc: 0.8555     \n",
      "Epoch 60/100\n",
      "8000/8000 [==============================] - 0s - loss: 0.3444 - acc: 0.8567     \n",
      "Epoch 61/100\n",
      "8000/8000 [==============================] - 0s - loss: 0.3443 - acc: 0.8570     \n",
      "Epoch 62/100\n",
      "8000/8000 [==============================] - 0s - loss: 0.3438 - acc: 0.8571     \n",
      "Epoch 63/100\n",
      "8000/8000 [==============================] - 0s - loss: 0.3450 - acc: 0.8582     \n",
      "Epoch 64/100\n",
      "8000/8000 [==============================] - 0s - loss: 0.3446 - acc: 0.8572     \n",
      "Epoch 65/100\n",
      "8000/8000 [==============================] - 0s - loss: 0.3440 - acc: 0.8570     \n",
      "Epoch 66/100\n",
      "8000/8000 [==============================] - 0s - loss: 0.3442 - acc: 0.8529     \n",
      "Epoch 67/100\n",
      "8000/8000 [==============================] - 0s - loss: 0.3446 - acc: 0.8569     \n",
      "Epoch 68/100\n",
      "8000/8000 [==============================] - 0s - loss: 0.3458 - acc: 0.8566     \n",
      "Epoch 69/100\n",
      "8000/8000 [==============================] - 0s - loss: 0.3440 - acc: 0.8572     \n",
      "Epoch 70/100\n",
      "8000/8000 [==============================] - 0s - loss: 0.3442 - acc: 0.8574     \n",
      "Epoch 71/100\n",
      "8000/8000 [==============================] - 0s - loss: 0.3444 - acc: 0.8567     \n",
      "Epoch 72/100\n",
      "8000/8000 [==============================] - 0s - loss: 0.3439 - acc: 0.8587     \n",
      "Epoch 73/100\n",
      "8000/8000 [==============================] - 0s - loss: 0.3439 - acc: 0.8575     \n",
      "Epoch 74/100\n",
      "8000/8000 [==============================] - 0s - loss: 0.3438 - acc: 0.8590     \n",
      "Epoch 75/100\n",
      "8000/8000 [==============================] - 0s - loss: 0.3437 - acc: 0.8572     \n",
      "Epoch 76/100\n",
      "8000/8000 [==============================] - 0s - loss: 0.3433 - acc: 0.8572     \n",
      "Epoch 77/100\n",
      "8000/8000 [==============================] - 0s - loss: 0.3445 - acc: 0.8579     \n",
      "Epoch 78/100\n",
      "8000/8000 [==============================] - 0s - loss: 0.3430 - acc: 0.8590     \n",
      "Epoch 79/100\n",
      "8000/8000 [==============================] - 0s - loss: 0.3440 - acc: 0.8561     \n",
      "Epoch 80/100\n",
      "8000/8000 [==============================] - 0s - loss: 0.3438 - acc: 0.8584     \n",
      "Epoch 81/100\n",
      "8000/8000 [==============================] - 0s - loss: 0.3433 - acc: 0.8560     \n",
      "Epoch 82/100\n",
      "8000/8000 [==============================] - 0s - loss: 0.3438 - acc: 0.8566     \n",
      "Epoch 83/100\n",
      "8000/8000 [==============================] - 0s - loss: 0.3440 - acc: 0.8571     \n",
      "Epoch 84/100\n",
      "8000/8000 [==============================] - 0s - loss: 0.3431 - acc: 0.8561     \n",
      "Epoch 85/100\n",
      "8000/8000 [==============================] - 0s - loss: 0.3439 - acc: 0.8572     \n",
      "Epoch 86/100\n"
     ]
    },
    {
     "name": "stdout",
     "output_type": "stream",
     "text": [
      "8000/8000 [==============================] - 0s - loss: 0.3436 - acc: 0.8567     \n",
      "Epoch 87/100\n",
      "8000/8000 [==============================] - 0s - loss: 0.3434 - acc: 0.8566     \n",
      "Epoch 88/100\n",
      "8000/8000 [==============================] - 0s - loss: 0.3436 - acc: 0.8581     \n",
      "Epoch 89/100\n",
      "8000/8000 [==============================] - 0s - loss: 0.3429 - acc: 0.8590     \n",
      "Epoch 90/100\n",
      "8000/8000 [==============================] - 0s - loss: 0.3433 - acc: 0.8569     \n",
      "Epoch 91/100\n",
      "8000/8000 [==============================] - 0s - loss: 0.3430 - acc: 0.8571     \n",
      "Epoch 92/100\n",
      "8000/8000 [==============================] - 0s - loss: 0.3431 - acc: 0.8579     \n",
      "Epoch 93/100\n",
      "8000/8000 [==============================] - 0s - loss: 0.3434 - acc: 0.8592     \n",
      "Epoch 94/100\n",
      "8000/8000 [==============================] - 0s - loss: 0.3432 - acc: 0.8569     \n",
      "Epoch 95/100\n",
      "8000/8000 [==============================] - 0s - loss: 0.3433 - acc: 0.8582     \n",
      "Epoch 96/100\n",
      "8000/8000 [==============================] - 0s - loss: 0.3434 - acc: 0.8582     \n",
      "Epoch 97/100\n",
      "8000/8000 [==============================] - 0s - loss: 0.3422 - acc: 0.8561     \n",
      "Epoch 98/100\n",
      "8000/8000 [==============================] - 0s - loss: 0.3438 - acc: 0.8584     \n",
      "Epoch 99/100\n",
      "8000/8000 [==============================] - 0s - loss: 0.3434 - acc: 0.8576     \n",
      "Epoch 100/100\n",
      "8000/8000 [==============================] - 0s - loss: 0.3439 - acc: 0.8572     \n"
     ]
    },
    {
     "data": {
      "text/plain": [
       "<keras.callbacks.History at 0x7f08449619e8>"
      ]
     },
     "execution_count": 16,
     "metadata": {},
     "output_type": "execute_result"
    }
   ],
   "source": [
    "classifier.fit(X_train, y_train, batch_size=10, epochs=100)"
   ]
  },
  {
   "cell_type": "markdown",
   "metadata": {},
   "source": [
    "### Step 3: Evaluate the model"
   ]
  },
  {
   "cell_type": "code",
   "execution_count": 17,
   "metadata": {},
   "outputs": [
    {
     "name": "stdout",
     "output_type": "stream",
     "text": [
      "[[1526   95]\n",
      " [ 165  214]]\n"
     ]
    }
   ],
   "source": [
    "y_pred = classifier.predict(X_test)\n",
    "y_pred = (y_pred > 0.5)\n",
    "\n",
    "# Making the Confusion Matrix\n",
    "from sklearn.metrics import confusion_matrix\n",
    "cm = confusion_matrix(y_test, y_pred)\n",
    "print (cm)"
   ]
  },
  {
   "cell_type": "code",
   "execution_count": 18,
   "metadata": {},
   "outputs": [
    {
     "data": {
      "text/plain": [
       "0.87"
      ]
     },
     "execution_count": 18,
     "metadata": {},
     "output_type": "execute_result"
    }
   ],
   "source": [
    "# Use Accuracy score\n",
    "from sklearn.metrics import accuracy_score\n",
    "accuracy_score(y_pred, y_test)"
   ]
  },
  {
   "cell_type": "markdown",
   "metadata": {},
   "source": [
    "### Step 4: How would the accuracy be with a traditional classifier?"
   ]
  },
  {
   "cell_type": "code",
   "execution_count": 19,
   "metadata": {},
   "outputs": [
    {
     "data": {
      "text/plain": [
       "0.83099999999999996"
      ]
     },
     "execution_count": 19,
     "metadata": {},
     "output_type": "execute_result"
    }
   ],
   "source": [
    "# Logistic Regression\n",
    "from sklearn.linear_model import LogisticRegression\n",
    "lr = LogisticRegression()\n",
    "lr.fit(X_train, y_train)\n",
    "lr.score(X_test, y_test)"
   ]
  },
  {
   "cell_type": "code",
   "execution_count": 20,
   "metadata": {},
   "outputs": [
    {
     "data": {
      "text/plain": [
       "0.87250000000000005"
      ]
     },
     "execution_count": 20,
     "metadata": {},
     "output_type": "execute_result"
    }
   ],
   "source": [
    "# SVC\n",
    "from sklearn.svm import SVC\n",
    "sv = SVC()\n",
    "sv.fit(X_train, y_train)\n",
    "sv.score(X_test, y_test)"
   ]
  },
  {
   "cell_type": "code",
   "execution_count": 21,
   "metadata": {},
   "outputs": [
    {
     "data": {
      "text/plain": [
       "0.85250000000000004"
      ]
     },
     "execution_count": 21,
     "metadata": {},
     "output_type": "execute_result"
    }
   ],
   "source": [
    "# KNN\n",
    "from sklearn.neighbors import KNeighborsClassifier\n",
    "knn = KNeighborsClassifier()\n",
    "knn.fit(X_train, y_train)\n",
    "knn.score(X_test, y_test)"
   ]
  },
  {
   "cell_type": "markdown",
   "metadata": {},
   "source": [
    "### Step 5: Make a prediction"
   ]
  },
  {
   "cell_type": "markdown",
   "metadata": {},
   "source": [
    "Use our ANN model to predict if the customer with the following informations will leave the bank: \n",
    "\n",
    "* Geography: France\n",
    "* Credit Score: 600\n",
    "* Gender: Male\n",
    "* Age: 40 years old\n",
    "* Tenure: 3 years\n",
    "* Balance: \\$60000\n",
    "* Number of Products: 2\n",
    "* Does this customer have a credit card ? Yes\n",
    "* Is this customer an Active Member: Yes\n",
    "* Estimated Salary: \\$50000\n",
    "* So should we say goodbye to that customer ?"
   ]
  },
  {
   "cell_type": "code",
   "execution_count": 22,
   "metadata": {},
   "outputs": [
    {
     "data": {
      "text/plain": [
       "(2000, 11)"
      ]
     },
     "execution_count": 22,
     "metadata": {},
     "output_type": "execute_result"
    }
   ],
   "source": [
    "X_test.shape"
   ]
  },
  {
   "cell_type": "code",
   "execution_count": 23,
   "metadata": {},
   "outputs": [
    {
     "data": {
      "text/plain": [
       "numpy.ndarray"
      ]
     },
     "execution_count": 23,
     "metadata": {},
     "output_type": "execute_result"
    }
   ],
   "source": [
    "type(X_test)"
   ]
  },
  {
   "cell_type": "code",
   "execution_count": 24,
   "metadata": {},
   "outputs": [
    {
     "data": {
      "text/plain": [
       "array([[-0.52659927,  0.0976982 , -0.69360377, -0.26828478,  0.81602636,\n",
       "         0.64512003,  0.97043679, -0.87938236,  0.99476371, -0.57869742,\n",
       "        -0.91670588]])"
      ]
     },
     "execution_count": 24,
     "metadata": {},
     "output_type": "execute_result"
    }
   ],
   "source": [
    "to_pred = sc.transform([[600, 40, 3, 60000, 2, 1, 1, 50000, 1, 0, 0]])\n",
    "ip = np.array(to_pred)\n",
    "ip"
   ]
  },
  {
   "cell_type": "code",
   "execution_count": 25,
   "metadata": {
    "collapsed": true
   },
   "outputs": [],
   "source": [
    "pred = classifier.predict(ip)"
   ]
  },
  {
   "cell_type": "code",
   "execution_count": 26,
   "metadata": {},
   "outputs": [
    {
     "data": {
      "text/plain": [
       "array([[False]], dtype=bool)"
      ]
     },
     "execution_count": 26,
     "metadata": {},
     "output_type": "execute_result"
    }
   ],
   "source": [
    "pred > 0.5"
   ]
  },
  {
   "cell_type": "markdown",
   "metadata": {},
   "source": [
    "Answer: Result is False (Value of Exit?). So customer doesn't leave the bank."
   ]
  },
  {
   "cell_type": "markdown",
   "metadata": {},
   "source": [
    "### Addendum 1: Create the NN and train the model  using KFold Cross Validation\n",
    "\n",
    "Let's now try to apply cross validation to the training of the model to make sure our bias and variance are within acceptable limits."
   ]
  },
  {
   "cell_type": "code",
   "execution_count": 27,
   "metadata": {},
   "outputs": [
    {
     "ename": "JoblibGpuArrayException",
     "evalue": "JoblibGpuArrayException\n___________________________________________________________________________\nMultiprocessing exception:\n...........................................................................\n/home/anand/miniconda3/envs/py35/lib/python3.5/runpy.py in _run_module_as_main(mod_name='ipykernel_launcher', alter_argv=1)\n    188         sys.exit(msg)\n    189     main_globals = sys.modules[\"__main__\"].__dict__\n    190     if alter_argv:\n    191         sys.argv[0] = mod_spec.origin\n    192     return _run_code(code, main_globals, None,\n--> 193                      \"__main__\", mod_spec)\n        mod_spec = ModuleSpec(name='ipykernel_launcher', loader=<_f...b/python3.5/site-packages/ipykernel_launcher.py')\n    194 \n    195 def run_module(mod_name, init_globals=None,\n    196                run_name=None, alter_sys=False):\n    197     \"\"\"Execute a module's code without importing it\n\n...........................................................................\n/home/anand/miniconda3/envs/py35/lib/python3.5/runpy.py in _run_code(code=<code object <module> at 0x7f08a60b3c90, file \"/...3.5/site-packages/ipykernel_launcher.py\", line 5>, run_globals={'__builtins__': <module 'builtins' (built-in)>, '__cached__': '/home/anand/miniconda3/envs/py35/lib/python3.5/s...ges/__pycache__/ipykernel_launcher.cpython-35.pyc', '__doc__': 'Entry point for launching an IPython kernel.\\n\\nTh...orts until\\nafter removing the cwd from sys.path.\\n', '__file__': '/home/anand/miniconda3/envs/py35/lib/python3.5/site-packages/ipykernel_launcher.py', '__loader__': <_frozen_importlib_external.SourceFileLoader object>, '__name__': '__main__', '__package__': '', '__spec__': ModuleSpec(name='ipykernel_launcher', loader=<_f...b/python3.5/site-packages/ipykernel_launcher.py'), 'app': <module 'ipykernel.kernelapp' from '/home/anand/.../python3.5/site-packages/ipykernel/kernelapp.py'>, 'sys': <module 'sys' (built-in)>}, init_globals=None, mod_name='__main__', mod_spec=ModuleSpec(name='ipykernel_launcher', loader=<_f...b/python3.5/site-packages/ipykernel_launcher.py'), pkg_name='', script_name=None)\n     80                        __cached__ = cached,\n     81                        __doc__ = None,\n     82                        __loader__ = loader,\n     83                        __package__ = pkg_name,\n     84                        __spec__ = mod_spec)\n---> 85     exec(code, run_globals)\n        code = <code object <module> at 0x7f08a60b3c90, file \"/...3.5/site-packages/ipykernel_launcher.py\", line 5>\n        run_globals = {'__builtins__': <module 'builtins' (built-in)>, '__cached__': '/home/anand/miniconda3/envs/py35/lib/python3.5/s...ges/__pycache__/ipykernel_launcher.cpython-35.pyc', '__doc__': 'Entry point for launching an IPython kernel.\\n\\nTh...orts until\\nafter removing the cwd from sys.path.\\n', '__file__': '/home/anand/miniconda3/envs/py35/lib/python3.5/site-packages/ipykernel_launcher.py', '__loader__': <_frozen_importlib_external.SourceFileLoader object>, '__name__': '__main__', '__package__': '', '__spec__': ModuleSpec(name='ipykernel_launcher', loader=<_f...b/python3.5/site-packages/ipykernel_launcher.py'), 'app': <module 'ipykernel.kernelapp' from '/home/anand/.../python3.5/site-packages/ipykernel/kernelapp.py'>, 'sys': <module 'sys' (built-in)>}\n     86     return run_globals\n     87 \n     88 def _run_module_code(code, init_globals=None,\n     89                     mod_name=None, mod_spec=None,\n\n...........................................................................\n/home/anand/miniconda3/envs/py35/lib/python3.5/site-packages/ipykernel_launcher.py in <module>()\n     11     # This is added back by InteractiveShellApp.init_path()\n     12     if sys.path[0] == '':\n     13         del sys.path[0]\n     14 \n     15     from ipykernel import kernelapp as app\n---> 16     app.launch_new_instance()\n     17 \n     18 \n     19 \n     20 \n\n...........................................................................\n/home/anand/miniconda3/envs/py35/lib/python3.5/site-packages/traitlets/config/application.py in launch_instance(cls=<class 'ipykernel.kernelapp.IPKernelApp'>, argv=None, **kwargs={})\n    653 \n    654         If a global instance already exists, this reinitializes and starts it\n    655         \"\"\"\n    656         app = cls.instance(**kwargs)\n    657         app.initialize(argv)\n--> 658         app.start()\n        app.start = <bound method IPKernelApp.start of <ipykernel.kernelapp.IPKernelApp object>>\n    659 \n    660 #-----------------------------------------------------------------------------\n    661 # utility functions, for convenience\n    662 #-----------------------------------------------------------------------------\n\n...........................................................................\n/home/anand/miniconda3/envs/py35/lib/python3.5/site-packages/ipykernel/kernelapp.py in start(self=<ipykernel.kernelapp.IPKernelApp object>)\n    472             return self.subapp.start()\n    473         if self.poller is not None:\n    474             self.poller.start()\n    475         self.kernel.start()\n    476         try:\n--> 477             ioloop.IOLoop.instance().start()\n    478         except KeyboardInterrupt:\n    479             pass\n    480 \n    481 launch_new_instance = IPKernelApp.launch_instance\n\n...........................................................................\n/home/anand/miniconda3/envs/py35/lib/python3.5/site-packages/zmq/eventloop/ioloop.py in start(self=<zmq.eventloop.ioloop.ZMQIOLoop object>)\n    172             )\n    173         return loop\n    174     \n    175     def start(self):\n    176         try:\n--> 177             super(ZMQIOLoop, self).start()\n        self.start = <bound method ZMQIOLoop.start of <zmq.eventloop.ioloop.ZMQIOLoop object>>\n    178         except ZMQError as e:\n    179             if e.errno == ETERM:\n    180                 # quietly return on ETERM\n    181                 pass\n\n...........................................................................\n/home/anand/miniconda3/envs/py35/lib/python3.5/site-packages/tornado/ioloop.py in start(self=<zmq.eventloop.ioloop.ZMQIOLoop object>)\n    883                 self._events.update(event_pairs)\n    884                 while self._events:\n    885                     fd, events = self._events.popitem()\n    886                     try:\n    887                         fd_obj, handler_func = self._handlers[fd]\n--> 888                         handler_func(fd_obj, events)\n        handler_func = <function wrap.<locals>.null_wrapper>\n        fd_obj = <zmq.sugar.socket.Socket object>\n        events = 5\n    889                     except (OSError, IOError) as e:\n    890                         if errno_from_exception(e) == errno.EPIPE:\n    891                             # Happens when the client closes the connection\n    892                             pass\n\n...........................................................................\n/home/anand/miniconda3/envs/py35/lib/python3.5/site-packages/tornado/stack_context.py in null_wrapper(*args=(<zmq.sugar.socket.Socket object>, 5), **kwargs={})\n    272         # Fast path when there are no active contexts.\n    273         def null_wrapper(*args, **kwargs):\n    274             try:\n    275                 current_state = _state.contexts\n    276                 _state.contexts = cap_contexts[0]\n--> 277                 return fn(*args, **kwargs)\n        args = (<zmq.sugar.socket.Socket object>, 5)\n        kwargs = {}\n    278             finally:\n    279                 _state.contexts = current_state\n    280         null_wrapper._wrapped = True\n    281         return null_wrapper\n\n...........................................................................\n/home/anand/miniconda3/envs/py35/lib/python3.5/site-packages/zmq/eventloop/zmqstream.py in _handle_events(self=<zmq.eventloop.zmqstream.ZMQStream object>, fd=<zmq.sugar.socket.Socket object>, events=5)\n    435             # dispatch events:\n    436             if events & IOLoop.ERROR:\n    437                 gen_log.error(\"got POLLERR event on ZMQStream, which doesn't make sense\")\n    438                 return\n    439             if events & IOLoop.READ:\n--> 440                 self._handle_recv()\n        self._handle_recv = <bound method ZMQStream._handle_recv of <zmq.eventloop.zmqstream.ZMQStream object>>\n    441                 if not self.socket:\n    442                     return\n    443             if events & IOLoop.WRITE:\n    444                 self._handle_send()\n\n...........................................................................\n/home/anand/miniconda3/envs/py35/lib/python3.5/site-packages/zmq/eventloop/zmqstream.py in _handle_recv(self=<zmq.eventloop.zmqstream.ZMQStream object>)\n    467                 gen_log.error(\"RECV Error: %s\"%zmq.strerror(e.errno))\n    468         else:\n    469             if self._recv_callback:\n    470                 callback = self._recv_callback\n    471                 # self._recv_callback = None\n--> 472                 self._run_callback(callback, msg)\n        self._run_callback = <bound method ZMQStream._run_callback of <zmq.eventloop.zmqstream.ZMQStream object>>\n        callback = <function wrap.<locals>.null_wrapper>\n        msg = [<zmq.sugar.frame.Frame object>, <zmq.sugar.frame.Frame object>, <zmq.sugar.frame.Frame object>, <zmq.sugar.frame.Frame object>, <zmq.sugar.frame.Frame object>, <zmq.sugar.frame.Frame object>, <zmq.sugar.frame.Frame object>]\n    473                 \n    474         # self.update_state()\n    475         \n    476 \n\n...........................................................................\n/home/anand/miniconda3/envs/py35/lib/python3.5/site-packages/zmq/eventloop/zmqstream.py in _run_callback(self=<zmq.eventloop.zmqstream.ZMQStream object>, callback=<function wrap.<locals>.null_wrapper>, *args=([<zmq.sugar.frame.Frame object>, <zmq.sugar.frame.Frame object>, <zmq.sugar.frame.Frame object>, <zmq.sugar.frame.Frame object>, <zmq.sugar.frame.Frame object>, <zmq.sugar.frame.Frame object>, <zmq.sugar.frame.Frame object>],), **kwargs={})\n    409         close our socket.\"\"\"\n    410         try:\n    411             # Use a NullContext to ensure that all StackContexts are run\n    412             # inside our blanket exception handler rather than outside.\n    413             with stack_context.NullContext():\n--> 414                 callback(*args, **kwargs)\n        callback = <function wrap.<locals>.null_wrapper>\n        args = ([<zmq.sugar.frame.Frame object>, <zmq.sugar.frame.Frame object>, <zmq.sugar.frame.Frame object>, <zmq.sugar.frame.Frame object>, <zmq.sugar.frame.Frame object>, <zmq.sugar.frame.Frame object>, <zmq.sugar.frame.Frame object>],)\n        kwargs = {}\n    415         except:\n    416             gen_log.error(\"Uncaught exception, closing connection.\",\n    417                           exc_info=True)\n    418             # Close the socket on an uncaught exception from a user callback\n\n...........................................................................\n/home/anand/miniconda3/envs/py35/lib/python3.5/site-packages/tornado/stack_context.py in null_wrapper(*args=([<zmq.sugar.frame.Frame object>, <zmq.sugar.frame.Frame object>, <zmq.sugar.frame.Frame object>, <zmq.sugar.frame.Frame object>, <zmq.sugar.frame.Frame object>, <zmq.sugar.frame.Frame object>, <zmq.sugar.frame.Frame object>],), **kwargs={})\n    272         # Fast path when there are no active contexts.\n    273         def null_wrapper(*args, **kwargs):\n    274             try:\n    275                 current_state = _state.contexts\n    276                 _state.contexts = cap_contexts[0]\n--> 277                 return fn(*args, **kwargs)\n        args = ([<zmq.sugar.frame.Frame object>, <zmq.sugar.frame.Frame object>, <zmq.sugar.frame.Frame object>, <zmq.sugar.frame.Frame object>, <zmq.sugar.frame.Frame object>, <zmq.sugar.frame.Frame object>, <zmq.sugar.frame.Frame object>],)\n        kwargs = {}\n    278             finally:\n    279                 _state.contexts = current_state\n    280         null_wrapper._wrapped = True\n    281         return null_wrapper\n\n...........................................................................\n/home/anand/miniconda3/envs/py35/lib/python3.5/site-packages/ipykernel/kernelbase.py in dispatcher(msg=[<zmq.sugar.frame.Frame object>, <zmq.sugar.frame.Frame object>, <zmq.sugar.frame.Frame object>, <zmq.sugar.frame.Frame object>, <zmq.sugar.frame.Frame object>, <zmq.sugar.frame.Frame object>, <zmq.sugar.frame.Frame object>])\n    278         if self.control_stream:\n    279             self.control_stream.on_recv(self.dispatch_control, copy=False)\n    280 \n    281         def make_dispatcher(stream):\n    282             def dispatcher(msg):\n--> 283                 return self.dispatch_shell(stream, msg)\n        msg = [<zmq.sugar.frame.Frame object>, <zmq.sugar.frame.Frame object>, <zmq.sugar.frame.Frame object>, <zmq.sugar.frame.Frame object>, <zmq.sugar.frame.Frame object>, <zmq.sugar.frame.Frame object>, <zmq.sugar.frame.Frame object>]\n    284             return dispatcher\n    285 \n    286         for s in self.shell_streams:\n    287             s.on_recv(make_dispatcher(s), copy=False)\n\n...........................................................................\n/home/anand/miniconda3/envs/py35/lib/python3.5/site-packages/ipykernel/kernelbase.py in dispatch_shell(self=<ipykernel.ipkernel.IPythonKernel object>, stream=<zmq.eventloop.zmqstream.ZMQStream object>, msg={'buffers': [], 'content': {'allow_stdin': True, 'code': 'from keras.wrappers.scikit_learn import KerasCla...er_kfold, X=X_train, y=y_train, cv=10, n_jobs=-1)', 'silent': False, 'stop_on_error': True, 'store_history': True, 'user_expressions': {}}, 'header': {'date': datetime.datetime(2017, 7, 12, 15, 48, 49, 661536, tzinfo=datetime.timezone.utc), 'msg_id': '5C7C284BF6F4484182C503C932EEBC56', 'msg_type': 'execute_request', 'session': '76B5C4476B3E49218478F43547952441', 'username': 'username', 'version': '5.0'}, 'metadata': {}, 'msg_id': '5C7C284BF6F4484182C503C932EEBC56', 'msg_type': 'execute_request', 'parent_header': {}})\n    230             self.log.warn(\"Unknown message type: %r\", msg_type)\n    231         else:\n    232             self.log.debug(\"%s: %s\", msg_type, msg)\n    233             self.pre_handler_hook()\n    234             try:\n--> 235                 handler(stream, idents, msg)\n        handler = <bound method Kernel.execute_request of <ipykernel.ipkernel.IPythonKernel object>>\n        stream = <zmq.eventloop.zmqstream.ZMQStream object>\n        idents = [b'76B5C4476B3E49218478F43547952441']\n        msg = {'buffers': [], 'content': {'allow_stdin': True, 'code': 'from keras.wrappers.scikit_learn import KerasCla...er_kfold, X=X_train, y=y_train, cv=10, n_jobs=-1)', 'silent': False, 'stop_on_error': True, 'store_history': True, 'user_expressions': {}}, 'header': {'date': datetime.datetime(2017, 7, 12, 15, 48, 49, 661536, tzinfo=datetime.timezone.utc), 'msg_id': '5C7C284BF6F4484182C503C932EEBC56', 'msg_type': 'execute_request', 'session': '76B5C4476B3E49218478F43547952441', 'username': 'username', 'version': '5.0'}, 'metadata': {}, 'msg_id': '5C7C284BF6F4484182C503C932EEBC56', 'msg_type': 'execute_request', 'parent_header': {}}\n    236             except Exception:\n    237                 self.log.error(\"Exception in message handler:\", exc_info=True)\n    238             finally:\n    239                 self.post_handler_hook()\n\n...........................................................................\n/home/anand/miniconda3/envs/py35/lib/python3.5/site-packages/ipykernel/kernelbase.py in execute_request(self=<ipykernel.ipkernel.IPythonKernel object>, stream=<zmq.eventloop.zmqstream.ZMQStream object>, ident=[b'76B5C4476B3E49218478F43547952441'], parent={'buffers': [], 'content': {'allow_stdin': True, 'code': 'from keras.wrappers.scikit_learn import KerasCla...er_kfold, X=X_train, y=y_train, cv=10, n_jobs=-1)', 'silent': False, 'stop_on_error': True, 'store_history': True, 'user_expressions': {}}, 'header': {'date': datetime.datetime(2017, 7, 12, 15, 48, 49, 661536, tzinfo=datetime.timezone.utc), 'msg_id': '5C7C284BF6F4484182C503C932EEBC56', 'msg_type': 'execute_request', 'session': '76B5C4476B3E49218478F43547952441', 'username': 'username', 'version': '5.0'}, 'metadata': {}, 'msg_id': '5C7C284BF6F4484182C503C932EEBC56', 'msg_type': 'execute_request', 'parent_header': {}})\n    394         if not silent:\n    395             self.execution_count += 1\n    396             self._publish_execute_input(code, parent, self.execution_count)\n    397 \n    398         reply_content = self.do_execute(code, silent, store_history,\n--> 399                                         user_expressions, allow_stdin)\n        user_expressions = {}\n        allow_stdin = True\n    400 \n    401         # Flush output before sending the reply.\n    402         sys.stdout.flush()\n    403         sys.stderr.flush()\n\n...........................................................................\n/home/anand/miniconda3/envs/py35/lib/python3.5/site-packages/ipykernel/ipkernel.py in do_execute(self=<ipykernel.ipkernel.IPythonKernel object>, code='from keras.wrappers.scikit_learn import KerasCla...er_kfold, X=X_train, y=y_train, cv=10, n_jobs=-1)', silent=False, store_history=True, user_expressions={}, allow_stdin=True)\n    191 \n    192         self._forward_input(allow_stdin)\n    193 \n    194         reply_content = {}\n    195         try:\n--> 196             res = shell.run_cell(code, store_history=store_history, silent=silent)\n        res = undefined\n        shell.run_cell = <bound method ZMQInteractiveShell.run_cell of <ipykernel.zmqshell.ZMQInteractiveShell object>>\n        code = 'from keras.wrappers.scikit_learn import KerasCla...er_kfold, X=X_train, y=y_train, cv=10, n_jobs=-1)'\n        store_history = True\n        silent = False\n    197         finally:\n    198             self._restore_input()\n    199 \n    200         if res.error_before_exec is not None:\n\n...........................................................................\n/home/anand/miniconda3/envs/py35/lib/python3.5/site-packages/ipykernel/zmqshell.py in run_cell(self=<ipykernel.zmqshell.ZMQInteractiveShell object>, *args=('from keras.wrappers.scikit_learn import KerasCla...er_kfold, X=X_train, y=y_train, cv=10, n_jobs=-1)',), **kwargs={'silent': False, 'store_history': True})\n    528             )\n    529         self.payload_manager.write_payload(payload)\n    530 \n    531     def run_cell(self, *args, **kwargs):\n    532         self._last_traceback = None\n--> 533         return super(ZMQInteractiveShell, self).run_cell(*args, **kwargs)\n        self.run_cell = <bound method ZMQInteractiveShell.run_cell of <ipykernel.zmqshell.ZMQInteractiveShell object>>\n        args = ('from keras.wrappers.scikit_learn import KerasCla...er_kfold, X=X_train, y=y_train, cv=10, n_jobs=-1)',)\n        kwargs = {'silent': False, 'store_history': True}\n    534 \n    535     def _showtraceback(self, etype, evalue, stb):\n    536         # try to preserve ordering of tracebacks and print statements\n    537         sys.stdout.flush()\n\n...........................................................................\n/home/anand/miniconda3/envs/py35/lib/python3.5/site-packages/IPython/core/interactiveshell.py in run_cell(self=<ipykernel.zmqshell.ZMQInteractiveShell object>, raw_cell='from keras.wrappers.scikit_learn import KerasCla...er_kfold, X=X_train, y=y_train, cv=10, n_jobs=-1)', store_history=True, silent=False, shell_futures=True)\n   2678                 self.displayhook.exec_result = result\n   2679 \n   2680                 # Execute the user code\n   2681                 interactivity = \"none\" if silent else self.ast_node_interactivity\n   2682                 has_raised = self.run_ast_nodes(code_ast.body, cell_name,\n-> 2683                    interactivity=interactivity, compiler=compiler, result=result)\n        interactivity = 'last_expr'\n        compiler = <IPython.core.compilerop.CachingCompiler object>\n   2684                 \n   2685                 self.last_execution_succeeded = not has_raised\n   2686 \n   2687                 # Reset this so later displayed values do not modify the\n\n...........................................................................\n/home/anand/miniconda3/envs/py35/lib/python3.5/site-packages/IPython/core/interactiveshell.py in run_ast_nodes(self=<ipykernel.zmqshell.ZMQInteractiveShell object>, nodelist=[<_ast.ImportFrom object>, <_ast.ImportFrom object>, <_ast.FunctionDef object>, <_ast.Assign object>, <_ast.Assign object>], cell_name='<ipython-input-27-d53d896333d5>', interactivity='none', compiler=<IPython.core.compilerop.CachingCompiler object>, result=<ExecutionResult object at 7f0844961f98, executi..._before_exec=None error_in_exec=None result=None>)\n   2782 \n   2783         try:\n   2784             for i, node in enumerate(to_run_exec):\n   2785                 mod = ast.Module([node])\n   2786                 code = compiler(mod, cell_name, \"exec\")\n-> 2787                 if self.run_code(code, result):\n        self.run_code = <bound method InteractiveShell.run_code of <ipykernel.zmqshell.ZMQInteractiveShell object>>\n        code = <code object <module> at 0x7f08427a2420, file \"<ipython-input-27-d53d896333d5>\", line 13>\n        result = <ExecutionResult object at 7f0844961f98, executi..._before_exec=None error_in_exec=None result=None>\n   2788                     return True\n   2789 \n   2790             for i, node in enumerate(to_run_interactive):\n   2791                 mod = ast.Interactive([node])\n\n...........................................................................\n/home/anand/miniconda3/envs/py35/lib/python3.5/site-packages/IPython/core/interactiveshell.py in run_code(self=<ipykernel.zmqshell.ZMQInteractiveShell object>, code_obj=<code object <module> at 0x7f08427a2420, file \"<ipython-input-27-d53d896333d5>\", line 13>, result=<ExecutionResult object at 7f0844961f98, executi..._before_exec=None error_in_exec=None result=None>)\n   2842         outflag = True  # happens in more places, so it's easier as default\n   2843         try:\n   2844             try:\n   2845                 self.hooks.pre_run_code_hook()\n   2846                 #rprint('Running code', repr(code_obj)) # dbg\n-> 2847                 exec(code_obj, self.user_global_ns, self.user_ns)\n        code_obj = <code object <module> at 0x7f08427a2420, file \"<ipython-input-27-d53d896333d5>\", line 13>\n        self.user_global_ns = {'Dense': <class 'keras.layers.core.Dense'>, 'In': ['', 'import numpy as np\\nimport matplotlib.pyplot as plt\\nimport pandas as pd', \"dataset = pd.read_csv('data/Churn_Modelling.csv')\", 'dataset.describe()', 'dataset.head()', \"# Drop Surname\\ndataset = dataset.drop(['Surname', 'RowNumber', 'CustomerId'], axis = 1)\", 'dataset.head()', '# Encode the categorical variables\\ndataset = pd.get_dummies(dataset)\\ndataset.head()', \"# To avoid the dummy variable trap, we need to d...aset.drop('Gender_Male', axis = 1)\\ndataset.head()\", \"# Split the data into dependent and independent ...Exited'], axis = 1)\\nX = dataset.iloc[:, :].values\", '# Split the data into training and testing sets\\n...n, y_test = train_test_split(X, y, test_size=0.2)', '# Feature Scaling\\nfrom sklearn.preprocessing imp..._transform(X_train)\\nX_test = sc.transform(X_test)', 'import keras\\nfrom keras.models import Sequential\\nfrom keras.layers import Dense', '# Create the NN (it is classifier for us)\\nclassifier = Sequential()', \"# Create the layers\\nclassifier.add(Dense(units =...ation = 'sigmoid', kernel_initializer='uniform'))\", \"classifier.compile(optimizer='adam', loss='binary_crossentropy', metrics = ['accuracy'])\", 'classifier.fit(X_train, y_train, batch_size=10, epochs=100)', 'y_pred = classifier.predict(X_test)\\ny_pred = (y_...\\ncm = confusion_matrix(y_test, y_pred)\\nprint (cm)', '# Use Accuracy score\\nfrom sklearn.metrics import accuracy_score\\naccuracy_score(y_pred, y_test)', '# Logistic Regression\\nfrom sklearn.linear_model ...lr.fit(X_train, y_train)\\nlr.score(X_test, y_test)', ...], 'KNeighborsClassifier': <class 'sklearn.neighbors.classification.KNeighborsClassifier'>, 'KerasClassifier': <class 'keras.wrappers.scikit_learn.KerasClassifier'>, 'LogisticRegression': <class 'sklearn.linear_model.logistic.LogisticRegression'>, 'Out': {3:          RowNumber    CustomerId   CreditScore  ...0.000000  \nmax      199992.480000      1.000000  , 4:    RowNumber  CustomerId   Surname  CreditScore ...  93826.63       0  \n4         79084.10       0  , 6:    CreditScore Geography  Gender  Age  Tenure   ...     1               1         79084.10       0  , 7:    CreditScore  Age  Tenure    Balance  NumOfPro... 0                1              1            0  , 8:    CreditScore  Age  Tenure    Balance  NumOfPro...        1  \n4                  0              1  , 16: <keras.callbacks.History object>, 18: 0.87, 19: 0.83099999999999996, 20: 0.87250000000000005, 21: 0.85250000000000004, ...}, 'SVC': <class 'sklearn.svm.classes.SVC'>, 'Sequential': <class 'keras.models.Sequential'>, 'StandardScaler': <class 'sklearn.preprocessing.data.StandardScaler'>, 'X': array([[ 619.,   42.,    2., ...,    1.,    0., ...[ 792.,   28.,    4., ...,    1.,    0.,    1.]]), ...}\n        self.user_ns = {'Dense': <class 'keras.layers.core.Dense'>, 'In': ['', 'import numpy as np\\nimport matplotlib.pyplot as plt\\nimport pandas as pd', \"dataset = pd.read_csv('data/Churn_Modelling.csv')\", 'dataset.describe()', 'dataset.head()', \"# Drop Surname\\ndataset = dataset.drop(['Surname', 'RowNumber', 'CustomerId'], axis = 1)\", 'dataset.head()', '# Encode the categorical variables\\ndataset = pd.get_dummies(dataset)\\ndataset.head()', \"# To avoid the dummy variable trap, we need to d...aset.drop('Gender_Male', axis = 1)\\ndataset.head()\", \"# Split the data into dependent and independent ...Exited'], axis = 1)\\nX = dataset.iloc[:, :].values\", '# Split the data into training and testing sets\\n...n, y_test = train_test_split(X, y, test_size=0.2)', '# Feature Scaling\\nfrom sklearn.preprocessing imp..._transform(X_train)\\nX_test = sc.transform(X_test)', 'import keras\\nfrom keras.models import Sequential\\nfrom keras.layers import Dense', '# Create the NN (it is classifier for us)\\nclassifier = Sequential()', \"# Create the layers\\nclassifier.add(Dense(units =...ation = 'sigmoid', kernel_initializer='uniform'))\", \"classifier.compile(optimizer='adam', loss='binary_crossentropy', metrics = ['accuracy'])\", 'classifier.fit(X_train, y_train, batch_size=10, epochs=100)', 'y_pred = classifier.predict(X_test)\\ny_pred = (y_...\\ncm = confusion_matrix(y_test, y_pred)\\nprint (cm)', '# Use Accuracy score\\nfrom sklearn.metrics import accuracy_score\\naccuracy_score(y_pred, y_test)', '# Logistic Regression\\nfrom sklearn.linear_model ...lr.fit(X_train, y_train)\\nlr.score(X_test, y_test)', ...], 'KNeighborsClassifier': <class 'sklearn.neighbors.classification.KNeighborsClassifier'>, 'KerasClassifier': <class 'keras.wrappers.scikit_learn.KerasClassifier'>, 'LogisticRegression': <class 'sklearn.linear_model.logistic.LogisticRegression'>, 'Out': {3:          RowNumber    CustomerId   CreditScore  ...0.000000  \nmax      199992.480000      1.000000  , 4:    RowNumber  CustomerId   Surname  CreditScore ...  93826.63       0  \n4         79084.10       0  , 6:    CreditScore Geography  Gender  Age  Tenure   ...     1               1         79084.10       0  , 7:    CreditScore  Age  Tenure    Balance  NumOfPro... 0                1              1            0  , 8:    CreditScore  Age  Tenure    Balance  NumOfPro...        1  \n4                  0              1  , 16: <keras.callbacks.History object>, 18: 0.87, 19: 0.83099999999999996, 20: 0.87250000000000005, 21: 0.85250000000000004, ...}, 'SVC': <class 'sklearn.svm.classes.SVC'>, 'Sequential': <class 'keras.models.Sequential'>, 'StandardScaler': <class 'sklearn.preprocessing.data.StandardScaler'>, 'X': array([[ 619.,   42.,    2., ...,    1.,    0., ...[ 792.,   28.,    4., ...,    1.,    0.,    1.]]), ...}\n   2848             finally:\n   2849                 # Reset our crash handler in place\n   2850                 sys.excepthook = old_excepthook\n   2851         except SystemExit as e:\n\n...........................................................................\n/home/anand/store/git/anandsaha/handson.deeplearning/<ipython-input-27-d53d896333d5> in <module>()\n      8     classifier.add(Dense(units = 1, activation = 'sigmoid', kernel_initializer='uniform'))\n      9     classifier.compile(optimizer='adam', loss='binary_crossentropy', metrics = ['accuracy'])\n     10     return classifier\n     11 \n     12 classifier_kfold = KerasClassifier(build_fn=build_classifier, batch_size=10, epochs=100)\n---> 13 accuracies = cross_val_score(estimator=classifier_kfold, X=X_train, y=y_train, cv=10, n_jobs=-1)\n     14 \n     15 \n     16 \n     17 \n\n...........................................................................\n/home/anand/miniconda3/envs/py35/lib/python3.5/site-packages/sklearn/model_selection/_validation.py in cross_val_score(estimator=<keras.wrappers.scikit_learn.KerasClassifier object>, X=array([[-0.09147995, -0.66398831,  0.69023067, .... -1.00526385,\n        -0.57869742, -0.91670588]]), y=array([0, 1, 0, ..., 0, 0, 0]), groups=None, scoring=None, cv=KFold(n_splits=10, random_state=None, shuffle=False), n_jobs=-1, verbose=0, fit_params=None, pre_dispatch='2*n_jobs')\n    135     parallel = Parallel(n_jobs=n_jobs, verbose=verbose,\n    136                         pre_dispatch=pre_dispatch)\n    137     scores = parallel(delayed(_fit_and_score)(clone(estimator), X, y, scorer,\n    138                                               train, test, verbose, None,\n    139                                               fit_params)\n--> 140                       for train, test in cv_iter)\n        cv_iter = [(array([ 800,  801,  802, ..., 7997, 7998, 7999]), array([  0,   1,   2,   3,   4,   5,   6,   7,  ..., 792,\n       793, 794, 795, 796, 797, 798, 799])), (array([   0,    1,    2, ..., 7997, 7998, 7999]), array([ 800,  801,  802,  803,  804,  805,  806,... 1592, 1593, 1594, 1595, 1596, 1597, 1598, 1599])), (array([   0,    1,    2, ..., 7997, 7998, 7999]), array([1600, 1601, 1602, 1603, 1604, 1605, 1606,... 2392, 2393, 2394, 2395, 2396, 2397, 2398, 2399])), (array([   0,    1,    2, ..., 7997, 7998, 7999]), array([2400, 2401, 2402, 2403, 2404, 2405, 2406,... 3192, 3193, 3194, 3195, 3196, 3197, 3198, 3199])), (array([   0,    1,    2, ..., 7997, 7998, 7999]), array([3200, 3201, 3202, 3203, 3204, 3205, 3206,... 3992, 3993, 3994, 3995, 3996, 3997, 3998, 3999])), (array([   0,    1,    2, ..., 7997, 7998, 7999]), array([4000, 4001, 4002, 4003, 4004, 4005, 4006,... 4792, 4793, 4794, 4795, 4796, 4797, 4798, 4799])), (array([   0,    1,    2, ..., 7997, 7998, 7999]), array([4800, 4801, 4802, 4803, 4804, 4805, 4806,... 5592, 5593, 5594, 5595, 5596, 5597, 5598, 5599])), (array([   0,    1,    2, ..., 7997, 7998, 7999]), array([5600, 5601, 5602, 5603, 5604, 5605, 5606,... 6392, 6393, 6394, 6395, 6396, 6397, 6398, 6399])), (array([   0,    1,    2, ..., 7997, 7998, 7999]), array([6400, 6401, 6402, 6403, 6404, 6405, 6406,... 7192, 7193, 7194, 7195, 7196, 7197, 7198, 7199])), (array([   0,    1,    2, ..., 7197, 7198, 7199]), array([7200, 7201, 7202, 7203, 7204, 7205, 7206,... 7992, 7993, 7994, 7995, 7996, 7997, 7998, 7999]))]\n    141     return np.array(scores)[:, 0]\n    142 \n    143 \n    144 def _fit_and_score(estimator, X, y, scorer, train, test, verbose,\n\n...........................................................................\n/home/anand/miniconda3/envs/py35/lib/python3.5/site-packages/sklearn/externals/joblib/parallel.py in __call__(self=Parallel(n_jobs=-1), iterable=<generator object cross_val_score.<locals>.<genexpr>>)\n    763             if pre_dispatch == \"all\" or n_jobs == 1:\n    764                 # The iterable was consumed all at once by the above for loop.\n    765                 # No need to wait for async callbacks to trigger to\n    766                 # consumption.\n    767                 self._iterating = False\n--> 768             self.retrieve()\n        self.retrieve = <bound method Parallel.retrieve of Parallel(n_jobs=-1)>\n    769             # Make sure that we get a last message telling us we are done\n    770             elapsed_time = time.time() - self._start_time\n    771             self._print('Done %3i out of %3i | elapsed: %s finished',\n    772                         (len(self._output), len(self._output),\n\n---------------------------------------------------------------------------\nSub-process traceback:\n---------------------------------------------------------------------------\nGpuArrayException                                  Wed Jul 12 21:18:49 2017\nPID: 31334        Python 3.5.3: /home/anand/miniconda3/envs/py35/bin/python\n...........................................................................\n/home/anand/miniconda3/envs/py35/lib/python3.5/site-packages/sklearn/externals/joblib/parallel.py in __call__(self=<sklearn.externals.joblib.parallel.BatchedCalls object>)\n    126     def __init__(self, iterator_slice):\n    127         self.items = list(iterator_slice)\n    128         self._size = len(self.items)\n    129 \n    130     def __call__(self):\n--> 131         return [func(*args, **kwargs) for func, args, kwargs in self.items]\n        self.items = [(<function _fit_and_score>, (<keras.wrappers.scikit_learn.KerasClassifier object>, array([[-0.09147995, -0.66398831,  0.69023067, .... -1.00526385,\n        -0.57869742, -0.91670588]]), array([0, 1, 0, ..., 0, 0, 0]), <function _passthrough_scorer>, array([ 800,  801,  802, ..., 7997, 7998, 7999]), array([  0,   1,   2,   3,   4,   5,   6,   7,  ..., 792,\n       793, 794, 795, 796, 797, 798, 799]), 0, None, None), {})]\n    132 \n    133     def __len__(self):\n    134         return self._size\n    135 \n\n...........................................................................\n/home/anand/miniconda3/envs/py35/lib/python3.5/site-packages/sklearn/externals/joblib/parallel.py in <listcomp>(.0=<list_iterator object>)\n    126     def __init__(self, iterator_slice):\n    127         self.items = list(iterator_slice)\n    128         self._size = len(self.items)\n    129 \n    130     def __call__(self):\n--> 131         return [func(*args, **kwargs) for func, args, kwargs in self.items]\n        func = <function _fit_and_score>\n        args = (<keras.wrappers.scikit_learn.KerasClassifier object>, array([[-0.09147995, -0.66398831,  0.69023067, .... -1.00526385,\n        -0.57869742, -0.91670588]]), array([0, 1, 0, ..., 0, 0, 0]), <function _passthrough_scorer>, array([ 800,  801,  802, ..., 7997, 7998, 7999]), array([  0,   1,   2,   3,   4,   5,   6,   7,  ..., 792,\n       793, 794, 795, 796, 797, 798, 799]), 0, None, None)\n        kwargs = {}\n    132 \n    133     def __len__(self):\n    134         return self._size\n    135 \n\n...........................................................................\n/home/anand/miniconda3/envs/py35/lib/python3.5/site-packages/sklearn/model_selection/_validation.py in _fit_and_score(estimator=<keras.wrappers.scikit_learn.KerasClassifier object>, X=array([[-0.09147995, -0.66398831,  0.69023067, .... -1.00526385,\n        -0.57869742, -0.91670588]]), y=array([0, 1, 0, ..., 0, 0, 0]), scorer=<function _passthrough_scorer>, train=array([ 800,  801,  802, ..., 7997, 7998, 7999]), test=array([  0,   1,   2,   3,   4,   5,   6,   7,  ..., 792,\n       793, 794, 795, 796, 797, 798, 799]), verbose=0, parameters=None, fit_params={}, return_train_score=False, return_parameters=False, return_n_test_samples=False, return_times=False, error_score='raise')\n    233 \n    234     try:\n    235         if y_train is None:\n    236             estimator.fit(X_train, **fit_params)\n    237         else:\n--> 238             estimator.fit(X_train, y_train, **fit_params)\n        estimator.fit = <bound method KerasClassifier.fit of <keras.wrappers.scikit_learn.KerasClassifier object>>\n        X_train = array([[-1.24143815,  0.28811982,  0.34427206, .... -1.00526385,\n        -0.57869742, -0.91670588]])\n        y_train = array([0, 0, 0, ..., 0, 0, 0])\n        fit_params = {}\n    239 \n    240     except Exception as e:\n    241         # Note fit time as time until error\n    242         fit_time = time.time() - start_time\n\n...........................................................................\n/home/anand/miniconda3/envs/py35/lib/python3.5/site-packages/keras/wrappers/scikit_learn.py in fit(self=<keras.wrappers.scikit_learn.KerasClassifier object>, x=array([[-1.24143815,  0.28811982,  0.34427206, .... -1.00526385,\n        -0.57869742, -0.91670588]]), y=array([0, 0, 0, ..., 0, 0, 0]), **kwargs={})\n    196             self.classes_ = np.arange(y.shape[1])\n    197         else:\n    198             self.classes_ = np.unique(y)\n    199             y = np.searchsorted(self.classes_, y)\n    200         self.n_classes_ = len(self.classes_)\n--> 201         return super(KerasClassifier, self).fit(x, y, **kwargs)\n        self.fit = <bound method KerasClassifier.fit of <keras.wrappers.scikit_learn.KerasClassifier object>>\n        x = array([[-1.24143815,  0.28811982,  0.34427206, .... -1.00526385,\n        -0.57869742, -0.91670588]])\n        y = array([0, 0, 0, ..., 0, 0, 0])\n        kwargs = {}\n    202 \n    203     def predict(self, x, **kwargs):\n    204         \"\"\"Returns the class predictions for the given test data.\n    205 \n\n...........................................................................\n/home/anand/miniconda3/envs/py35/lib/python3.5/site-packages/keras/wrappers/scikit_learn.py in fit(self=<keras.wrappers.scikit_learn.KerasClassifier object>, x=array([[-1.24143815,  0.28811982,  0.34427206, .... -1.00526385,\n        -0.57869742, -0.91670588]]), y=array([0, 0, 0, ..., 0, 0, 0]), **kwargs={})\n    133         elif (not isinstance(self.build_fn, types.FunctionType) and\n    134               not isinstance(self.build_fn, types.MethodType)):\n    135             self.model = self.build_fn(\n    136                 **self.filter_sk_params(self.build_fn.__call__))\n    137         else:\n--> 138             self.model = self.build_fn(**self.filter_sk_params(self.build_fn))\n        self.model = undefined\n        self.build_fn = <function build_classifier>\n        self.filter_sk_params = <bound method BaseWrapper.filter_sk_params of <keras.wrappers.scikit_learn.KerasClassifier object>>\n    139 \n    140         loss_name = self.model.loss\n    141         if hasattr(loss_name, '__name__'):\n    142             loss_name = loss_name.__name__\n\n...........................................................................\n/home/anand/store/git/anandsaha/handson.deeplearning/<ipython-input-27-d53d896333d5> in build_classifier()\n      1 from keras.wrappers.scikit_learn import KerasClassifier\n      2 from sklearn.model_selection import cross_val_score\n      3 \n      4 def build_classifier():\n      5     classifier = Sequential()\n----> 6     classifier.add(Dense(units = 6, activation = 'relu', kernel_initializer='uniform', input_dim=11))\n      7     classifier.add(Dense(units = 6, activation = 'relu', kernel_initializer='uniform'))\n      8     classifier.add(Dense(units = 1, activation = 'sigmoid', kernel_initializer='uniform'))\n      9     classifier.compile(optimizer='adam', loss='binary_crossentropy', metrics = ['accuracy'])\n     10     return classifier\n\n...........................................................................\n/home/anand/miniconda3/envs/py35/lib/python3.5/site-packages/keras/models.py in add(self=<keras.models.Sequential object>, layer=<keras.layers.core.Dense object>)\n    417                 x = Input(batch_shape=layer.batch_input_shape,\n    418                           dtype=layer.dtype, name=layer.name + '_input')\n    419                 # This will build the current layer\n    420                 # and create the node connecting the current layer\n    421                 # to the input layer we just created.\n--> 422                 layer(x)\n        layer = <keras.layers.core.Dense object>\n        x = /dense_4_input\n    423 \n    424             if len(layer.inbound_nodes) != 1:\n    425                 raise ValueError('A layer added to a Sequential model must '\n    426                                  'not already be connected somewhere else. '\n\n...........................................................................\n/home/anand/miniconda3/envs/py35/lib/python3.5/site-packages/keras/engine/topology.py in __call__(self=<keras.layers.core.Dense object>, inputs=/dense_4_input, **kwargs={})\n    523                                          ' about its expected input shape, '\n    524                                          'and thus cannot be built. '\n    525                                          'You can build it manually via: '\n    526                                          '`layer.build(batch_input_shape)`')\n    527                 if len(input_shapes) == 1:\n--> 528                     self.build(input_shapes[0])\n        self.build = <bound method Dense.build of <keras.layers.core.Dense object>>\n        input_shapes = [(None, 11)]\n    529                 else:\n    530                     self.build(input_shapes)\n    531                 self.built = True\n    532 \n\n...........................................................................\n/home/anand/miniconda3/envs/py35/lib/python3.5/site-packages/keras/layers/core.py in build(self=<keras.layers.core.Dense object>, input_shape=(None, 11))\n    822 \n    823         self.kernel = self.add_weight((input_dim, self.units),\n    824                                       initializer=self.kernel_initializer,\n    825                                       name='kernel',\n    826                                       regularizer=self.kernel_regularizer,\n--> 827                                       constraint=self.kernel_constraint)\n        self.kernel_constraint = None\n    828         if self.use_bias:\n    829             self.bias = self.add_weight((self.units,),\n    830                                         initializer=self.bias_initializer,\n    831                                         name='bias',\n\n...........................................................................\n/home/anand/miniconda3/envs/py35/lib/python3.5/site-packages/keras/engine/topology.py in add_weight(self=<keras.layers.core.Dense object>, shape=(11, 6), initializer=<keras.initializers.RandomUniform object>, name='kernel', trainable=True, regularizer=None, constraint=None)\n    359 \n    360         # Returns\n    361             The created weight variable.\n    362         \"\"\"\n    363         initializer = initializers.get(initializer)\n--> 364         weight = K.variable(initializer(shape), dtype=K.floatx(), name=name)\n        weight = undefined\n        initializer = <keras.initializers.RandomUniform object>\n        shape = (11, 6)\n        name = 'kernel'\n    365         if regularizer is not None:\n    366             self.add_loss(regularizer(weight))\n    367         if constraint is not None:\n    368             self.constraints[weight] = constraint\n\n...........................................................................\n/home/anand/miniconda3/envs/py35/lib/python3.5/site-packages/keras/initializers.py in __call__(self=<keras.initializers.RandomUniform object>, shape=(11, 6), dtype=None)\n     96         self.maxval = maxval\n     97         self.seed = seed\n     98 \n     99     def __call__(self, shape, dtype=None):\n    100         return K.random_uniform(shape, self.minval, self.maxval,\n--> 101                                 dtype=dtype, seed=self.seed)\n        dtype = None\n        self.seed = None\n    102 \n    103     def get_config(self):\n    104         return {\n    105             'minval': self.minval,\n\n...........................................................................\n/home/anand/miniconda3/envs/py35/lib/python3.5/site-packages/keras/backend/theano_backend.py in random_uniform(shape=(11, 6), minval=-0.05, maxval=0.05, dtype='float32', seed=6570446)\n   1964     if dtype is None:\n   1965         dtype = floatx()\n   1966     if seed is None:\n   1967         seed = np.random.randint(1, 10e6)\n   1968     rng = RandomStreams(seed=seed)\n-> 1969     return rng.uniform(shape, low=minval, high=maxval, dtype=dtype)\n        rng.uniform = <bound method MRG_RandomStreams.uniform of <theano.sandbox.rng_mrg.MRG_RandomStreams object>>\n        shape = (11, 6)\n        minval = -0.05\n        maxval = 0.05\n        dtype = 'float32'\n   1970 \n   1971 \n   1972 def random_binomial(shape, p=0.0, dtype=None, seed=None):\n   1973     if dtype is None:\n\n...........................................................................\n/home/anand/miniconda3/envs/py35/lib/python3.5/site-packages/theano/sandbox/rng_mrg.py in uniform(self=<theano.sandbox.rng_mrg.MRG_RandomStreams object>, size=(11, 6), low=TensorConstant{-0.05000000074505806}, high=TensorConstant{0.05000000074505806}, ndim=None, dtype='float32', nstreams=11)\n   1365             u = self.pretty_return(node_rstate,\n   1366                                    *GPU_mrg_uniform.new(node_rstate,\n   1367                                                         ndim, dtype, size),\n   1368                                    size=size, nstreams=orig_nstreams)\n   1369         else:\n-> 1370             node_rstate = shared(rstates)\n        node_rstate = undefined\n        rstates = array([[   6570446,    6570446,    6570446,    6...4,  494673735,\n         209391381]], dtype=int32)\n   1371             u = self.pretty_return(node_rstate,\n   1372                                    *mrg_uniform.new(node_rstate,\n   1373                                                     ndim, dtype, size),\n   1374                                    size=size, nstreams=orig_nstreams)\n\n...........................................................................\n/home/anand/miniconda3/envs/py35/lib/python3.5/site-packages/theano/compile/sharedvalue.py in shared(value=array([[   6570446,    6570446,    6570446,    6...4,  494673735,\n         209391381]], dtype=int32), name=None, strict=False, allow_downcast=None, **kwargs={})\n    263                             \"values and not symbolic variables.\")\n    264 \n    265         for ctor in reversed(shared.constructors):\n    266             try:\n    267                 var = ctor(value, name=name, strict=strict,\n--> 268                            allow_downcast=allow_downcast, **kwargs)\n        allow_downcast = None\n        kwargs = {}\n    269                 utils.add_tag_trace(var)\n    270                 return var\n    271             except TypeError:\n    272                 continue\n\n...........................................................................\n/home/anand/miniconda3/envs/py35/lib/python3.5/site-packages/theano/gpuarray/type.py in gpuarray_shared_constructor(value=array([[   6570446,    6570446,    6570446,    6...4,  494673735,\n         209391381]], dtype=int32), name=None, strict=False, allow_downcast=None, borrow=False, broadcastable=(False, False), target=None)\n    650 \n    651     if broadcastable is None:\n    652         broadcastable = (False,) * value.ndim\n    653     type = GpuArrayType(value.dtype, broadcastable, context_name=target)\n    654     deviceval = pygpu.gpuarray.array(value, copy=(not borrow),\n--> 655                                      context=type.context)\n        type.context = <pygpu.gpuarray.GpuContext object>\n    656     return GpuArraySharedVariable(type=type, value=deviceval, name=name,\n    657                                   strict=strict)\n    658 \n    659 theano.compile.register_view_op_c_code(GpuArrayType, \"\"\"\n\n...........................................................................\n/home/anand/miniconda3/envs/py35/lib/python3.5/site-packages/pygpu/gpuarray.cpython-35m-x86_64-linux-gnu.so in pygpu.gpuarray.array (pygpu/gpuarray.c:12227)()\n    910 \n    911 \n    912 \n    913 \n    914 \n--> 915 \n    916 \n    917 \n    918 \n    919 \n\n...........................................................................\n/home/anand/miniconda3/envs/py35/lib/python3.5/site-packages/pygpu/gpuarray.cpython-35m-x86_64-linux-gnu.so in pygpu.gpuarray.carray (pygpu/gpuarray.c:13109)()\n    965 \n    966 \n    967 \n    968 \n    969 \n--> 970 \n    971 \n    972 \n    973 \n    974 \n\n...........................................................................\n/home/anand/miniconda3/envs/py35/lib/python3.5/site-packages/pygpu/gpuarray.cpython-35m-x86_64-linux-gnu.so in pygpu.gpuarray.pygpu_fromhostdata (pygpu/gpuarray.c:9851)()\n    659 \n    660 \n    661 \n    662 \n    663 \n--> 664 \n    665 \n    666 \n    667 \n    668 \n\n...........................................................................\n/home/anand/miniconda3/envs/py35/lib/python3.5/site-packages/pygpu/gpuarray.cpython-35m-x86_64-linux-gnu.so in pygpu.gpuarray.array_copy_from_host (pygpu/gpuarray.c:5817)()\n    296 \n    297 \n    298 \n    299 \n    300 \n--> 301 \n    302 \n    303 \n    304 \n    305 \n\nGpuArrayException: b'Out of memory'\n___________________________________________________________________________",
     "output_type": "error",
     "traceback": [
      "\u001b[0;31m---------------------------------------------------------------------------\u001b[0m",
      "\u001b[0;31mRemoteTraceback\u001b[0m                           Traceback (most recent call last)",
      "\u001b[0;31mRemoteTraceback\u001b[0m: \n\"\"\"\nTraceback (most recent call last):\n  File \"/home/anand/miniconda3/envs/py35/lib/python3.5/site-packages/sklearn/externals/joblib/_parallel_backends.py\", line 344, in __call__\n    return self.func(*args, **kwargs)\n  File \"/home/anand/miniconda3/envs/py35/lib/python3.5/site-packages/sklearn/externals/joblib/parallel.py\", line 131, in __call__\n    return [func(*args, **kwargs) for func, args, kwargs in self.items]\n  File \"/home/anand/miniconda3/envs/py35/lib/python3.5/site-packages/sklearn/externals/joblib/parallel.py\", line 131, in <listcomp>\n    return [func(*args, **kwargs) for func, args, kwargs in self.items]\n  File \"/home/anand/miniconda3/envs/py35/lib/python3.5/site-packages/sklearn/model_selection/_validation.py\", line 238, in _fit_and_score\n    estimator.fit(X_train, y_train, **fit_params)\n  File \"/home/anand/miniconda3/envs/py35/lib/python3.5/site-packages/keras/wrappers/scikit_learn.py\", line 201, in fit\n    return super(KerasClassifier, self).fit(x, y, **kwargs)\n  File \"/home/anand/miniconda3/envs/py35/lib/python3.5/site-packages/keras/wrappers/scikit_learn.py\", line 138, in fit\n    self.model = self.build_fn(**self.filter_sk_params(self.build_fn))\n  File \"<ipython-input-27-d53d896333d5>\", line 6, in build_classifier\n    classifier.add(Dense(units = 6, activation = 'relu', kernel_initializer='uniform', input_dim=11))\n  File \"/home/anand/miniconda3/envs/py35/lib/python3.5/site-packages/keras/models.py\", line 422, in add\n    layer(x)\n  File \"/home/anand/miniconda3/envs/py35/lib/python3.5/site-packages/keras/engine/topology.py\", line 528, in __call__\n    self.build(input_shapes[0])\n  File \"/home/anand/miniconda3/envs/py35/lib/python3.5/site-packages/keras/layers/core.py\", line 827, in build\n    constraint=self.kernel_constraint)\n  File \"/home/anand/miniconda3/envs/py35/lib/python3.5/site-packages/keras/engine/topology.py\", line 364, in add_weight\n    weight = K.variable(initializer(shape), dtype=K.floatx(), name=name)\n  File \"/home/anand/miniconda3/envs/py35/lib/python3.5/site-packages/keras/initializers.py\", line 101, in __call__\n    dtype=dtype, seed=self.seed)\n  File \"/home/anand/miniconda3/envs/py35/lib/python3.5/site-packages/keras/backend/theano_backend.py\", line 1969, in random_uniform\n    return rng.uniform(shape, low=minval, high=maxval, dtype=dtype)\n  File \"/home/anand/miniconda3/envs/py35/lib/python3.5/site-packages/theano/sandbox/rng_mrg.py\", line 1370, in uniform\n    node_rstate = shared(rstates)\n  File \"/home/anand/miniconda3/envs/py35/lib/python3.5/site-packages/theano/compile/sharedvalue.py\", line 268, in shared\n    allow_downcast=allow_downcast, **kwargs)\n  File \"/home/anand/miniconda3/envs/py35/lib/python3.5/site-packages/theano/gpuarray/type.py\", line 655, in gpuarray_shared_constructor\n    context=type.context)\n  File \"pygpu/gpuarray.pyx\", line 915, in pygpu.gpuarray.array (pygpu/gpuarray.c:12227)\n  File \"pygpu/gpuarray.pyx\", line 970, in pygpu.gpuarray.carray (pygpu/gpuarray.c:13109)\n  File \"pygpu/gpuarray.pyx\", line 664, in pygpu.gpuarray.pygpu_fromhostdata (pygpu/gpuarray.c:9851)\n  File \"pygpu/gpuarray.pyx\", line 301, in pygpu.gpuarray.array_copy_from_host (pygpu/gpuarray.c:5817)\npygpu.gpuarray.GpuArrayException: b'Out of memory'\n\nDuring handling of the above exception, another exception occurred:\n\nTraceback (most recent call last):\n  File \"/home/anand/miniconda3/envs/py35/lib/python3.5/multiprocessing/pool.py\", line 119, in worker\n    result = (True, func(*args, **kwds))\n  File \"/home/anand/miniconda3/envs/py35/lib/python3.5/site-packages/sklearn/externals/joblib/_parallel_backends.py\", line 353, in __call__\n    raise TransportableException(text, e_type)\nsklearn.externals.joblib.my_exceptions.TransportableException: TransportableException\n___________________________________________________________________________\nGpuArrayException                                  Wed Jul 12 21:18:49 2017\nPID: 31334        Python 3.5.3: /home/anand/miniconda3/envs/py35/bin/python\n...........................................................................\n/home/anand/miniconda3/envs/py35/lib/python3.5/site-packages/sklearn/externals/joblib/parallel.py in __call__(self=<sklearn.externals.joblib.parallel.BatchedCalls object>)\n    126     def __init__(self, iterator_slice):\n    127         self.items = list(iterator_slice)\n    128         self._size = len(self.items)\n    129 \n    130     def __call__(self):\n--> 131         return [func(*args, **kwargs) for func, args, kwargs in self.items]\n        self.items = [(<function _fit_and_score>, (<keras.wrappers.scikit_learn.KerasClassifier object>, array([[-0.09147995, -0.66398831,  0.69023067, .... -1.00526385,\n        -0.57869742, -0.91670588]]), array([0, 1, 0, ..., 0, 0, 0]), <function _passthrough_scorer>, array([ 800,  801,  802, ..., 7997, 7998, 7999]), array([  0,   1,   2,   3,   4,   5,   6,   7,  ..., 792,\n       793, 794, 795, 796, 797, 798, 799]), 0, None, None), {})]\n    132 \n    133     def __len__(self):\n    134         return self._size\n    135 \n\n...........................................................................\n/home/anand/miniconda3/envs/py35/lib/python3.5/site-packages/sklearn/externals/joblib/parallel.py in <listcomp>(.0=<list_iterator object>)\n    126     def __init__(self, iterator_slice):\n    127         self.items = list(iterator_slice)\n    128         self._size = len(self.items)\n    129 \n    130     def __call__(self):\n--> 131         return [func(*args, **kwargs) for func, args, kwargs in self.items]\n        func = <function _fit_and_score>\n        args = (<keras.wrappers.scikit_learn.KerasClassifier object>, array([[-0.09147995, -0.66398831,  0.69023067, .... -1.00526385,\n        -0.57869742, -0.91670588]]), array([0, 1, 0, ..., 0, 0, 0]), <function _passthrough_scorer>, array([ 800,  801,  802, ..., 7997, 7998, 7999]), array([  0,   1,   2,   3,   4,   5,   6,   7,  ..., 792,\n       793, 794, 795, 796, 797, 798, 799]), 0, None, None)\n        kwargs = {}\n    132 \n    133     def __len__(self):\n    134         return self._size\n    135 \n\n...........................................................................\n/home/anand/miniconda3/envs/py35/lib/python3.5/site-packages/sklearn/model_selection/_validation.py in _fit_and_score(estimator=<keras.wrappers.scikit_learn.KerasClassifier object>, X=array([[-0.09147995, -0.66398831,  0.69023067, .... -1.00526385,\n        -0.57869742, -0.91670588]]), y=array([0, 1, 0, ..., 0, 0, 0]), scorer=<function _passthrough_scorer>, train=array([ 800,  801,  802, ..., 7997, 7998, 7999]), test=array([  0,   1,   2,   3,   4,   5,   6,   7,  ..., 792,\n       793, 794, 795, 796, 797, 798, 799]), verbose=0, parameters=None, fit_params={}, return_train_score=False, return_parameters=False, return_n_test_samples=False, return_times=False, error_score='raise')\n    233 \n    234     try:\n    235         if y_train is None:\n    236             estimator.fit(X_train, **fit_params)\n    237         else:\n--> 238             estimator.fit(X_train, y_train, **fit_params)\n        estimator.fit = <bound method KerasClassifier.fit of <keras.wrappers.scikit_learn.KerasClassifier object>>\n        X_train = array([[-1.24143815,  0.28811982,  0.34427206, .... -1.00526385,\n        -0.57869742, -0.91670588]])\n        y_train = array([0, 0, 0, ..., 0, 0, 0])\n        fit_params = {}\n    239 \n    240     except Exception as e:\n    241         # Note fit time as time until error\n    242         fit_time = time.time() - start_time\n\n...........................................................................\n/home/anand/miniconda3/envs/py35/lib/python3.5/site-packages/keras/wrappers/scikit_learn.py in fit(self=<keras.wrappers.scikit_learn.KerasClassifier object>, x=array([[-1.24143815,  0.28811982,  0.34427206, .... -1.00526385,\n        -0.57869742, -0.91670588]]), y=array([0, 0, 0, ..., 0, 0, 0]), **kwargs={})\n    196             self.classes_ = np.arange(y.shape[1])\n    197         else:\n    198             self.classes_ = np.unique(y)\n    199             y = np.searchsorted(self.classes_, y)\n    200         self.n_classes_ = len(self.classes_)\n--> 201         return super(KerasClassifier, self).fit(x, y, **kwargs)\n        self.fit = <bound method KerasClassifier.fit of <keras.wrappers.scikit_learn.KerasClassifier object>>\n        x = array([[-1.24143815,  0.28811982,  0.34427206, .... -1.00526385,\n        -0.57869742, -0.91670588]])\n        y = array([0, 0, 0, ..., 0, 0, 0])\n        kwargs = {}\n    202 \n    203     def predict(self, x, **kwargs):\n    204         \"\"\"Returns the class predictions for the given test data.\n    205 \n\n...........................................................................\n/home/anand/miniconda3/envs/py35/lib/python3.5/site-packages/keras/wrappers/scikit_learn.py in fit(self=<keras.wrappers.scikit_learn.KerasClassifier object>, x=array([[-1.24143815,  0.28811982,  0.34427206, .... -1.00526385,\n        -0.57869742, -0.91670588]]), y=array([0, 0, 0, ..., 0, 0, 0]), **kwargs={})\n    133         elif (not isinstance(self.build_fn, types.FunctionType) and\n    134               not isinstance(self.build_fn, types.MethodType)):\n    135             self.model = self.build_fn(\n    136                 **self.filter_sk_params(self.build_fn.__call__))\n    137         else:\n--> 138             self.model = self.build_fn(**self.filter_sk_params(self.build_fn))\n        self.model = undefined\n        self.build_fn = <function build_classifier>\n        self.filter_sk_params = <bound method BaseWrapper.filter_sk_params of <keras.wrappers.scikit_learn.KerasClassifier object>>\n    139 \n    140         loss_name = self.model.loss\n    141         if hasattr(loss_name, '__name__'):\n    142             loss_name = loss_name.__name__\n\n...........................................................................\n/home/anand/store/git/anandsaha/handson.deeplearning/<ipython-input-27-d53d896333d5> in build_classifier()\n      1 from keras.wrappers.scikit_learn import KerasClassifier\n      2 from sklearn.model_selection import cross_val_score\n      3 \n      4 def build_classifier():\n      5     classifier = Sequential()\n----> 6     classifier.add(Dense(units = 6, activation = 'relu', kernel_initializer='uniform', input_dim=11))\n      7     classifier.add(Dense(units = 6, activation = 'relu', kernel_initializer='uniform'))\n      8     classifier.add(Dense(units = 1, activation = 'sigmoid', kernel_initializer='uniform'))\n      9     classifier.compile(optimizer='adam', loss='binary_crossentropy', metrics = ['accuracy'])\n     10     return classifier\n\n...........................................................................\n/home/anand/miniconda3/envs/py35/lib/python3.5/site-packages/keras/models.py in add(self=<keras.models.Sequential object>, layer=<keras.layers.core.Dense object>)\n    417                 x = Input(batch_shape=layer.batch_input_shape,\n    418                           dtype=layer.dtype, name=layer.name + '_input')\n    419                 # This will build the current layer\n    420                 # and create the node connecting the current layer\n    421                 # to the input layer we just created.\n--> 422                 layer(x)\n        layer = <keras.layers.core.Dense object>\n        x = /dense_4_input\n    423 \n    424             if len(layer.inbound_nodes) != 1:\n    425                 raise ValueError('A layer added to a Sequential model must '\n    426                                  'not already be connected somewhere else. '\n\n...........................................................................\n/home/anand/miniconda3/envs/py35/lib/python3.5/site-packages/keras/engine/topology.py in __call__(self=<keras.layers.core.Dense object>, inputs=/dense_4_input, **kwargs={})\n    523                                          ' about its expected input shape, '\n    524                                          'and thus cannot be built. '\n    525                                          'You can build it manually via: '\n    526                                          '`layer.build(batch_input_shape)`')\n    527                 if len(input_shapes) == 1:\n--> 528                     self.build(input_shapes[0])\n        self.build = <bound method Dense.build of <keras.layers.core.Dense object>>\n        input_shapes = [(None, 11)]\n    529                 else:\n    530                     self.build(input_shapes)\n    531                 self.built = True\n    532 \n\n...........................................................................\n/home/anand/miniconda3/envs/py35/lib/python3.5/site-packages/keras/layers/core.py in build(self=<keras.layers.core.Dense object>, input_shape=(None, 11))\n    822 \n    823         self.kernel = self.add_weight((input_dim, self.units),\n    824                                       initializer=self.kernel_initializer,\n    825                                       name='kernel',\n    826                                       regularizer=self.kernel_regularizer,\n--> 827                                       constraint=self.kernel_constraint)\n        self.kernel_constraint = None\n    828         if self.use_bias:\n    829             self.bias = self.add_weight((self.units,),\n    830                                         initializer=self.bias_initializer,\n    831                                         name='bias',\n\n...........................................................................\n/home/anand/miniconda3/envs/py35/lib/python3.5/site-packages/keras/engine/topology.py in add_weight(self=<keras.layers.core.Dense object>, shape=(11, 6), initializer=<keras.initializers.RandomUniform object>, name='kernel', trainable=True, regularizer=None, constraint=None)\n    359 \n    360         # Returns\n    361             The created weight variable.\n    362         \"\"\"\n    363         initializer = initializers.get(initializer)\n--> 364         weight = K.variable(initializer(shape), dtype=K.floatx(), name=name)\n        weight = undefined\n        initializer = <keras.initializers.RandomUniform object>\n        shape = (11, 6)\n        name = 'kernel'\n    365         if regularizer is not None:\n    366             self.add_loss(regularizer(weight))\n    367         if constraint is not None:\n    368             self.constraints[weight] = constraint\n\n...........................................................................\n/home/anand/miniconda3/envs/py35/lib/python3.5/site-packages/keras/initializers.py in __call__(self=<keras.initializers.RandomUniform object>, shape=(11, 6), dtype=None)\n     96         self.maxval = maxval\n     97         self.seed = seed\n     98 \n     99     def __call__(self, shape, dtype=None):\n    100         return K.random_uniform(shape, self.minval, self.maxval,\n--> 101                                 dtype=dtype, seed=self.seed)\n        dtype = None\n        self.seed = None\n    102 \n    103     def get_config(self):\n    104         return {\n    105             'minval': self.minval,\n\n...........................................................................\n/home/anand/miniconda3/envs/py35/lib/python3.5/site-packages/keras/backend/theano_backend.py in random_uniform(shape=(11, 6), minval=-0.05, maxval=0.05, dtype='float32', seed=6570446)\n   1964     if dtype is None:\n   1965         dtype = floatx()\n   1966     if seed is None:\n   1967         seed = np.random.randint(1, 10e6)\n   1968     rng = RandomStreams(seed=seed)\n-> 1969     return rng.uniform(shape, low=minval, high=maxval, dtype=dtype)\n        rng.uniform = <bound method MRG_RandomStreams.uniform of <theano.sandbox.rng_mrg.MRG_RandomStreams object>>\n        shape = (11, 6)\n        minval = -0.05\n        maxval = 0.05\n        dtype = 'float32'\n   1970 \n   1971 \n   1972 def random_binomial(shape, p=0.0, dtype=None, seed=None):\n   1973     if dtype is None:\n\n...........................................................................\n/home/anand/miniconda3/envs/py35/lib/python3.5/site-packages/theano/sandbox/rng_mrg.py in uniform(self=<theano.sandbox.rng_mrg.MRG_RandomStreams object>, size=(11, 6), low=TensorConstant{-0.05000000074505806}, high=TensorConstant{0.05000000074505806}, ndim=None, dtype='float32', nstreams=11)\n   1365             u = self.pretty_return(node_rstate,\n   1366                                    *GPU_mrg_uniform.new(node_rstate,\n   1367                                                         ndim, dtype, size),\n   1368                                    size=size, nstreams=orig_nstreams)\n   1369         else:\n-> 1370             node_rstate = shared(rstates)\n        node_rstate = undefined\n        rstates = array([[   6570446,    6570446,    6570446,    6...4,  494673735,\n         209391381]], dtype=int32)\n   1371             u = self.pretty_return(node_rstate,\n   1372                                    *mrg_uniform.new(node_rstate,\n   1373                                                     ndim, dtype, size),\n   1374                                    size=size, nstreams=orig_nstreams)\n\n...........................................................................\n/home/anand/miniconda3/envs/py35/lib/python3.5/site-packages/theano/compile/sharedvalue.py in shared(value=array([[   6570446,    6570446,    6570446,    6...4,  494673735,\n         209391381]], dtype=int32), name=None, strict=False, allow_downcast=None, **kwargs={})\n    263                             \"values and not symbolic variables.\")\n    264 \n    265         for ctor in reversed(shared.constructors):\n    266             try:\n    267                 var = ctor(value, name=name, strict=strict,\n--> 268                            allow_downcast=allow_downcast, **kwargs)\n        allow_downcast = None\n        kwargs = {}\n    269                 utils.add_tag_trace(var)\n    270                 return var\n    271             except TypeError:\n    272                 continue\n\n...........................................................................\n/home/anand/miniconda3/envs/py35/lib/python3.5/site-packages/theano/gpuarray/type.py in gpuarray_shared_constructor(value=array([[   6570446,    6570446,    6570446,    6...4,  494673735,\n         209391381]], dtype=int32), name=None, strict=False, allow_downcast=None, borrow=False, broadcastable=(False, False), target=None)\n    650 \n    651     if broadcastable is None:\n    652         broadcastable = (False,) * value.ndim\n    653     type = GpuArrayType(value.dtype, broadcastable, context_name=target)\n    654     deviceval = pygpu.gpuarray.array(value, copy=(not borrow),\n--> 655                                      context=type.context)\n        type.context = <pygpu.gpuarray.GpuContext object>\n    656     return GpuArraySharedVariable(type=type, value=deviceval, name=name,\n    657                                   strict=strict)\n    658 \n    659 theano.compile.register_view_op_c_code(GpuArrayType, \"\"\"\n\n...........................................................................\n/home/anand/miniconda3/envs/py35/lib/python3.5/site-packages/pygpu/gpuarray.cpython-35m-x86_64-linux-gnu.so in pygpu.gpuarray.array (pygpu/gpuarray.c:12227)()\n    910 \n    911 \n    912 \n    913 \n    914 \n--> 915 \n    916 \n    917 \n    918 \n    919 \n\n...........................................................................\n/home/anand/miniconda3/envs/py35/lib/python3.5/site-packages/pygpu/gpuarray.cpython-35m-x86_64-linux-gnu.so in pygpu.gpuarray.carray (pygpu/gpuarray.c:13109)()\n    965 \n    966 \n    967 \n    968 \n    969 \n--> 970 \n    971 \n    972 \n    973 \n    974 \n\n...........................................................................\n/home/anand/miniconda3/envs/py35/lib/python3.5/site-packages/pygpu/gpuarray.cpython-35m-x86_64-linux-gnu.so in pygpu.gpuarray.pygpu_fromhostdata (pygpu/gpuarray.c:9851)()\n    659 \n    660 \n    661 \n    662 \n    663 \n--> 664 \n    665 \n    666 \n    667 \n    668 \n\n...........................................................................\n/home/anand/miniconda3/envs/py35/lib/python3.5/site-packages/pygpu/gpuarray.cpython-35m-x86_64-linux-gnu.so in pygpu.gpuarray.array_copy_from_host (pygpu/gpuarray.c:5817)()\n    296 \n    297 \n    298 \n    299 \n    300 \n--> 301 \n    302 \n    303 \n    304 \n    305 \n\nGpuArrayException: b'Out of memory'\n___________________________________________________________________________\n\"\"\"",
      "\nThe above exception was the direct cause of the following exception:\n",
      "\u001b[0;31mTransportableException\u001b[0m                    Traceback (most recent call last)",
      "\u001b[0;32m/home/anand/miniconda3/envs/py35/lib/python3.5/site-packages/sklearn/externals/joblib/parallel.py\u001b[0m in \u001b[0;36mretrieve\u001b[0;34m(self)\u001b[0m\n\u001b[1;32m    681\u001b[0m                 \u001b[0;32mif\u001b[0m \u001b[0;34m'timeout'\u001b[0m \u001b[0;32min\u001b[0m \u001b[0mgetfullargspec\u001b[0m\u001b[0;34m(\u001b[0m\u001b[0mjob\u001b[0m\u001b[0;34m.\u001b[0m\u001b[0mget\u001b[0m\u001b[0;34m)\u001b[0m\u001b[0;34m.\u001b[0m\u001b[0margs\u001b[0m\u001b[0;34m:\u001b[0m\u001b[0;34m\u001b[0m\u001b[0m\n\u001b[0;32m--> 682\u001b[0;31m                     \u001b[0mself\u001b[0m\u001b[0;34m.\u001b[0m\u001b[0m_output\u001b[0m\u001b[0;34m.\u001b[0m\u001b[0mextend\u001b[0m\u001b[0;34m(\u001b[0m\u001b[0mjob\u001b[0m\u001b[0;34m.\u001b[0m\u001b[0mget\u001b[0m\u001b[0;34m(\u001b[0m\u001b[0mtimeout\u001b[0m\u001b[0;34m=\u001b[0m\u001b[0mself\u001b[0m\u001b[0;34m.\u001b[0m\u001b[0mtimeout\u001b[0m\u001b[0;34m)\u001b[0m\u001b[0;34m)\u001b[0m\u001b[0;34m\u001b[0m\u001b[0m\n\u001b[0m\u001b[1;32m    683\u001b[0m                 \u001b[0;32melse\u001b[0m\u001b[0;34m:\u001b[0m\u001b[0;34m\u001b[0m\u001b[0m\n",
      "\u001b[0;32m/home/anand/miniconda3/envs/py35/lib/python3.5/multiprocessing/pool.py\u001b[0m in \u001b[0;36mget\u001b[0;34m(self, timeout)\u001b[0m\n\u001b[1;32m    607\u001b[0m         \u001b[0;32melse\u001b[0m\u001b[0;34m:\u001b[0m\u001b[0;34m\u001b[0m\u001b[0m\n\u001b[0;32m--> 608\u001b[0;31m             \u001b[0;32mraise\u001b[0m \u001b[0mself\u001b[0m\u001b[0;34m.\u001b[0m\u001b[0m_value\u001b[0m\u001b[0;34m\u001b[0m\u001b[0m\n\u001b[0m\u001b[1;32m    609\u001b[0m \u001b[0;34m\u001b[0m\u001b[0m\n",
      "\u001b[0;31mTransportableException\u001b[0m: TransportableException\n___________________________________________________________________________\nGpuArrayException                                  Wed Jul 12 21:18:49 2017\nPID: 31334        Python 3.5.3: /home/anand/miniconda3/envs/py35/bin/python\n...........................................................................\n/home/anand/miniconda3/envs/py35/lib/python3.5/site-packages/sklearn/externals/joblib/parallel.py in __call__(self=<sklearn.externals.joblib.parallel.BatchedCalls object>)\n    126     def __init__(self, iterator_slice):\n    127         self.items = list(iterator_slice)\n    128         self._size = len(self.items)\n    129 \n    130     def __call__(self):\n--> 131         return [func(*args, **kwargs) for func, args, kwargs in self.items]\n        self.items = [(<function _fit_and_score>, (<keras.wrappers.scikit_learn.KerasClassifier object>, array([[-0.09147995, -0.66398831,  0.69023067, .... -1.00526385,\n        -0.57869742, -0.91670588]]), array([0, 1, 0, ..., 0, 0, 0]), <function _passthrough_scorer>, array([ 800,  801,  802, ..., 7997, 7998, 7999]), array([  0,   1,   2,   3,   4,   5,   6,   7,  ..., 792,\n       793, 794, 795, 796, 797, 798, 799]), 0, None, None), {})]\n    132 \n    133     def __len__(self):\n    134         return self._size\n    135 \n\n...........................................................................\n/home/anand/miniconda3/envs/py35/lib/python3.5/site-packages/sklearn/externals/joblib/parallel.py in <listcomp>(.0=<list_iterator object>)\n    126     def __init__(self, iterator_slice):\n    127         self.items = list(iterator_slice)\n    128         self._size = len(self.items)\n    129 \n    130     def __call__(self):\n--> 131         return [func(*args, **kwargs) for func, args, kwargs in self.items]\n        func = <function _fit_and_score>\n        args = (<keras.wrappers.scikit_learn.KerasClassifier object>, array([[-0.09147995, -0.66398831,  0.69023067, .... -1.00526385,\n        -0.57869742, -0.91670588]]), array([0, 1, 0, ..., 0, 0, 0]), <function _passthrough_scorer>, array([ 800,  801,  802, ..., 7997, 7998, 7999]), array([  0,   1,   2,   3,   4,   5,   6,   7,  ..., 792,\n       793, 794, 795, 796, 797, 798, 799]), 0, None, None)\n        kwargs = {}\n    132 \n    133     def __len__(self):\n    134         return self._size\n    135 \n\n...........................................................................\n/home/anand/miniconda3/envs/py35/lib/python3.5/site-packages/sklearn/model_selection/_validation.py in _fit_and_score(estimator=<keras.wrappers.scikit_learn.KerasClassifier object>, X=array([[-0.09147995, -0.66398831,  0.69023067, .... -1.00526385,\n        -0.57869742, -0.91670588]]), y=array([0, 1, 0, ..., 0, 0, 0]), scorer=<function _passthrough_scorer>, train=array([ 800,  801,  802, ..., 7997, 7998, 7999]), test=array([  0,   1,   2,   3,   4,   5,   6,   7,  ..., 792,\n       793, 794, 795, 796, 797, 798, 799]), verbose=0, parameters=None, fit_params={}, return_train_score=False, return_parameters=False, return_n_test_samples=False, return_times=False, error_score='raise')\n    233 \n    234     try:\n    235         if y_train is None:\n    236             estimator.fit(X_train, **fit_params)\n    237         else:\n--> 238             estimator.fit(X_train, y_train, **fit_params)\n        estimator.fit = <bound method KerasClassifier.fit of <keras.wrappers.scikit_learn.KerasClassifier object>>\n        X_train = array([[-1.24143815,  0.28811982,  0.34427206, .... -1.00526385,\n        -0.57869742, -0.91670588]])\n        y_train = array([0, 0, 0, ..., 0, 0, 0])\n        fit_params = {}\n    239 \n    240     except Exception as e:\n    241         # Note fit time as time until error\n    242         fit_time = time.time() - start_time\n\n...........................................................................\n/home/anand/miniconda3/envs/py35/lib/python3.5/site-packages/keras/wrappers/scikit_learn.py in fit(self=<keras.wrappers.scikit_learn.KerasClassifier object>, x=array([[-1.24143815,  0.28811982,  0.34427206, .... -1.00526385,\n        -0.57869742, -0.91670588]]), y=array([0, 0, 0, ..., 0, 0, 0]), **kwargs={})\n    196             self.classes_ = np.arange(y.shape[1])\n    197         else:\n    198             self.classes_ = np.unique(y)\n    199             y = np.searchsorted(self.classes_, y)\n    200         self.n_classes_ = len(self.classes_)\n--> 201         return super(KerasClassifier, self).fit(x, y, **kwargs)\n        self.fit = <bound method KerasClassifier.fit of <keras.wrappers.scikit_learn.KerasClassifier object>>\n        x = array([[-1.24143815,  0.28811982,  0.34427206, .... -1.00526385,\n        -0.57869742, -0.91670588]])\n        y = array([0, 0, 0, ..., 0, 0, 0])\n        kwargs = {}\n    202 \n    203     def predict(self, x, **kwargs):\n    204         \"\"\"Returns the class predictions for the given test data.\n    205 \n\n...........................................................................\n/home/anand/miniconda3/envs/py35/lib/python3.5/site-packages/keras/wrappers/scikit_learn.py in fit(self=<keras.wrappers.scikit_learn.KerasClassifier object>, x=array([[-1.24143815,  0.28811982,  0.34427206, .... -1.00526385,\n        -0.57869742, -0.91670588]]), y=array([0, 0, 0, ..., 0, 0, 0]), **kwargs={})\n    133         elif (not isinstance(self.build_fn, types.FunctionType) and\n    134               not isinstance(self.build_fn, types.MethodType)):\n    135             self.model = self.build_fn(\n    136                 **self.filter_sk_params(self.build_fn.__call__))\n    137         else:\n--> 138             self.model = self.build_fn(**self.filter_sk_params(self.build_fn))\n        self.model = undefined\n        self.build_fn = <function build_classifier>\n        self.filter_sk_params = <bound method BaseWrapper.filter_sk_params of <keras.wrappers.scikit_learn.KerasClassifier object>>\n    139 \n    140         loss_name = self.model.loss\n    141         if hasattr(loss_name, '__name__'):\n    142             loss_name = loss_name.__name__\n\n...........................................................................\n/home/anand/store/git/anandsaha/handson.deeplearning/<ipython-input-27-d53d896333d5> in build_classifier()\n      1 from keras.wrappers.scikit_learn import KerasClassifier\n      2 from sklearn.model_selection import cross_val_score\n      3 \n      4 def build_classifier():\n      5     classifier = Sequential()\n----> 6     classifier.add(Dense(units = 6, activation = 'relu', kernel_initializer='uniform', input_dim=11))\n      7     classifier.add(Dense(units = 6, activation = 'relu', kernel_initializer='uniform'))\n      8     classifier.add(Dense(units = 1, activation = 'sigmoid', kernel_initializer='uniform'))\n      9     classifier.compile(optimizer='adam', loss='binary_crossentropy', metrics = ['accuracy'])\n     10     return classifier\n\n...........................................................................\n/home/anand/miniconda3/envs/py35/lib/python3.5/site-packages/keras/models.py in add(self=<keras.models.Sequential object>, layer=<keras.layers.core.Dense object>)\n    417                 x = Input(batch_shape=layer.batch_input_shape,\n    418                           dtype=layer.dtype, name=layer.name + '_input')\n    419                 # This will build the current layer\n    420                 # and create the node connecting the current layer\n    421                 # to the input layer we just created.\n--> 422                 layer(x)\n        layer = <keras.layers.core.Dense object>\n        x = /dense_4_input\n    423 \n    424             if len(layer.inbound_nodes) != 1:\n    425                 raise ValueError('A layer added to a Sequential model must '\n    426                                  'not already be connected somewhere else. '\n\n...........................................................................\n/home/anand/miniconda3/envs/py35/lib/python3.5/site-packages/keras/engine/topology.py in __call__(self=<keras.layers.core.Dense object>, inputs=/dense_4_input, **kwargs={})\n    523                                          ' about its expected input shape, '\n    524                                          'and thus cannot be built. '\n    525                                          'You can build it manually via: '\n    526                                          '`layer.build(batch_input_shape)`')\n    527                 if len(input_shapes) == 1:\n--> 528                     self.build(input_shapes[0])\n        self.build = <bound method Dense.build of <keras.layers.core.Dense object>>\n        input_shapes = [(None, 11)]\n    529                 else:\n    530                     self.build(input_shapes)\n    531                 self.built = True\n    532 \n\n...........................................................................\n/home/anand/miniconda3/envs/py35/lib/python3.5/site-packages/keras/layers/core.py in build(self=<keras.layers.core.Dense object>, input_shape=(None, 11))\n    822 \n    823         self.kernel = self.add_weight((input_dim, self.units),\n    824                                       initializer=self.kernel_initializer,\n    825                                       name='kernel',\n    826                                       regularizer=self.kernel_regularizer,\n--> 827                                       constraint=self.kernel_constraint)\n        self.kernel_constraint = None\n    828         if self.use_bias:\n    829             self.bias = self.add_weight((self.units,),\n    830                                         initializer=self.bias_initializer,\n    831                                         name='bias',\n\n...........................................................................\n/home/anand/miniconda3/envs/py35/lib/python3.5/site-packages/keras/engine/topology.py in add_weight(self=<keras.layers.core.Dense object>, shape=(11, 6), initializer=<keras.initializers.RandomUniform object>, name='kernel', trainable=True, regularizer=None, constraint=None)\n    359 \n    360         # Returns\n    361             The created weight variable.\n    362         \"\"\"\n    363         initializer = initializers.get(initializer)\n--> 364         weight = K.variable(initializer(shape), dtype=K.floatx(), name=name)\n        weight = undefined\n        initializer = <keras.initializers.RandomUniform object>\n        shape = (11, 6)\n        name = 'kernel'\n    365         if regularizer is not None:\n    366             self.add_loss(regularizer(weight))\n    367         if constraint is not None:\n    368             self.constraints[weight] = constraint\n\n...........................................................................\n/home/anand/miniconda3/envs/py35/lib/python3.5/site-packages/keras/initializers.py in __call__(self=<keras.initializers.RandomUniform object>, shape=(11, 6), dtype=None)\n     96         self.maxval = maxval\n     97         self.seed = seed\n     98 \n     99     def __call__(self, shape, dtype=None):\n    100         return K.random_uniform(shape, self.minval, self.maxval,\n--> 101                                 dtype=dtype, seed=self.seed)\n        dtype = None\n        self.seed = None\n    102 \n    103     def get_config(self):\n    104         return {\n    105             'minval': self.minval,\n\n...........................................................................\n/home/anand/miniconda3/envs/py35/lib/python3.5/site-packages/keras/backend/theano_backend.py in random_uniform(shape=(11, 6), minval=-0.05, maxval=0.05, dtype='float32', seed=6570446)\n   1964     if dtype is None:\n   1965         dtype = floatx()\n   1966     if seed is None:\n   1967         seed = np.random.randint(1, 10e6)\n   1968     rng = RandomStreams(seed=seed)\n-> 1969     return rng.uniform(shape, low=minval, high=maxval, dtype=dtype)\n        rng.uniform = <bound method MRG_RandomStreams.uniform of <theano.sandbox.rng_mrg.MRG_RandomStreams object>>\n        shape = (11, 6)\n        minval = -0.05\n        maxval = 0.05\n        dtype = 'float32'\n   1970 \n   1971 \n   1972 def random_binomial(shape, p=0.0, dtype=None, seed=None):\n   1973     if dtype is None:\n\n...........................................................................\n/home/anand/miniconda3/envs/py35/lib/python3.5/site-packages/theano/sandbox/rng_mrg.py in uniform(self=<theano.sandbox.rng_mrg.MRG_RandomStreams object>, size=(11, 6), low=TensorConstant{-0.05000000074505806}, high=TensorConstant{0.05000000074505806}, ndim=None, dtype='float32', nstreams=11)\n   1365             u = self.pretty_return(node_rstate,\n   1366                                    *GPU_mrg_uniform.new(node_rstate,\n   1367                                                         ndim, dtype, size),\n   1368                                    size=size, nstreams=orig_nstreams)\n   1369         else:\n-> 1370             node_rstate = shared(rstates)\n        node_rstate = undefined\n        rstates = array([[   6570446,    6570446,    6570446,    6...4,  494673735,\n         209391381]], dtype=int32)\n   1371             u = self.pretty_return(node_rstate,\n   1372                                    *mrg_uniform.new(node_rstate,\n   1373                                                     ndim, dtype, size),\n   1374                                    size=size, nstreams=orig_nstreams)\n\n...........................................................................\n/home/anand/miniconda3/envs/py35/lib/python3.5/site-packages/theano/compile/sharedvalue.py in shared(value=array([[   6570446,    6570446,    6570446,    6...4,  494673735,\n         209391381]], dtype=int32), name=None, strict=False, allow_downcast=None, **kwargs={})\n    263                             \"values and not symbolic variables.\")\n    264 \n    265         for ctor in reversed(shared.constructors):\n    266             try:\n    267                 var = ctor(value, name=name, strict=strict,\n--> 268                            allow_downcast=allow_downcast, **kwargs)\n        allow_downcast = None\n        kwargs = {}\n    269                 utils.add_tag_trace(var)\n    270                 return var\n    271             except TypeError:\n    272                 continue\n\n...........................................................................\n/home/anand/miniconda3/envs/py35/lib/python3.5/site-packages/theano/gpuarray/type.py in gpuarray_shared_constructor(value=array([[   6570446,    6570446,    6570446,    6...4,  494673735,\n         209391381]], dtype=int32), name=None, strict=False, allow_downcast=None, borrow=False, broadcastable=(False, False), target=None)\n    650 \n    651     if broadcastable is None:\n    652         broadcastable = (False,) * value.ndim\n    653     type = GpuArrayType(value.dtype, broadcastable, context_name=target)\n    654     deviceval = pygpu.gpuarray.array(value, copy=(not borrow),\n--> 655                                      context=type.context)\n        type.context = <pygpu.gpuarray.GpuContext object>\n    656     return GpuArraySharedVariable(type=type, value=deviceval, name=name,\n    657                                   strict=strict)\n    658 \n    659 theano.compile.register_view_op_c_code(GpuArrayType, \"\"\"\n\n...........................................................................\n/home/anand/miniconda3/envs/py35/lib/python3.5/site-packages/pygpu/gpuarray.cpython-35m-x86_64-linux-gnu.so in pygpu.gpuarray.array (pygpu/gpuarray.c:12227)()\n    910 \n    911 \n    912 \n    913 \n    914 \n--> 915 \n    916 \n    917 \n    918 \n    919 \n\n...........................................................................\n/home/anand/miniconda3/envs/py35/lib/python3.5/site-packages/pygpu/gpuarray.cpython-35m-x86_64-linux-gnu.so in pygpu.gpuarray.carray (pygpu/gpuarray.c:13109)()\n    965 \n    966 \n    967 \n    968 \n    969 \n--> 970 \n    971 \n    972 \n    973 \n    974 \n\n...........................................................................\n/home/anand/miniconda3/envs/py35/lib/python3.5/site-packages/pygpu/gpuarray.cpython-35m-x86_64-linux-gnu.so in pygpu.gpuarray.pygpu_fromhostdata (pygpu/gpuarray.c:9851)()\n    659 \n    660 \n    661 \n    662 \n    663 \n--> 664 \n    665 \n    666 \n    667 \n    668 \n\n...........................................................................\n/home/anand/miniconda3/envs/py35/lib/python3.5/site-packages/pygpu/gpuarray.cpython-35m-x86_64-linux-gnu.so in pygpu.gpuarray.array_copy_from_host (pygpu/gpuarray.c:5817)()\n    296 \n    297 \n    298 \n    299 \n    300 \n--> 301 \n    302 \n    303 \n    304 \n    305 \n\nGpuArrayException: b'Out of memory'\n___________________________________________________________________________",
      "\nDuring handling of the above exception, another exception occurred:\n",
      "\u001b[0;31mJoblibGpuArrayException\u001b[0m                   Traceback (most recent call last)",
      "\u001b[0;32m<ipython-input-27-d53d896333d5>\u001b[0m in \u001b[0;36m<module>\u001b[0;34m()\u001b[0m\n\u001b[1;32m     11\u001b[0m \u001b[0;34m\u001b[0m\u001b[0m\n\u001b[1;32m     12\u001b[0m \u001b[0mclassifier_kfold\u001b[0m \u001b[0;34m=\u001b[0m \u001b[0mKerasClassifier\u001b[0m\u001b[0;34m(\u001b[0m\u001b[0mbuild_fn\u001b[0m\u001b[0;34m=\u001b[0m\u001b[0mbuild_classifier\u001b[0m\u001b[0;34m,\u001b[0m \u001b[0mbatch_size\u001b[0m\u001b[0;34m=\u001b[0m\u001b[0;36m10\u001b[0m\u001b[0;34m,\u001b[0m \u001b[0mepochs\u001b[0m\u001b[0;34m=\u001b[0m\u001b[0;36m100\u001b[0m\u001b[0;34m)\u001b[0m\u001b[0;34m\u001b[0m\u001b[0m\n\u001b[0;32m---> 13\u001b[0;31m \u001b[0maccuracies\u001b[0m \u001b[0;34m=\u001b[0m \u001b[0mcross_val_score\u001b[0m\u001b[0;34m(\u001b[0m\u001b[0mestimator\u001b[0m\u001b[0;34m=\u001b[0m\u001b[0mclassifier_kfold\u001b[0m\u001b[0;34m,\u001b[0m \u001b[0mX\u001b[0m\u001b[0;34m=\u001b[0m\u001b[0mX_train\u001b[0m\u001b[0;34m,\u001b[0m \u001b[0my\u001b[0m\u001b[0;34m=\u001b[0m\u001b[0my_train\u001b[0m\u001b[0;34m,\u001b[0m \u001b[0mcv\u001b[0m\u001b[0;34m=\u001b[0m\u001b[0;36m10\u001b[0m\u001b[0;34m,\u001b[0m \u001b[0mn_jobs\u001b[0m\u001b[0;34m=\u001b[0m\u001b[0;34m-\u001b[0m\u001b[0;36m1\u001b[0m\u001b[0;34m)\u001b[0m\u001b[0;34m\u001b[0m\u001b[0m\n\u001b[0m",
      "\u001b[0;32m/home/anand/miniconda3/envs/py35/lib/python3.5/site-packages/sklearn/model_selection/_validation.py\u001b[0m in \u001b[0;36mcross_val_score\u001b[0;34m(estimator, X, y, groups, scoring, cv, n_jobs, verbose, fit_params, pre_dispatch)\u001b[0m\n\u001b[1;32m    138\u001b[0m                                               \u001b[0mtrain\u001b[0m\u001b[0;34m,\u001b[0m \u001b[0mtest\u001b[0m\u001b[0;34m,\u001b[0m \u001b[0mverbose\u001b[0m\u001b[0;34m,\u001b[0m \u001b[0;32mNone\u001b[0m\u001b[0;34m,\u001b[0m\u001b[0;34m\u001b[0m\u001b[0m\n\u001b[1;32m    139\u001b[0m                                               fit_params)\n\u001b[0;32m--> 140\u001b[0;31m                       for train, test in cv_iter)\n\u001b[0m\u001b[1;32m    141\u001b[0m     \u001b[0;32mreturn\u001b[0m \u001b[0mnp\u001b[0m\u001b[0;34m.\u001b[0m\u001b[0marray\u001b[0m\u001b[0;34m(\u001b[0m\u001b[0mscores\u001b[0m\u001b[0;34m)\u001b[0m\u001b[0;34m[\u001b[0m\u001b[0;34m:\u001b[0m\u001b[0;34m,\u001b[0m \u001b[0;36m0\u001b[0m\u001b[0;34m]\u001b[0m\u001b[0;34m\u001b[0m\u001b[0m\n\u001b[1;32m    142\u001b[0m \u001b[0;34m\u001b[0m\u001b[0m\n",
      "\u001b[0;32m/home/anand/miniconda3/envs/py35/lib/python3.5/site-packages/sklearn/externals/joblib/parallel.py\u001b[0m in \u001b[0;36m__call__\u001b[0;34m(self, iterable)\u001b[0m\n\u001b[1;32m    766\u001b[0m                 \u001b[0;31m# consumption.\u001b[0m\u001b[0;34m\u001b[0m\u001b[0;34m\u001b[0m\u001b[0m\n\u001b[1;32m    767\u001b[0m                 \u001b[0mself\u001b[0m\u001b[0;34m.\u001b[0m\u001b[0m_iterating\u001b[0m \u001b[0;34m=\u001b[0m \u001b[0;32mFalse\u001b[0m\u001b[0;34m\u001b[0m\u001b[0m\n\u001b[0;32m--> 768\u001b[0;31m             \u001b[0mself\u001b[0m\u001b[0;34m.\u001b[0m\u001b[0mretrieve\u001b[0m\u001b[0;34m(\u001b[0m\u001b[0;34m)\u001b[0m\u001b[0;34m\u001b[0m\u001b[0m\n\u001b[0m\u001b[1;32m    769\u001b[0m             \u001b[0;31m# Make sure that we get a last message telling us we are done\u001b[0m\u001b[0;34m\u001b[0m\u001b[0;34m\u001b[0m\u001b[0m\n\u001b[1;32m    770\u001b[0m             \u001b[0melapsed_time\u001b[0m \u001b[0;34m=\u001b[0m \u001b[0mtime\u001b[0m\u001b[0;34m.\u001b[0m\u001b[0mtime\u001b[0m\u001b[0;34m(\u001b[0m\u001b[0;34m)\u001b[0m \u001b[0;34m-\u001b[0m \u001b[0mself\u001b[0m\u001b[0;34m.\u001b[0m\u001b[0m_start_time\u001b[0m\u001b[0;34m\u001b[0m\u001b[0m\n",
      "\u001b[0;32m/home/anand/miniconda3/envs/py35/lib/python3.5/site-packages/sklearn/externals/joblib/parallel.py\u001b[0m in \u001b[0;36mretrieve\u001b[0;34m(self)\u001b[0m\n\u001b[1;32m    717\u001b[0m                     \u001b[0mensure_ready\u001b[0m \u001b[0;34m=\u001b[0m \u001b[0mself\u001b[0m\u001b[0;34m.\u001b[0m\u001b[0m_managed_backend\u001b[0m\u001b[0;34m\u001b[0m\u001b[0m\n\u001b[1;32m    718\u001b[0m                     \u001b[0mbackend\u001b[0m\u001b[0;34m.\u001b[0m\u001b[0mabort_everything\u001b[0m\u001b[0;34m(\u001b[0m\u001b[0mensure_ready\u001b[0m\u001b[0;34m=\u001b[0m\u001b[0mensure_ready\u001b[0m\u001b[0;34m)\u001b[0m\u001b[0;34m\u001b[0m\u001b[0m\n\u001b[0;32m--> 719\u001b[0;31m                 \u001b[0;32mraise\u001b[0m \u001b[0mexception\u001b[0m\u001b[0;34m\u001b[0m\u001b[0m\n\u001b[0m\u001b[1;32m    720\u001b[0m \u001b[0;34m\u001b[0m\u001b[0m\n\u001b[1;32m    721\u001b[0m     \u001b[0;32mdef\u001b[0m \u001b[0m__call__\u001b[0m\u001b[0;34m(\u001b[0m\u001b[0mself\u001b[0m\u001b[0;34m,\u001b[0m \u001b[0miterable\u001b[0m\u001b[0;34m)\u001b[0m\u001b[0;34m:\u001b[0m\u001b[0;34m\u001b[0m\u001b[0m\n",
      "\u001b[0;31mJoblibGpuArrayException\u001b[0m: JoblibGpuArrayException\n___________________________________________________________________________\nMultiprocessing exception:\n...........................................................................\n/home/anand/miniconda3/envs/py35/lib/python3.5/runpy.py in _run_module_as_main(mod_name='ipykernel_launcher', alter_argv=1)\n    188         sys.exit(msg)\n    189     main_globals = sys.modules[\"__main__\"].__dict__\n    190     if alter_argv:\n    191         sys.argv[0] = mod_spec.origin\n    192     return _run_code(code, main_globals, None,\n--> 193                      \"__main__\", mod_spec)\n        mod_spec = ModuleSpec(name='ipykernel_launcher', loader=<_f...b/python3.5/site-packages/ipykernel_launcher.py')\n    194 \n    195 def run_module(mod_name, init_globals=None,\n    196                run_name=None, alter_sys=False):\n    197     \"\"\"Execute a module's code without importing it\n\n...........................................................................\n/home/anand/miniconda3/envs/py35/lib/python3.5/runpy.py in _run_code(code=<code object <module> at 0x7f08a60b3c90, file \"/...3.5/site-packages/ipykernel_launcher.py\", line 5>, run_globals={'__builtins__': <module 'builtins' (built-in)>, '__cached__': '/home/anand/miniconda3/envs/py35/lib/python3.5/s...ges/__pycache__/ipykernel_launcher.cpython-35.pyc', '__doc__': 'Entry point for launching an IPython kernel.\\n\\nTh...orts until\\nafter removing the cwd from sys.path.\\n', '__file__': '/home/anand/miniconda3/envs/py35/lib/python3.5/site-packages/ipykernel_launcher.py', '__loader__': <_frozen_importlib_external.SourceFileLoader object>, '__name__': '__main__', '__package__': '', '__spec__': ModuleSpec(name='ipykernel_launcher', loader=<_f...b/python3.5/site-packages/ipykernel_launcher.py'), 'app': <module 'ipykernel.kernelapp' from '/home/anand/.../python3.5/site-packages/ipykernel/kernelapp.py'>, 'sys': <module 'sys' (built-in)>}, init_globals=None, mod_name='__main__', mod_spec=ModuleSpec(name='ipykernel_launcher', loader=<_f...b/python3.5/site-packages/ipykernel_launcher.py'), pkg_name='', script_name=None)\n     80                        __cached__ = cached,\n     81                        __doc__ = None,\n     82                        __loader__ = loader,\n     83                        __package__ = pkg_name,\n     84                        __spec__ = mod_spec)\n---> 85     exec(code, run_globals)\n        code = <code object <module> at 0x7f08a60b3c90, file \"/...3.5/site-packages/ipykernel_launcher.py\", line 5>\n        run_globals = {'__builtins__': <module 'builtins' (built-in)>, '__cached__': '/home/anand/miniconda3/envs/py35/lib/python3.5/s...ges/__pycache__/ipykernel_launcher.cpython-35.pyc', '__doc__': 'Entry point for launching an IPython kernel.\\n\\nTh...orts until\\nafter removing the cwd from sys.path.\\n', '__file__': '/home/anand/miniconda3/envs/py35/lib/python3.5/site-packages/ipykernel_launcher.py', '__loader__': <_frozen_importlib_external.SourceFileLoader object>, '__name__': '__main__', '__package__': '', '__spec__': ModuleSpec(name='ipykernel_launcher', loader=<_f...b/python3.5/site-packages/ipykernel_launcher.py'), 'app': <module 'ipykernel.kernelapp' from '/home/anand/.../python3.5/site-packages/ipykernel/kernelapp.py'>, 'sys': <module 'sys' (built-in)>}\n     86     return run_globals\n     87 \n     88 def _run_module_code(code, init_globals=None,\n     89                     mod_name=None, mod_spec=None,\n\n...........................................................................\n/home/anand/miniconda3/envs/py35/lib/python3.5/site-packages/ipykernel_launcher.py in <module>()\n     11     # This is added back by InteractiveShellApp.init_path()\n     12     if sys.path[0] == '':\n     13         del sys.path[0]\n     14 \n     15     from ipykernel import kernelapp as app\n---> 16     app.launch_new_instance()\n     17 \n     18 \n     19 \n     20 \n\n...........................................................................\n/home/anand/miniconda3/envs/py35/lib/python3.5/site-packages/traitlets/config/application.py in launch_instance(cls=<class 'ipykernel.kernelapp.IPKernelApp'>, argv=None, **kwargs={})\n    653 \n    654         If a global instance already exists, this reinitializes and starts it\n    655         \"\"\"\n    656         app = cls.instance(**kwargs)\n    657         app.initialize(argv)\n--> 658         app.start()\n        app.start = <bound method IPKernelApp.start of <ipykernel.kernelapp.IPKernelApp object>>\n    659 \n    660 #-----------------------------------------------------------------------------\n    661 # utility functions, for convenience\n    662 #-----------------------------------------------------------------------------\n\n...........................................................................\n/home/anand/miniconda3/envs/py35/lib/python3.5/site-packages/ipykernel/kernelapp.py in start(self=<ipykernel.kernelapp.IPKernelApp object>)\n    472             return self.subapp.start()\n    473         if self.poller is not None:\n    474             self.poller.start()\n    475         self.kernel.start()\n    476         try:\n--> 477             ioloop.IOLoop.instance().start()\n    478         except KeyboardInterrupt:\n    479             pass\n    480 \n    481 launch_new_instance = IPKernelApp.launch_instance\n\n...........................................................................\n/home/anand/miniconda3/envs/py35/lib/python3.5/site-packages/zmq/eventloop/ioloop.py in start(self=<zmq.eventloop.ioloop.ZMQIOLoop object>)\n    172             )\n    173         return loop\n    174     \n    175     def start(self):\n    176         try:\n--> 177             super(ZMQIOLoop, self).start()\n        self.start = <bound method ZMQIOLoop.start of <zmq.eventloop.ioloop.ZMQIOLoop object>>\n    178         except ZMQError as e:\n    179             if e.errno == ETERM:\n    180                 # quietly return on ETERM\n    181                 pass\n\n...........................................................................\n/home/anand/miniconda3/envs/py35/lib/python3.5/site-packages/tornado/ioloop.py in start(self=<zmq.eventloop.ioloop.ZMQIOLoop object>)\n    883                 self._events.update(event_pairs)\n    884                 while self._events:\n    885                     fd, events = self._events.popitem()\n    886                     try:\n    887                         fd_obj, handler_func = self._handlers[fd]\n--> 888                         handler_func(fd_obj, events)\n        handler_func = <function wrap.<locals>.null_wrapper>\n        fd_obj = <zmq.sugar.socket.Socket object>\n        events = 5\n    889                     except (OSError, IOError) as e:\n    890                         if errno_from_exception(e) == errno.EPIPE:\n    891                             # Happens when the client closes the connection\n    892                             pass\n\n...........................................................................\n/home/anand/miniconda3/envs/py35/lib/python3.5/site-packages/tornado/stack_context.py in null_wrapper(*args=(<zmq.sugar.socket.Socket object>, 5), **kwargs={})\n    272         # Fast path when there are no active contexts.\n    273         def null_wrapper(*args, **kwargs):\n    274             try:\n    275                 current_state = _state.contexts\n    276                 _state.contexts = cap_contexts[0]\n--> 277                 return fn(*args, **kwargs)\n        args = (<zmq.sugar.socket.Socket object>, 5)\n        kwargs = {}\n    278             finally:\n    279                 _state.contexts = current_state\n    280         null_wrapper._wrapped = True\n    281         return null_wrapper\n\n...........................................................................\n/home/anand/miniconda3/envs/py35/lib/python3.5/site-packages/zmq/eventloop/zmqstream.py in _handle_events(self=<zmq.eventloop.zmqstream.ZMQStream object>, fd=<zmq.sugar.socket.Socket object>, events=5)\n    435             # dispatch events:\n    436             if events & IOLoop.ERROR:\n    437                 gen_log.error(\"got POLLERR event on ZMQStream, which doesn't make sense\")\n    438                 return\n    439             if events & IOLoop.READ:\n--> 440                 self._handle_recv()\n        self._handle_recv = <bound method ZMQStream._handle_recv of <zmq.eventloop.zmqstream.ZMQStream object>>\n    441                 if not self.socket:\n    442                     return\n    443             if events & IOLoop.WRITE:\n    444                 self._handle_send()\n\n...........................................................................\n/home/anand/miniconda3/envs/py35/lib/python3.5/site-packages/zmq/eventloop/zmqstream.py in _handle_recv(self=<zmq.eventloop.zmqstream.ZMQStream object>)\n    467                 gen_log.error(\"RECV Error: %s\"%zmq.strerror(e.errno))\n    468         else:\n    469             if self._recv_callback:\n    470                 callback = self._recv_callback\n    471                 # self._recv_callback = None\n--> 472                 self._run_callback(callback, msg)\n        self._run_callback = <bound method ZMQStream._run_callback of <zmq.eventloop.zmqstream.ZMQStream object>>\n        callback = <function wrap.<locals>.null_wrapper>\n        msg = [<zmq.sugar.frame.Frame object>, <zmq.sugar.frame.Frame object>, <zmq.sugar.frame.Frame object>, <zmq.sugar.frame.Frame object>, <zmq.sugar.frame.Frame object>, <zmq.sugar.frame.Frame object>, <zmq.sugar.frame.Frame object>]\n    473                 \n    474         # self.update_state()\n    475         \n    476 \n\n...........................................................................\n/home/anand/miniconda3/envs/py35/lib/python3.5/site-packages/zmq/eventloop/zmqstream.py in _run_callback(self=<zmq.eventloop.zmqstream.ZMQStream object>, callback=<function wrap.<locals>.null_wrapper>, *args=([<zmq.sugar.frame.Frame object>, <zmq.sugar.frame.Frame object>, <zmq.sugar.frame.Frame object>, <zmq.sugar.frame.Frame object>, <zmq.sugar.frame.Frame object>, <zmq.sugar.frame.Frame object>, <zmq.sugar.frame.Frame object>],), **kwargs={})\n    409         close our socket.\"\"\"\n    410         try:\n    411             # Use a NullContext to ensure that all StackContexts are run\n    412             # inside our blanket exception handler rather than outside.\n    413             with stack_context.NullContext():\n--> 414                 callback(*args, **kwargs)\n        callback = <function wrap.<locals>.null_wrapper>\n        args = ([<zmq.sugar.frame.Frame object>, <zmq.sugar.frame.Frame object>, <zmq.sugar.frame.Frame object>, <zmq.sugar.frame.Frame object>, <zmq.sugar.frame.Frame object>, <zmq.sugar.frame.Frame object>, <zmq.sugar.frame.Frame object>],)\n        kwargs = {}\n    415         except:\n    416             gen_log.error(\"Uncaught exception, closing connection.\",\n    417                           exc_info=True)\n    418             # Close the socket on an uncaught exception from a user callback\n\n...........................................................................\n/home/anand/miniconda3/envs/py35/lib/python3.5/site-packages/tornado/stack_context.py in null_wrapper(*args=([<zmq.sugar.frame.Frame object>, <zmq.sugar.frame.Frame object>, <zmq.sugar.frame.Frame object>, <zmq.sugar.frame.Frame object>, <zmq.sugar.frame.Frame object>, <zmq.sugar.frame.Frame object>, <zmq.sugar.frame.Frame object>],), **kwargs={})\n    272         # Fast path when there are no active contexts.\n    273         def null_wrapper(*args, **kwargs):\n    274             try:\n    275                 current_state = _state.contexts\n    276                 _state.contexts = cap_contexts[0]\n--> 277                 return fn(*args, **kwargs)\n        args = ([<zmq.sugar.frame.Frame object>, <zmq.sugar.frame.Frame object>, <zmq.sugar.frame.Frame object>, <zmq.sugar.frame.Frame object>, <zmq.sugar.frame.Frame object>, <zmq.sugar.frame.Frame object>, <zmq.sugar.frame.Frame object>],)\n        kwargs = {}\n    278             finally:\n    279                 _state.contexts = current_state\n    280         null_wrapper._wrapped = True\n    281         return null_wrapper\n\n...........................................................................\n/home/anand/miniconda3/envs/py35/lib/python3.5/site-packages/ipykernel/kernelbase.py in dispatcher(msg=[<zmq.sugar.frame.Frame object>, <zmq.sugar.frame.Frame object>, <zmq.sugar.frame.Frame object>, <zmq.sugar.frame.Frame object>, <zmq.sugar.frame.Frame object>, <zmq.sugar.frame.Frame object>, <zmq.sugar.frame.Frame object>])\n    278         if self.control_stream:\n    279             self.control_stream.on_recv(self.dispatch_control, copy=False)\n    280 \n    281         def make_dispatcher(stream):\n    282             def dispatcher(msg):\n--> 283                 return self.dispatch_shell(stream, msg)\n        msg = [<zmq.sugar.frame.Frame object>, <zmq.sugar.frame.Frame object>, <zmq.sugar.frame.Frame object>, <zmq.sugar.frame.Frame object>, <zmq.sugar.frame.Frame object>, <zmq.sugar.frame.Frame object>, <zmq.sugar.frame.Frame object>]\n    284             return dispatcher\n    285 \n    286         for s in self.shell_streams:\n    287             s.on_recv(make_dispatcher(s), copy=False)\n\n...........................................................................\n/home/anand/miniconda3/envs/py35/lib/python3.5/site-packages/ipykernel/kernelbase.py in dispatch_shell(self=<ipykernel.ipkernel.IPythonKernel object>, stream=<zmq.eventloop.zmqstream.ZMQStream object>, msg={'buffers': [], 'content': {'allow_stdin': True, 'code': 'from keras.wrappers.scikit_learn import KerasCla...er_kfold, X=X_train, y=y_train, cv=10, n_jobs=-1)', 'silent': False, 'stop_on_error': True, 'store_history': True, 'user_expressions': {}}, 'header': {'date': datetime.datetime(2017, 7, 12, 15, 48, 49, 661536, tzinfo=datetime.timezone.utc), 'msg_id': '5C7C284BF6F4484182C503C932EEBC56', 'msg_type': 'execute_request', 'session': '76B5C4476B3E49218478F43547952441', 'username': 'username', 'version': '5.0'}, 'metadata': {}, 'msg_id': '5C7C284BF6F4484182C503C932EEBC56', 'msg_type': 'execute_request', 'parent_header': {}})\n    230             self.log.warn(\"Unknown message type: %r\", msg_type)\n    231         else:\n    232             self.log.debug(\"%s: %s\", msg_type, msg)\n    233             self.pre_handler_hook()\n    234             try:\n--> 235                 handler(stream, idents, msg)\n        handler = <bound method Kernel.execute_request of <ipykernel.ipkernel.IPythonKernel object>>\n        stream = <zmq.eventloop.zmqstream.ZMQStream object>\n        idents = [b'76B5C4476B3E49218478F43547952441']\n        msg = {'buffers': [], 'content': {'allow_stdin': True, 'code': 'from keras.wrappers.scikit_learn import KerasCla...er_kfold, X=X_train, y=y_train, cv=10, n_jobs=-1)', 'silent': False, 'stop_on_error': True, 'store_history': True, 'user_expressions': {}}, 'header': {'date': datetime.datetime(2017, 7, 12, 15, 48, 49, 661536, tzinfo=datetime.timezone.utc), 'msg_id': '5C7C284BF6F4484182C503C932EEBC56', 'msg_type': 'execute_request', 'session': '76B5C4476B3E49218478F43547952441', 'username': 'username', 'version': '5.0'}, 'metadata': {}, 'msg_id': '5C7C284BF6F4484182C503C932EEBC56', 'msg_type': 'execute_request', 'parent_header': {}}\n    236             except Exception:\n    237                 self.log.error(\"Exception in message handler:\", exc_info=True)\n    238             finally:\n    239                 self.post_handler_hook()\n\n...........................................................................\n/home/anand/miniconda3/envs/py35/lib/python3.5/site-packages/ipykernel/kernelbase.py in execute_request(self=<ipykernel.ipkernel.IPythonKernel object>, stream=<zmq.eventloop.zmqstream.ZMQStream object>, ident=[b'76B5C4476B3E49218478F43547952441'], parent={'buffers': [], 'content': {'allow_stdin': True, 'code': 'from keras.wrappers.scikit_learn import KerasCla...er_kfold, X=X_train, y=y_train, cv=10, n_jobs=-1)', 'silent': False, 'stop_on_error': True, 'store_history': True, 'user_expressions': {}}, 'header': {'date': datetime.datetime(2017, 7, 12, 15, 48, 49, 661536, tzinfo=datetime.timezone.utc), 'msg_id': '5C7C284BF6F4484182C503C932EEBC56', 'msg_type': 'execute_request', 'session': '76B5C4476B3E49218478F43547952441', 'username': 'username', 'version': '5.0'}, 'metadata': {}, 'msg_id': '5C7C284BF6F4484182C503C932EEBC56', 'msg_type': 'execute_request', 'parent_header': {}})\n    394         if not silent:\n    395             self.execution_count += 1\n    396             self._publish_execute_input(code, parent, self.execution_count)\n    397 \n    398         reply_content = self.do_execute(code, silent, store_history,\n--> 399                                         user_expressions, allow_stdin)\n        user_expressions = {}\n        allow_stdin = True\n    400 \n    401         # Flush output before sending the reply.\n    402         sys.stdout.flush()\n    403         sys.stderr.flush()\n\n...........................................................................\n/home/anand/miniconda3/envs/py35/lib/python3.5/site-packages/ipykernel/ipkernel.py in do_execute(self=<ipykernel.ipkernel.IPythonKernel object>, code='from keras.wrappers.scikit_learn import KerasCla...er_kfold, X=X_train, y=y_train, cv=10, n_jobs=-1)', silent=False, store_history=True, user_expressions={}, allow_stdin=True)\n    191 \n    192         self._forward_input(allow_stdin)\n    193 \n    194         reply_content = {}\n    195         try:\n--> 196             res = shell.run_cell(code, store_history=store_history, silent=silent)\n        res = undefined\n        shell.run_cell = <bound method ZMQInteractiveShell.run_cell of <ipykernel.zmqshell.ZMQInteractiveShell object>>\n        code = 'from keras.wrappers.scikit_learn import KerasCla...er_kfold, X=X_train, y=y_train, cv=10, n_jobs=-1)'\n        store_history = True\n        silent = False\n    197         finally:\n    198             self._restore_input()\n    199 \n    200         if res.error_before_exec is not None:\n\n...........................................................................\n/home/anand/miniconda3/envs/py35/lib/python3.5/site-packages/ipykernel/zmqshell.py in run_cell(self=<ipykernel.zmqshell.ZMQInteractiveShell object>, *args=('from keras.wrappers.scikit_learn import KerasCla...er_kfold, X=X_train, y=y_train, cv=10, n_jobs=-1)',), **kwargs={'silent': False, 'store_history': True})\n    528             )\n    529         self.payload_manager.write_payload(payload)\n    530 \n    531     def run_cell(self, *args, **kwargs):\n    532         self._last_traceback = None\n--> 533         return super(ZMQInteractiveShell, self).run_cell(*args, **kwargs)\n        self.run_cell = <bound method ZMQInteractiveShell.run_cell of <ipykernel.zmqshell.ZMQInteractiveShell object>>\n        args = ('from keras.wrappers.scikit_learn import KerasCla...er_kfold, X=X_train, y=y_train, cv=10, n_jobs=-1)',)\n        kwargs = {'silent': False, 'store_history': True}\n    534 \n    535     def _showtraceback(self, etype, evalue, stb):\n    536         # try to preserve ordering of tracebacks and print statements\n    537         sys.stdout.flush()\n\n...........................................................................\n/home/anand/miniconda3/envs/py35/lib/python3.5/site-packages/IPython/core/interactiveshell.py in run_cell(self=<ipykernel.zmqshell.ZMQInteractiveShell object>, raw_cell='from keras.wrappers.scikit_learn import KerasCla...er_kfold, X=X_train, y=y_train, cv=10, n_jobs=-1)', store_history=True, silent=False, shell_futures=True)\n   2678                 self.displayhook.exec_result = result\n   2679 \n   2680                 # Execute the user code\n   2681                 interactivity = \"none\" if silent else self.ast_node_interactivity\n   2682                 has_raised = self.run_ast_nodes(code_ast.body, cell_name,\n-> 2683                    interactivity=interactivity, compiler=compiler, result=result)\n        interactivity = 'last_expr'\n        compiler = <IPython.core.compilerop.CachingCompiler object>\n   2684                 \n   2685                 self.last_execution_succeeded = not has_raised\n   2686 \n   2687                 # Reset this so later displayed values do not modify the\n\n...........................................................................\n/home/anand/miniconda3/envs/py35/lib/python3.5/site-packages/IPython/core/interactiveshell.py in run_ast_nodes(self=<ipykernel.zmqshell.ZMQInteractiveShell object>, nodelist=[<_ast.ImportFrom object>, <_ast.ImportFrom object>, <_ast.FunctionDef object>, <_ast.Assign object>, <_ast.Assign object>], cell_name='<ipython-input-27-d53d896333d5>', interactivity='none', compiler=<IPython.core.compilerop.CachingCompiler object>, result=<ExecutionResult object at 7f0844961f98, executi..._before_exec=None error_in_exec=None result=None>)\n   2782 \n   2783         try:\n   2784             for i, node in enumerate(to_run_exec):\n   2785                 mod = ast.Module([node])\n   2786                 code = compiler(mod, cell_name, \"exec\")\n-> 2787                 if self.run_code(code, result):\n        self.run_code = <bound method InteractiveShell.run_code of <ipykernel.zmqshell.ZMQInteractiveShell object>>\n        code = <code object <module> at 0x7f08427a2420, file \"<ipython-input-27-d53d896333d5>\", line 13>\n        result = <ExecutionResult object at 7f0844961f98, executi..._before_exec=None error_in_exec=None result=None>\n   2788                     return True\n   2789 \n   2790             for i, node in enumerate(to_run_interactive):\n   2791                 mod = ast.Interactive([node])\n\n...........................................................................\n/home/anand/miniconda3/envs/py35/lib/python3.5/site-packages/IPython/core/interactiveshell.py in run_code(self=<ipykernel.zmqshell.ZMQInteractiveShell object>, code_obj=<code object <module> at 0x7f08427a2420, file \"<ipython-input-27-d53d896333d5>\", line 13>, result=<ExecutionResult object at 7f0844961f98, executi..._before_exec=None error_in_exec=None result=None>)\n   2842         outflag = True  # happens in more places, so it's easier as default\n   2843         try:\n   2844             try:\n   2845                 self.hooks.pre_run_code_hook()\n   2846                 #rprint('Running code', repr(code_obj)) # dbg\n-> 2847                 exec(code_obj, self.user_global_ns, self.user_ns)\n        code_obj = <code object <module> at 0x7f08427a2420, file \"<ipython-input-27-d53d896333d5>\", line 13>\n        self.user_global_ns = {'Dense': <class 'keras.layers.core.Dense'>, 'In': ['', 'import numpy as np\\nimport matplotlib.pyplot as plt\\nimport pandas as pd', \"dataset = pd.read_csv('data/Churn_Modelling.csv')\", 'dataset.describe()', 'dataset.head()', \"# Drop Surname\\ndataset = dataset.drop(['Surname', 'RowNumber', 'CustomerId'], axis = 1)\", 'dataset.head()', '# Encode the categorical variables\\ndataset = pd.get_dummies(dataset)\\ndataset.head()', \"# To avoid the dummy variable trap, we need to d...aset.drop('Gender_Male', axis = 1)\\ndataset.head()\", \"# Split the data into dependent and independent ...Exited'], axis = 1)\\nX = dataset.iloc[:, :].values\", '# Split the data into training and testing sets\\n...n, y_test = train_test_split(X, y, test_size=0.2)', '# Feature Scaling\\nfrom sklearn.preprocessing imp..._transform(X_train)\\nX_test = sc.transform(X_test)', 'import keras\\nfrom keras.models import Sequential\\nfrom keras.layers import Dense', '# Create the NN (it is classifier for us)\\nclassifier = Sequential()', \"# Create the layers\\nclassifier.add(Dense(units =...ation = 'sigmoid', kernel_initializer='uniform'))\", \"classifier.compile(optimizer='adam', loss='binary_crossentropy', metrics = ['accuracy'])\", 'classifier.fit(X_train, y_train, batch_size=10, epochs=100)', 'y_pred = classifier.predict(X_test)\\ny_pred = (y_...\\ncm = confusion_matrix(y_test, y_pred)\\nprint (cm)', '# Use Accuracy score\\nfrom sklearn.metrics import accuracy_score\\naccuracy_score(y_pred, y_test)', '# Logistic Regression\\nfrom sklearn.linear_model ...lr.fit(X_train, y_train)\\nlr.score(X_test, y_test)', ...], 'KNeighborsClassifier': <class 'sklearn.neighbors.classification.KNeighborsClassifier'>, 'KerasClassifier': <class 'keras.wrappers.scikit_learn.KerasClassifier'>, 'LogisticRegression': <class 'sklearn.linear_model.logistic.LogisticRegression'>, 'Out': {3:          RowNumber    CustomerId   CreditScore  ...0.000000  \nmax      199992.480000      1.000000  , 4:    RowNumber  CustomerId   Surname  CreditScore ...  93826.63       0  \n4         79084.10       0  , 6:    CreditScore Geography  Gender  Age  Tenure   ...     1               1         79084.10       0  , 7:    CreditScore  Age  Tenure    Balance  NumOfPro... 0                1              1            0  , 8:    CreditScore  Age  Tenure    Balance  NumOfPro...        1  \n4                  0              1  , 16: <keras.callbacks.History object>, 18: 0.87, 19: 0.83099999999999996, 20: 0.87250000000000005, 21: 0.85250000000000004, ...}, 'SVC': <class 'sklearn.svm.classes.SVC'>, 'Sequential': <class 'keras.models.Sequential'>, 'StandardScaler': <class 'sklearn.preprocessing.data.StandardScaler'>, 'X': array([[ 619.,   42.,    2., ...,    1.,    0., ...[ 792.,   28.,    4., ...,    1.,    0.,    1.]]), ...}\n        self.user_ns = {'Dense': <class 'keras.layers.core.Dense'>, 'In': ['', 'import numpy as np\\nimport matplotlib.pyplot as plt\\nimport pandas as pd', \"dataset = pd.read_csv('data/Churn_Modelling.csv')\", 'dataset.describe()', 'dataset.head()', \"# Drop Surname\\ndataset = dataset.drop(['Surname', 'RowNumber', 'CustomerId'], axis = 1)\", 'dataset.head()', '# Encode the categorical variables\\ndataset = pd.get_dummies(dataset)\\ndataset.head()', \"# To avoid the dummy variable trap, we need to d...aset.drop('Gender_Male', axis = 1)\\ndataset.head()\", \"# Split the data into dependent and independent ...Exited'], axis = 1)\\nX = dataset.iloc[:, :].values\", '# Split the data into training and testing sets\\n...n, y_test = train_test_split(X, y, test_size=0.2)', '# Feature Scaling\\nfrom sklearn.preprocessing imp..._transform(X_train)\\nX_test = sc.transform(X_test)', 'import keras\\nfrom keras.models import Sequential\\nfrom keras.layers import Dense', '# Create the NN (it is classifier for us)\\nclassifier = Sequential()', \"# Create the layers\\nclassifier.add(Dense(units =...ation = 'sigmoid', kernel_initializer='uniform'))\", \"classifier.compile(optimizer='adam', loss='binary_crossentropy', metrics = ['accuracy'])\", 'classifier.fit(X_train, y_train, batch_size=10, epochs=100)', 'y_pred = classifier.predict(X_test)\\ny_pred = (y_...\\ncm = confusion_matrix(y_test, y_pred)\\nprint (cm)', '# Use Accuracy score\\nfrom sklearn.metrics import accuracy_score\\naccuracy_score(y_pred, y_test)', '# Logistic Regression\\nfrom sklearn.linear_model ...lr.fit(X_train, y_train)\\nlr.score(X_test, y_test)', ...], 'KNeighborsClassifier': <class 'sklearn.neighbors.classification.KNeighborsClassifier'>, 'KerasClassifier': <class 'keras.wrappers.scikit_learn.KerasClassifier'>, 'LogisticRegression': <class 'sklearn.linear_model.logistic.LogisticRegression'>, 'Out': {3:          RowNumber    CustomerId   CreditScore  ...0.000000  \nmax      199992.480000      1.000000  , 4:    RowNumber  CustomerId   Surname  CreditScore ...  93826.63       0  \n4         79084.10       0  , 6:    CreditScore Geography  Gender  Age  Tenure   ...     1               1         79084.10       0  , 7:    CreditScore  Age  Tenure    Balance  NumOfPro... 0                1              1            0  , 8:    CreditScore  Age  Tenure    Balance  NumOfPro...        1  \n4                  0              1  , 16: <keras.callbacks.History object>, 18: 0.87, 19: 0.83099999999999996, 20: 0.87250000000000005, 21: 0.85250000000000004, ...}, 'SVC': <class 'sklearn.svm.classes.SVC'>, 'Sequential': <class 'keras.models.Sequential'>, 'StandardScaler': <class 'sklearn.preprocessing.data.StandardScaler'>, 'X': array([[ 619.,   42.,    2., ...,    1.,    0., ...[ 792.,   28.,    4., ...,    1.,    0.,    1.]]), ...}\n   2848             finally:\n   2849                 # Reset our crash handler in place\n   2850                 sys.excepthook = old_excepthook\n   2851         except SystemExit as e:\n\n...........................................................................\n/home/anand/store/git/anandsaha/handson.deeplearning/<ipython-input-27-d53d896333d5> in <module>()\n      8     classifier.add(Dense(units = 1, activation = 'sigmoid', kernel_initializer='uniform'))\n      9     classifier.compile(optimizer='adam', loss='binary_crossentropy', metrics = ['accuracy'])\n     10     return classifier\n     11 \n     12 classifier_kfold = KerasClassifier(build_fn=build_classifier, batch_size=10, epochs=100)\n---> 13 accuracies = cross_val_score(estimator=classifier_kfold, X=X_train, y=y_train, cv=10, n_jobs=-1)\n     14 \n     15 \n     16 \n     17 \n\n...........................................................................\n/home/anand/miniconda3/envs/py35/lib/python3.5/site-packages/sklearn/model_selection/_validation.py in cross_val_score(estimator=<keras.wrappers.scikit_learn.KerasClassifier object>, X=array([[-0.09147995, -0.66398831,  0.69023067, .... -1.00526385,\n        -0.57869742, -0.91670588]]), y=array([0, 1, 0, ..., 0, 0, 0]), groups=None, scoring=None, cv=KFold(n_splits=10, random_state=None, shuffle=False), n_jobs=-1, verbose=0, fit_params=None, pre_dispatch='2*n_jobs')\n    135     parallel = Parallel(n_jobs=n_jobs, verbose=verbose,\n    136                         pre_dispatch=pre_dispatch)\n    137     scores = parallel(delayed(_fit_and_score)(clone(estimator), X, y, scorer,\n    138                                               train, test, verbose, None,\n    139                                               fit_params)\n--> 140                       for train, test in cv_iter)\n        cv_iter = [(array([ 800,  801,  802, ..., 7997, 7998, 7999]), array([  0,   1,   2,   3,   4,   5,   6,   7,  ..., 792,\n       793, 794, 795, 796, 797, 798, 799])), (array([   0,    1,    2, ..., 7997, 7998, 7999]), array([ 800,  801,  802,  803,  804,  805,  806,... 1592, 1593, 1594, 1595, 1596, 1597, 1598, 1599])), (array([   0,    1,    2, ..., 7997, 7998, 7999]), array([1600, 1601, 1602, 1603, 1604, 1605, 1606,... 2392, 2393, 2394, 2395, 2396, 2397, 2398, 2399])), (array([   0,    1,    2, ..., 7997, 7998, 7999]), array([2400, 2401, 2402, 2403, 2404, 2405, 2406,... 3192, 3193, 3194, 3195, 3196, 3197, 3198, 3199])), (array([   0,    1,    2, ..., 7997, 7998, 7999]), array([3200, 3201, 3202, 3203, 3204, 3205, 3206,... 3992, 3993, 3994, 3995, 3996, 3997, 3998, 3999])), (array([   0,    1,    2, ..., 7997, 7998, 7999]), array([4000, 4001, 4002, 4003, 4004, 4005, 4006,... 4792, 4793, 4794, 4795, 4796, 4797, 4798, 4799])), (array([   0,    1,    2, ..., 7997, 7998, 7999]), array([4800, 4801, 4802, 4803, 4804, 4805, 4806,... 5592, 5593, 5594, 5595, 5596, 5597, 5598, 5599])), (array([   0,    1,    2, ..., 7997, 7998, 7999]), array([5600, 5601, 5602, 5603, 5604, 5605, 5606,... 6392, 6393, 6394, 6395, 6396, 6397, 6398, 6399])), (array([   0,    1,    2, ..., 7997, 7998, 7999]), array([6400, 6401, 6402, 6403, 6404, 6405, 6406,... 7192, 7193, 7194, 7195, 7196, 7197, 7198, 7199])), (array([   0,    1,    2, ..., 7197, 7198, 7199]), array([7200, 7201, 7202, 7203, 7204, 7205, 7206,... 7992, 7993, 7994, 7995, 7996, 7997, 7998, 7999]))]\n    141     return np.array(scores)[:, 0]\n    142 \n    143 \n    144 def _fit_and_score(estimator, X, y, scorer, train, test, verbose,\n\n...........................................................................\n/home/anand/miniconda3/envs/py35/lib/python3.5/site-packages/sklearn/externals/joblib/parallel.py in __call__(self=Parallel(n_jobs=-1), iterable=<generator object cross_val_score.<locals>.<genexpr>>)\n    763             if pre_dispatch == \"all\" or n_jobs == 1:\n    764                 # The iterable was consumed all at once by the above for loop.\n    765                 # No need to wait for async callbacks to trigger to\n    766                 # consumption.\n    767                 self._iterating = False\n--> 768             self.retrieve()\n        self.retrieve = <bound method Parallel.retrieve of Parallel(n_jobs=-1)>\n    769             # Make sure that we get a last message telling us we are done\n    770             elapsed_time = time.time() - self._start_time\n    771             self._print('Done %3i out of %3i | elapsed: %s finished',\n    772                         (len(self._output), len(self._output),\n\n---------------------------------------------------------------------------\nSub-process traceback:\n---------------------------------------------------------------------------\nGpuArrayException                                  Wed Jul 12 21:18:49 2017\nPID: 31334        Python 3.5.3: /home/anand/miniconda3/envs/py35/bin/python\n...........................................................................\n/home/anand/miniconda3/envs/py35/lib/python3.5/site-packages/sklearn/externals/joblib/parallel.py in __call__(self=<sklearn.externals.joblib.parallel.BatchedCalls object>)\n    126     def __init__(self, iterator_slice):\n    127         self.items = list(iterator_slice)\n    128         self._size = len(self.items)\n    129 \n    130     def __call__(self):\n--> 131         return [func(*args, **kwargs) for func, args, kwargs in self.items]\n        self.items = [(<function _fit_and_score>, (<keras.wrappers.scikit_learn.KerasClassifier object>, array([[-0.09147995, -0.66398831,  0.69023067, .... -1.00526385,\n        -0.57869742, -0.91670588]]), array([0, 1, 0, ..., 0, 0, 0]), <function _passthrough_scorer>, array([ 800,  801,  802, ..., 7997, 7998, 7999]), array([  0,   1,   2,   3,   4,   5,   6,   7,  ..., 792,\n       793, 794, 795, 796, 797, 798, 799]), 0, None, None), {})]\n    132 \n    133     def __len__(self):\n    134         return self._size\n    135 \n\n...........................................................................\n/home/anand/miniconda3/envs/py35/lib/python3.5/site-packages/sklearn/externals/joblib/parallel.py in <listcomp>(.0=<list_iterator object>)\n    126     def __init__(self, iterator_slice):\n    127         self.items = list(iterator_slice)\n    128         self._size = len(self.items)\n    129 \n    130     def __call__(self):\n--> 131         return [func(*args, **kwargs) for func, args, kwargs in self.items]\n        func = <function _fit_and_score>\n        args = (<keras.wrappers.scikit_learn.KerasClassifier object>, array([[-0.09147995, -0.66398831,  0.69023067, .... -1.00526385,\n        -0.57869742, -0.91670588]]), array([0, 1, 0, ..., 0, 0, 0]), <function _passthrough_scorer>, array([ 800,  801,  802, ..., 7997, 7998, 7999]), array([  0,   1,   2,   3,   4,   5,   6,   7,  ..., 792,\n       793, 794, 795, 796, 797, 798, 799]), 0, None, None)\n        kwargs = {}\n    132 \n    133     def __len__(self):\n    134         return self._size\n    135 \n\n...........................................................................\n/home/anand/miniconda3/envs/py35/lib/python3.5/site-packages/sklearn/model_selection/_validation.py in _fit_and_score(estimator=<keras.wrappers.scikit_learn.KerasClassifier object>, X=array([[-0.09147995, -0.66398831,  0.69023067, .... -1.00526385,\n        -0.57869742, -0.91670588]]), y=array([0, 1, 0, ..., 0, 0, 0]), scorer=<function _passthrough_scorer>, train=array([ 800,  801,  802, ..., 7997, 7998, 7999]), test=array([  0,   1,   2,   3,   4,   5,   6,   7,  ..., 792,\n       793, 794, 795, 796, 797, 798, 799]), verbose=0, parameters=None, fit_params={}, return_train_score=False, return_parameters=False, return_n_test_samples=False, return_times=False, error_score='raise')\n    233 \n    234     try:\n    235         if y_train is None:\n    236             estimator.fit(X_train, **fit_params)\n    237         else:\n--> 238             estimator.fit(X_train, y_train, **fit_params)\n        estimator.fit = <bound method KerasClassifier.fit of <keras.wrappers.scikit_learn.KerasClassifier object>>\n        X_train = array([[-1.24143815,  0.28811982,  0.34427206, .... -1.00526385,\n        -0.57869742, -0.91670588]])\n        y_train = array([0, 0, 0, ..., 0, 0, 0])\n        fit_params = {}\n    239 \n    240     except Exception as e:\n    241         # Note fit time as time until error\n    242         fit_time = time.time() - start_time\n\n...........................................................................\n/home/anand/miniconda3/envs/py35/lib/python3.5/site-packages/keras/wrappers/scikit_learn.py in fit(self=<keras.wrappers.scikit_learn.KerasClassifier object>, x=array([[-1.24143815,  0.28811982,  0.34427206, .... -1.00526385,\n        -0.57869742, -0.91670588]]), y=array([0, 0, 0, ..., 0, 0, 0]), **kwargs={})\n    196             self.classes_ = np.arange(y.shape[1])\n    197         else:\n    198             self.classes_ = np.unique(y)\n    199             y = np.searchsorted(self.classes_, y)\n    200         self.n_classes_ = len(self.classes_)\n--> 201         return super(KerasClassifier, self).fit(x, y, **kwargs)\n        self.fit = <bound method KerasClassifier.fit of <keras.wrappers.scikit_learn.KerasClassifier object>>\n        x = array([[-1.24143815,  0.28811982,  0.34427206, .... -1.00526385,\n        -0.57869742, -0.91670588]])\n        y = array([0, 0, 0, ..., 0, 0, 0])\n        kwargs = {}\n    202 \n    203     def predict(self, x, **kwargs):\n    204         \"\"\"Returns the class predictions for the given test data.\n    205 \n\n...........................................................................\n/home/anand/miniconda3/envs/py35/lib/python3.5/site-packages/keras/wrappers/scikit_learn.py in fit(self=<keras.wrappers.scikit_learn.KerasClassifier object>, x=array([[-1.24143815,  0.28811982,  0.34427206, .... -1.00526385,\n        -0.57869742, -0.91670588]]), y=array([0, 0, 0, ..., 0, 0, 0]), **kwargs={})\n    133         elif (not isinstance(self.build_fn, types.FunctionType) and\n    134               not isinstance(self.build_fn, types.MethodType)):\n    135             self.model = self.build_fn(\n    136                 **self.filter_sk_params(self.build_fn.__call__))\n    137         else:\n--> 138             self.model = self.build_fn(**self.filter_sk_params(self.build_fn))\n        self.model = undefined\n        self.build_fn = <function build_classifier>\n        self.filter_sk_params = <bound method BaseWrapper.filter_sk_params of <keras.wrappers.scikit_learn.KerasClassifier object>>\n    139 \n    140         loss_name = self.model.loss\n    141         if hasattr(loss_name, '__name__'):\n    142             loss_name = loss_name.__name__\n\n...........................................................................\n/home/anand/store/git/anandsaha/handson.deeplearning/<ipython-input-27-d53d896333d5> in build_classifier()\n      1 from keras.wrappers.scikit_learn import KerasClassifier\n      2 from sklearn.model_selection import cross_val_score\n      3 \n      4 def build_classifier():\n      5     classifier = Sequential()\n----> 6     classifier.add(Dense(units = 6, activation = 'relu', kernel_initializer='uniform', input_dim=11))\n      7     classifier.add(Dense(units = 6, activation = 'relu', kernel_initializer='uniform'))\n      8     classifier.add(Dense(units = 1, activation = 'sigmoid', kernel_initializer='uniform'))\n      9     classifier.compile(optimizer='adam', loss='binary_crossentropy', metrics = ['accuracy'])\n     10     return classifier\n\n...........................................................................\n/home/anand/miniconda3/envs/py35/lib/python3.5/site-packages/keras/models.py in add(self=<keras.models.Sequential object>, layer=<keras.layers.core.Dense object>)\n    417                 x = Input(batch_shape=layer.batch_input_shape,\n    418                           dtype=layer.dtype, name=layer.name + '_input')\n    419                 # This will build the current layer\n    420                 # and create the node connecting the current layer\n    421                 # to the input layer we just created.\n--> 422                 layer(x)\n        layer = <keras.layers.core.Dense object>\n        x = /dense_4_input\n    423 \n    424             if len(layer.inbound_nodes) != 1:\n    425                 raise ValueError('A layer added to a Sequential model must '\n    426                                  'not already be connected somewhere else. '\n\n...........................................................................\n/home/anand/miniconda3/envs/py35/lib/python3.5/site-packages/keras/engine/topology.py in __call__(self=<keras.layers.core.Dense object>, inputs=/dense_4_input, **kwargs={})\n    523                                          ' about its expected input shape, '\n    524                                          'and thus cannot be built. '\n    525                                          'You can build it manually via: '\n    526                                          '`layer.build(batch_input_shape)`')\n    527                 if len(input_shapes) == 1:\n--> 528                     self.build(input_shapes[0])\n        self.build = <bound method Dense.build of <keras.layers.core.Dense object>>\n        input_shapes = [(None, 11)]\n    529                 else:\n    530                     self.build(input_shapes)\n    531                 self.built = True\n    532 \n\n...........................................................................\n/home/anand/miniconda3/envs/py35/lib/python3.5/site-packages/keras/layers/core.py in build(self=<keras.layers.core.Dense object>, input_shape=(None, 11))\n    822 \n    823         self.kernel = self.add_weight((input_dim, self.units),\n    824                                       initializer=self.kernel_initializer,\n    825                                       name='kernel',\n    826                                       regularizer=self.kernel_regularizer,\n--> 827                                       constraint=self.kernel_constraint)\n        self.kernel_constraint = None\n    828         if self.use_bias:\n    829             self.bias = self.add_weight((self.units,),\n    830                                         initializer=self.bias_initializer,\n    831                                         name='bias',\n\n...........................................................................\n/home/anand/miniconda3/envs/py35/lib/python3.5/site-packages/keras/engine/topology.py in add_weight(self=<keras.layers.core.Dense object>, shape=(11, 6), initializer=<keras.initializers.RandomUniform object>, name='kernel', trainable=True, regularizer=None, constraint=None)\n    359 \n    360         # Returns\n    361             The created weight variable.\n    362         \"\"\"\n    363         initializer = initializers.get(initializer)\n--> 364         weight = K.variable(initializer(shape), dtype=K.floatx(), name=name)\n        weight = undefined\n        initializer = <keras.initializers.RandomUniform object>\n        shape = (11, 6)\n        name = 'kernel'\n    365         if regularizer is not None:\n    366             self.add_loss(regularizer(weight))\n    367         if constraint is not None:\n    368             self.constraints[weight] = constraint\n\n...........................................................................\n/home/anand/miniconda3/envs/py35/lib/python3.5/site-packages/keras/initializers.py in __call__(self=<keras.initializers.RandomUniform object>, shape=(11, 6), dtype=None)\n     96         self.maxval = maxval\n     97         self.seed = seed\n     98 \n     99     def __call__(self, shape, dtype=None):\n    100         return K.random_uniform(shape, self.minval, self.maxval,\n--> 101                                 dtype=dtype, seed=self.seed)\n        dtype = None\n        self.seed = None\n    102 \n    103     def get_config(self):\n    104         return {\n    105             'minval': self.minval,\n\n...........................................................................\n/home/anand/miniconda3/envs/py35/lib/python3.5/site-packages/keras/backend/theano_backend.py in random_uniform(shape=(11, 6), minval=-0.05, maxval=0.05, dtype='float32', seed=6570446)\n   1964     if dtype is None:\n   1965         dtype = floatx()\n   1966     if seed is None:\n   1967         seed = np.random.randint(1, 10e6)\n   1968     rng = RandomStreams(seed=seed)\n-> 1969     return rng.uniform(shape, low=minval, high=maxval, dtype=dtype)\n        rng.uniform = <bound method MRG_RandomStreams.uniform of <theano.sandbox.rng_mrg.MRG_RandomStreams object>>\n        shape = (11, 6)\n        minval = -0.05\n        maxval = 0.05\n        dtype = 'float32'\n   1970 \n   1971 \n   1972 def random_binomial(shape, p=0.0, dtype=None, seed=None):\n   1973     if dtype is None:\n\n...........................................................................\n/home/anand/miniconda3/envs/py35/lib/python3.5/site-packages/theano/sandbox/rng_mrg.py in uniform(self=<theano.sandbox.rng_mrg.MRG_RandomStreams object>, size=(11, 6), low=TensorConstant{-0.05000000074505806}, high=TensorConstant{0.05000000074505806}, ndim=None, dtype='float32', nstreams=11)\n   1365             u = self.pretty_return(node_rstate,\n   1366                                    *GPU_mrg_uniform.new(node_rstate,\n   1367                                                         ndim, dtype, size),\n   1368                                    size=size, nstreams=orig_nstreams)\n   1369         else:\n-> 1370             node_rstate = shared(rstates)\n        node_rstate = undefined\n        rstates = array([[   6570446,    6570446,    6570446,    6...4,  494673735,\n         209391381]], dtype=int32)\n   1371             u = self.pretty_return(node_rstate,\n   1372                                    *mrg_uniform.new(node_rstate,\n   1373                                                     ndim, dtype, size),\n   1374                                    size=size, nstreams=orig_nstreams)\n\n...........................................................................\n/home/anand/miniconda3/envs/py35/lib/python3.5/site-packages/theano/compile/sharedvalue.py in shared(value=array([[   6570446,    6570446,    6570446,    6...4,  494673735,\n         209391381]], dtype=int32), name=None, strict=False, allow_downcast=None, **kwargs={})\n    263                             \"values and not symbolic variables.\")\n    264 \n    265         for ctor in reversed(shared.constructors):\n    266             try:\n    267                 var = ctor(value, name=name, strict=strict,\n--> 268                            allow_downcast=allow_downcast, **kwargs)\n        allow_downcast = None\n        kwargs = {}\n    269                 utils.add_tag_trace(var)\n    270                 return var\n    271             except TypeError:\n    272                 continue\n\n...........................................................................\n/home/anand/miniconda3/envs/py35/lib/python3.5/site-packages/theano/gpuarray/type.py in gpuarray_shared_constructor(value=array([[   6570446,    6570446,    6570446,    6...4,  494673735,\n         209391381]], dtype=int32), name=None, strict=False, allow_downcast=None, borrow=False, broadcastable=(False, False), target=None)\n    650 \n    651     if broadcastable is None:\n    652         broadcastable = (False,) * value.ndim\n    653     type = GpuArrayType(value.dtype, broadcastable, context_name=target)\n    654     deviceval = pygpu.gpuarray.array(value, copy=(not borrow),\n--> 655                                      context=type.context)\n        type.context = <pygpu.gpuarray.GpuContext object>\n    656     return GpuArraySharedVariable(type=type, value=deviceval, name=name,\n    657                                   strict=strict)\n    658 \n    659 theano.compile.register_view_op_c_code(GpuArrayType, \"\"\"\n\n...........................................................................\n/home/anand/miniconda3/envs/py35/lib/python3.5/site-packages/pygpu/gpuarray.cpython-35m-x86_64-linux-gnu.so in pygpu.gpuarray.array (pygpu/gpuarray.c:12227)()\n    910 \n    911 \n    912 \n    913 \n    914 \n--> 915 \n    916 \n    917 \n    918 \n    919 \n\n...........................................................................\n/home/anand/miniconda3/envs/py35/lib/python3.5/site-packages/pygpu/gpuarray.cpython-35m-x86_64-linux-gnu.so in pygpu.gpuarray.carray (pygpu/gpuarray.c:13109)()\n    965 \n    966 \n    967 \n    968 \n    969 \n--> 970 \n    971 \n    972 \n    973 \n    974 \n\n...........................................................................\n/home/anand/miniconda3/envs/py35/lib/python3.5/site-packages/pygpu/gpuarray.cpython-35m-x86_64-linux-gnu.so in pygpu.gpuarray.pygpu_fromhostdata (pygpu/gpuarray.c:9851)()\n    659 \n    660 \n    661 \n    662 \n    663 \n--> 664 \n    665 \n    666 \n    667 \n    668 \n\n...........................................................................\n/home/anand/miniconda3/envs/py35/lib/python3.5/site-packages/pygpu/gpuarray.cpython-35m-x86_64-linux-gnu.so in pygpu.gpuarray.array_copy_from_host (pygpu/gpuarray.c:5817)()\n    296 \n    297 \n    298 \n    299 \n    300 \n--> 301 \n    302 \n    303 \n    304 \n    305 \n\nGpuArrayException: b'Out of memory'\n___________________________________________________________________________"
     ]
    }
   ],
   "source": [
    "from keras.wrappers.scikit_learn import KerasClassifier\n",
    "from sklearn.model_selection import cross_val_score\n",
    "\n",
    "def build_classifier():\n",
    "    classifier = Sequential()\n",
    "    classifier.add(Dense(units = 6, activation = 'relu', kernel_initializer='uniform', input_dim=11))\n",
    "    classifier.add(Dense(units = 6, activation = 'relu', kernel_initializer='uniform'))\n",
    "    classifier.add(Dense(units = 1, activation = 'sigmoid', kernel_initializer='uniform'))\n",
    "    classifier.compile(optimizer='adam', loss='binary_crossentropy', metrics = ['accuracy'])\n",
    "    return classifier\n",
    "\n",
    "classifier_kfold = KerasClassifier(build_fn=build_classifier, batch_size=10, epochs=100)\n",
    "accuracies = cross_val_score(estimator=classifier_kfold, X=X_train, y=y_train, cv=10, n_jobs=-1)"
   ]
  },
  {
   "cell_type": "code",
   "execution_count": null,
   "metadata": {},
   "outputs": [],
   "source": [
    "accuracies"
   ]
  },
  {
   "cell_type": "code",
   "execution_count": null,
   "metadata": {},
   "outputs": [],
   "source": [
    "np.var(accuracies)"
   ]
  },
  {
   "cell_type": "code",
   "execution_count": null,
   "metadata": {},
   "outputs": [],
   "source": [
    "np.mean(accuracies)"
   ]
  },
  {
   "cell_type": "markdown",
   "metadata": {},
   "source": [
    "### Addendum 2: Apply dropout regularization (solution to overfitting)"
   ]
  },
  {
   "cell_type": "markdown",
   "metadata": {},
   "source": [
    "* Dropout regularization is a solution to taking care of overfitting\n",
    "* At each iteration of the training, some neurons of the ANN are randomly disabled to prevent them from being too dependent on each other when they learn the correlations. By overriding the neurons, the ANN learns several independent correlations in the data, because each time we get a new configuration of the data."
   ]
  },
  {
   "cell_type": "code",
   "execution_count": null,
   "metadata": {
    "collapsed": true
   },
   "outputs": [],
   "source": [
    "from keras.layers import Dropout"
   ]
  },
  {
   "cell_type": "code",
   "execution_count": null,
   "metadata": {
    "collapsed": true
   },
   "outputs": [],
   "source": [
    "# Create the NN (it is classifier for us)\n",
    "classifier_dropout = Sequential()"
   ]
  },
  {
   "cell_type": "code",
   "execution_count": null,
   "metadata": {
    "collapsed": true
   },
   "outputs": [],
   "source": [
    "# Create the layers\n",
    "classifier_dropout.add(Dense(units = 6, activation = 'relu', kernel_initializer='uniform', input_dim=11))\n",
    "classifier_dropout.add(Dropout(rate = 0.1))\n",
    "classifier_dropout.add(Dense(units = 6, activation = 'relu', kernel_initializer='uniform'))\n",
    "classifier_dropout.add(Dropout(rate = 0.1))\n",
    "classifier_dropout.add(Dense(units = 1, activation = 'sigmoid', kernel_initializer='uniform'))"
   ]
  },
  {
   "cell_type": "code",
   "execution_count": null,
   "metadata": {
    "collapsed": true
   },
   "outputs": [],
   "source": [
    "classifier_dropout.compile(optimizer='adam', loss='binary_crossentropy', metrics = ['accuracy'])"
   ]
  },
  {
   "cell_type": "code",
   "execution_count": null,
   "metadata": {},
   "outputs": [],
   "source": [
    "classifier_dropout.fit(X_train, y_train, batch_size=10, epochs=100)"
   ]
  },
  {
   "cell_type": "code",
   "execution_count": null,
   "metadata": {
    "collapsed": true
   },
   "outputs": [],
   "source": [
    "y_pred = classifier.predict(X_test)\n",
    "y_pred = (y_pred > 0.5)"
   ]
  },
  {
   "cell_type": "code",
   "execution_count": null,
   "metadata": {},
   "outputs": [],
   "source": [
    "# Use Accuracy score\n",
    "from sklearn.metrics import accuracy_score\n",
    "accuracy_score(y_pred, y_test)"
   ]
  },
  {
   "cell_type": "markdown",
   "metadata": {},
   "source": [
    "### Addendum 3: Parameter tuning\n",
    "\n",
    "One can use GridSearchCV to get the best combination of hyper parameters (Implemented below)"
   ]
  },
  {
   "cell_type": "markdown",
   "metadata": {},
   "source": [
    "### Putting it all together\n",
    "\n",
    "* Cross Validation\n",
    "* Dropout Regularization\n",
    "* Parameter Tuning"
   ]
  },
  {
   "cell_type": "code",
   "execution_count": null,
   "metadata": {},
   "outputs": [],
   "source": [
    "from keras.wrappers.scikit_learn import KerasClassifier\n",
    "from sklearn.model_selection import GridSearchCV\n",
    "\n",
    "def build_classifier(opti):\n",
    "    classifier = Sequential()\n",
    "    classifier.add(Dense(units = 6, activation = 'relu', kernel_initializer='uniform', input_dim=11))\n",
    "    classifier_dropout.add(Dropout(rate = 0.1))\n",
    "    classifier.add(Dense(units = 6, activation = 'relu', kernel_initializer='uniform'))\n",
    "    classifier_dropout.add(Dropout(rate = 0.1))\n",
    "    classifier.add(Dense(units = 1, activation = 'sigmoid', kernel_initializer='uniform'))\n",
    "    classifier.compile(optimizer=opti, loss='binary_crossentropy', metrics = ['accuracy'])\n",
    "    return classifier\n",
    "\n",
    "classifier_final = KerasClassifier(build_fn=build_classifier, verbose=0)\n",
    "\n",
    "parameters = {'batch_size': [16, 32],\n",
    "              'epochs' : [100, 500],\n",
    "              'opti': ['adam', 'rmsprop']}\n",
    "\n",
    "grid_search = GridSearchCV(estimator=classifier_final, \n",
    "                           param_grid=parameters,\n",
    "                           scoring='accuracy',\n",
    "                           cv=10,\n",
    "                           n_jobs=-1)\n",
    "\n",
    "grid_search = grid_search.fit(X_train, y_train)\n",
    "\n",
    "best_params = grid_search.best_params_\n",
    "best_accuracy = grid_search.best_score_\n",
    "\n",
    "print(best_params)\n",
    "print(best_accuracy)\n"
   ]
  }
 ],
 "metadata": {
  "kernelspec": {
   "display_name": "Python 3",
   "language": "python",
   "name": "python3"
  },
  "language_info": {
   "codemirror_mode": {
    "name": "ipython",
    "version": 3
   },
   "file_extension": ".py",
   "mimetype": "text/x-python",
   "name": "python",
   "nbconvert_exporter": "python",
   "pygments_lexer": "ipython3",
   "version": "3.5.3"
  }
 },
 "nbformat": 4,
 "nbformat_minor": 2
}
