{
 "cells": [
  {
   "cell_type": "code",
   "execution_count": 1,
   "metadata": {
    "collapsed": true
   },
   "outputs": [],
   "source": [
    "%matplotlib inline\n",
    "\n",
    "import matplotlib.pyplot as plt\n",
    "import numpy as np\n",
    "import tensorflow as tf\n"
   ]
  },
  {
   "cell_type": "code",
   "execution_count": 2,
   "metadata": {
    "collapsed": true
   },
   "outputs": [],
   "source": [
    "layer1_filtersize = 5\n",
    "layer1_numfilters = 16\n",
    "\n",
    "layer2_filtersize = 5\n",
    "layer2_numfilters = 36\n",
    "\n",
    "fc_size = 128"
   ]
  },
  {
   "cell_type": "code",
   "execution_count": 3,
   "metadata": {},
   "outputs": [
    {
     "name": "stdout",
     "output_type": "stream",
     "text": [
      "Extracting /home/anand/.tensorflow/data/MNIST/train-images-idx3-ubyte.gz\n",
      "Extracting /home/anand/.tensorflow/data/MNIST/train-labels-idx1-ubyte.gz\n",
      "Extracting /home/anand/.tensorflow/data/MNIST/t10k-images-idx3-ubyte.gz\n",
      "Extracting /home/anand/.tensorflow/data/MNIST/t10k-labels-idx1-ubyte.gz\n"
     ]
    }
   ],
   "source": [
    "from tensorflow.examples.tutorials.mnist import input_data\n",
    "data = input_data.read_data_sets('/home/anand/.tensorflow/data/MNIST/', one_hot=True)"
   ]
  },
  {
   "cell_type": "code",
   "execution_count": 4,
   "metadata": {},
   "outputs": [
    {
     "name": "stdout",
     "output_type": "stream",
     "text": [
      "Size of:\n",
      "- Training-set:\t\t55000\n",
      "- Test-set:\t\t10000\n",
      "- Validation-set:\t5000\n"
     ]
    }
   ],
   "source": [
    "print(\"Size of:\")\n",
    "print(\"- Training-set:\\t\\t{}\".format(len(data.train.labels)))\n",
    "print(\"- Test-set:\\t\\t{}\".format(len(data.test.labels)))\n",
    "print(\"- Validation-set:\\t{}\".format(len(data.validation.labels)))"
   ]
  },
  {
   "cell_type": "code",
   "execution_count": 5,
   "metadata": {
    "collapsed": true
   },
   "outputs": [],
   "source": [
    "data.test.cls = np.argmax(data.test.labels, axis=1)"
   ]
  },
  {
   "cell_type": "code",
   "execution_count": 6,
   "metadata": {
    "collapsed": true
   },
   "outputs": [],
   "source": [
    "img_size = 28\n",
    "img_shape = (img_size, img_size)\n",
    "img_size_flat = 784\n",
    "num_channels = 1\n",
    "num_classes = 10"
   ]
  },
  {
   "cell_type": "code",
   "execution_count": 7,
   "metadata": {
    "collapsed": true
   },
   "outputs": [],
   "source": [
    "def plot_image(nine_images, class_true, class_pred = None):\n",
    "    fig, axes = plt.subplots(3, 3)\n",
    "    fig.subplots_adjust(hspace=0.3, wspace=0.3)\n",
    "    \n",
    "    for i, ax in enumerate(axes.flat):\n",
    "        ax.imshow(nine_images[i].reshape(img_size, img_size), cmap='binary')\n",
    "        if class_pred is None:\n",
    "            xlabel = 'True: {0}'.format(class_true[i])\n",
    "        else:\n",
    "            xlabel = 'True: {0}, Pred: {1}'.format(class_true[i], class_pred[i])\n",
    "            \n",
    "        ax.set_xlabel(xlabel)\n",
    "        ax.set_xticks([])\n",
    "        ax.set_yticks([])"
   ]
  },
  {
   "cell_type": "code",
   "execution_count": 8,
   "metadata": {},
   "outputs": [
    {
     "data": {
      "image/png": "[encoded data removed]",
      "text/plain": [
       "<matplotlib.figure.Figure at 0x7f920994c400>"
      ]
     },
     "metadata": {},
     "output_type": "display_data"
    }
   ],
   "source": [
    "plot_image(data.train.images[0:9, :], data.train.labels[0:9, :])"
   ]
  },
  {
   "cell_type": "markdown",
   "metadata": {},
   "source": [
    "Weights and biases"
   ]
  },
  {
   "cell_type": "code",
   "execution_count": 9,
   "metadata": {
    "collapsed": true
   },
   "outputs": [],
   "source": [
    "def new_weights(shape):\n",
    "    return tf.Variable(tf.truncated_normal(shape, stddev=0.05))\n",
    "\n",
    "def new_biases(length):\n",
    "    return tf.Variable(tf.constant(0.05, shape=[length]))"
   ]
  },
  {
   "cell_type": "code",
   "execution_count": 10,
   "metadata": {
    "collapsed": true
   },
   "outputs": [],
   "source": [
    "def new_conv_layer(input, \n",
    "                  num_input_channels,\n",
    "                  num_filters,\n",
    "                  filter_size,\n",
    "                  use_pooling=True):\n",
    "    \n",
    "    shape = [img_size, img_size, num_input_channels, num_filters]\n",
    "    weights = new_weights(shape)\n",
    "    biases = new_biases(num_filters)\n",
    "    layer = tf.nn.conv2d(input, filter=weights, strides=[1, 1, 1, 1], padding='SAME')\n",
    "    layer += biases\n",
    "    if use_pooling:\n",
    "        layer = tf.nn.max_pool(value=layer, ksize=[1, 2, 2, 1], strides=[1, 2, 2, 1], padding='SAME')\n",
    "    layer = tf.nn.relu(layer)\n",
    "    return layer, weights"
   ]
  },
  {
   "cell_type": "code",
   "execution_count": 11,
   "metadata": {
    "collapsed": true
   },
   "outputs": [],
   "source": [
    "def flatten_layer(layer):\n",
    "    layer_shape = layer.get_shape()\n",
    "    #num_features = layer_shape[1] * layer_shape[2] * layer_shape[3]\n",
    "    num_features = layer_shape[1:4].num_elements()\n",
    "    layer_flat = tf.reshape(layer, [-1, num_features])\n",
    "    return layer_flat, num_features"
   ]
  },
  {
   "cell_type": "code",
   "execution_count": 12,
   "metadata": {
    "collapsed": true
   },
   "outputs": [],
   "source": [
    "def new_fc_layer(input, num_inputs, num_outputs, use_relu=True):\n",
    "    weights = new_weights(shape=[num_inputs, num_outputs])\n",
    "    biases = new_biases(length=num_outputs)\n",
    "    layer = tf.matmul(input, weights) + biases\n",
    "    if use_relu:\n",
    "        layer = tf.nn.relu(layer)\n",
    "    return layer"
   ]
  },
  {
   "cell_type": "code",
   "execution_count": 13,
   "metadata": {
    "collapsed": true
   },
   "outputs": [],
   "source": [
    "x = tf.placeholder(tf.float32, shape=[None, img_size_flat])"
   ]
  },
  {
   "cell_type": "code",
   "execution_count": 14,
   "metadata": {
    "collapsed": true
   },
   "outputs": [],
   "source": [
    "x_image = tf.reshape(x, [-1, img_size, img_size, num_channels])"
   ]
  },
  {
   "cell_type": "code",
   "execution_count": 15,
   "metadata": {
    "collapsed": true
   },
   "outputs": [],
   "source": [
    "y_true = tf.placeholder(tf.float32, shape=[None, num_classes])"
   ]
  },
  {
   "cell_type": "code",
   "execution_count": 16,
   "metadata": {
    "collapsed": true
   },
   "outputs": [],
   "source": [
    "y_true_cls = tf.argmax(y_true, axis=1)"
   ]
  },
  {
   "cell_type": "markdown",
   "metadata": {},
   "source": [
    "Convolution Layer 1"
   ]
  },
  {
   "cell_type": "code",
   "execution_count": 17,
   "metadata": {
    "collapsed": true
   },
   "outputs": [],
   "source": [
    "layer1_conv, weights1 = new_conv_layer(input=x_image, \n",
    "                                       num_input_channels=num_channels, \n",
    "                                       num_filters=layer1_numfilters, \n",
    "                                       filter_size=layer1_filtersize,\n",
    "                                       use_pooling=True)"
   ]
  },
  {
   "cell_type": "code",
   "execution_count": 18,
   "metadata": {},
   "outputs": [
    {
     "data": {
      "text/plain": [
       "<tf.Tensor 'Relu:0' shape=(?, 14, 14, 16) dtype=float32>"
      ]
     },
     "execution_count": 18,
     "metadata": {},
     "output_type": "execute_result"
    }
   ],
   "source": [
    "layer1_conv"
   ]
  },
  {
   "cell_type": "markdown",
   "metadata": {},
   "source": [
    "Convolution Layer 2"
   ]
  },
  {
   "cell_type": "code",
   "execution_count": 19,
   "metadata": {
    "collapsed": true
   },
   "outputs": [],
   "source": [
    "layer2_conv, weights2 = new_conv_layer(input=layer1_conv, \n",
    "                                       num_input_channels=layer1_numfilters, \n",
    "                                       num_filters=layer2_numfilters, \n",
    "                                       filter_size=layer2_filtersize,\n",
    "                                       use_pooling=True)"
   ]
  },
  {
   "cell_type": "code",
   "execution_count": 20,
   "metadata": {},
   "outputs": [
    {
     "data": {
      "text/plain": [
       "<tf.Tensor 'Relu_1:0' shape=(?, 7, 7, 36) dtype=float32>"
      ]
     },
     "execution_count": 20,
     "metadata": {},
     "output_type": "execute_result"
    }
   ],
   "source": [
    "layer2_conv"
   ]
  },
  {
   "cell_type": "code",
   "execution_count": 21,
   "metadata": {
    "collapsed": true
   },
   "outputs": [],
   "source": [
    "layer_flat, num_features = flatten_layer(layer2_conv)"
   ]
  },
  {
   "cell_type": "code",
   "execution_count": 22,
   "metadata": {},
   "outputs": [
    {
     "data": {
      "text/plain": [
       "<tf.Tensor 'Reshape_1:0' shape=(?, 1764) dtype=float32>"
      ]
     },
     "execution_count": 22,
     "metadata": {},
     "output_type": "execute_result"
    }
   ],
   "source": [
    "layer_flat"
   ]
  },
  {
   "cell_type": "code",
   "execution_count": 23,
   "metadata": {},
   "outputs": [
    {
     "data": {
      "text/plain": [
       "1764"
      ]
     },
     "execution_count": 23,
     "metadata": {},
     "output_type": "execute_result"
    }
   ],
   "source": [
    "num_features"
   ]
  },
  {
   "cell_type": "code",
   "execution_count": 24,
   "metadata": {
    "collapsed": true
   },
   "outputs": [],
   "source": [
    "layer_fc1 = new_fc_layer(layer_flat, num_inputs=num_features, num_outputs=fc_size, use_relu=True)"
   ]
  },
  {
   "cell_type": "code",
   "execution_count": 25,
   "metadata": {},
   "outputs": [
    {
     "data": {
      "text/plain": [
       "<tf.Tensor 'Relu_2:0' shape=(?, 128) dtype=float32>"
      ]
     },
     "execution_count": 25,
     "metadata": {},
     "output_type": "execute_result"
    }
   ],
   "source": [
    "layer_fc1"
   ]
  },
  {
   "cell_type": "code",
   "execution_count": 26,
   "metadata": {
    "collapsed": true
   },
   "outputs": [],
   "source": [
    "layer_fc2 = new_fc_layer(layer_fc1, num_inputs=fc_size, num_outputs=num_classes, use_relu=True)"
   ]
  },
  {
   "cell_type": "code",
   "execution_count": 27,
   "metadata": {},
   "outputs": [
    {
     "data": {
      "text/plain": [
       "<tf.Tensor 'Relu_3:0' shape=(?, 10) dtype=float32>"
      ]
     },
     "execution_count": 27,
     "metadata": {},
     "output_type": "execute_result"
    }
   ],
   "source": [
    "layer_fc2"
   ]
  },
  {
   "cell_type": "code",
   "execution_count": 28,
   "metadata": {
    "collapsed": true
   },
   "outputs": [],
   "source": [
    "y_pred = tf.nn.softmax(layer_fc2)"
   ]
  },
  {
   "cell_type": "code",
   "execution_count": 29,
   "metadata": {
    "collapsed": true
   },
   "outputs": [],
   "source": [
    "y_pred_cls = tf.argmax(y_pred, axis=1)"
   ]
  },
  {
   "cell_type": "markdown",
   "metadata": {},
   "source": [
    "Cost"
   ]
  },
  {
   "cell_type": "code",
   "execution_count": 30,
   "metadata": {
    "collapsed": true
   },
   "outputs": [],
   "source": [
    "cross_entropy = tf.nn.softmax_cross_entropy_with_logits(logits=layer_fc2, labels=y_true)"
   ]
  },
  {
   "cell_type": "code",
   "execution_count": 31,
   "metadata": {
    "collapsed": true
   },
   "outputs": [],
   "source": [
    "cost = tf.reduce_mean(cross_entropy)"
   ]
  },
  {
   "cell_type": "markdown",
   "metadata": {},
   "source": [
    "Optimizing"
   ]
  },
  {
   "cell_type": "code",
   "execution_count": 32,
   "metadata": {
    "collapsed": true
   },
   "outputs": [],
   "source": [
    "optimizer = tf.train.AdamOptimizer(learning_rate=1e-4).minimize(cost)"
   ]
  },
  {
   "cell_type": "markdown",
   "metadata": {},
   "source": [
    "Performance measure"
   ]
  },
  {
   "cell_type": "code",
   "execution_count": 33,
   "metadata": {
    "collapsed": true
   },
   "outputs": [],
   "source": [
    "correct_prediction = tf.equal(y_pred_cls, y_true_cls)"
   ]
  },
  {
   "cell_type": "code",
   "execution_count": 34,
   "metadata": {
    "collapsed": true
   },
   "outputs": [],
   "source": [
    "accuracy = tf.reduce_mean(tf.cast(correct_prediction, tf.float32))"
   ]
  },
  {
   "cell_type": "markdown",
   "metadata": {},
   "source": [
    "Training"
   ]
  },
  {
   "cell_type": "code",
   "execution_count": 35,
   "metadata": {
    "collapsed": true
   },
   "outputs": [],
   "source": [
    "config = tf.ConfigProto()\n",
    "config.gpu_options.allow_growth=True\n",
    "session = tf.Session(config=config)"
   ]
  },
  {
   "cell_type": "code",
   "execution_count": 36,
   "metadata": {
    "collapsed": true
   },
   "outputs": [],
   "source": [
    "session.run(tf.global_variables_initializer())"
   ]
  },
  {
   "cell_type": "code",
   "execution_count": 37,
   "metadata": {
    "collapsed": true
   },
   "outputs": [],
   "source": [
    "train_batch_size = 128"
   ]
  },
  {
   "cell_type": "code",
   "execution_count": null,
   "metadata": {
    "collapsed": true
   },
   "outputs": [],
   "source": [
    "def optimize(epochs):\n",
    "    for i in range(epochs):\n",
    "        x_batch, y_true_batch = data.train.next_batch(train_batch_size)\n",
    "        session.run(optimizer, feed_dict={x:x_batch, y_true:y_true_batch})\n",
    "        \n",
    "        if i % 100 == 0:\n",
    "            x_batch, y_true_batch = data.test.next_batch(512)\n",
    "            acc = session.run(accuracy, feed_dict={x:x_batch, y_true:y_true_batch})\n",
    "            msg = \"Optimization Iteration: {0:>6}, Training Accuracy: {1:>6.1%}\"\n",
    "            print(msg.format(i + 1, acc))"
   ]
  },
  {
   "cell_type": "code",
   "execution_count": null,
   "metadata": {},
   "outputs": [
    {
     "name": "stdout",
     "output_type": "stream",
     "text": [
      "Optimization Iteration:      1, Training Accuracy:  13.7%\n",
      "Optimization Iteration:    101, Training Accuracy:  78.7%\n",
      "Optimization Iteration:    201, Training Accuracy:  83.2%\n",
      "Optimization Iteration:    301, Training Accuracy:  82.0%\n",
      "Optimization Iteration:    401, Training Accuracy:  88.7%\n",
      "Optimization Iteration:    501, Training Accuracy:  88.1%\n",
      "Optimization Iteration:    601, Training Accuracy:  86.3%\n",
      "Optimization Iteration:    701, Training Accuracy:  87.7%\n",
      "Optimization Iteration:    801, Training Accuracy:  87.7%\n",
      "Optimization Iteration:    901, Training Accuracy:  85.7%\n",
      "Optimization Iteration:   1001, Training Accuracy:  88.1%\n",
      "Optimization Iteration:   1101, Training Accuracy:  87.7%\n",
      "Optimization Iteration:   1201, Training Accuracy:  88.3%\n",
      "Optimization Iteration:   1301, Training Accuracy:  84.8%\n",
      "Optimization Iteration:   1401, Training Accuracy:  86.9%\n",
      "Optimization Iteration:   1501, Training Accuracy:  87.3%\n",
      "Optimization Iteration:   1601, Training Accuracy:  86.3%\n",
      "Optimization Iteration:   1701, Training Accuracy:  88.5%\n",
      "Optimization Iteration:   1801, Training Accuracy:  88.1%\n",
      "Optimization Iteration:   1901, Training Accuracy:  90.4%\n",
      "Optimization Iteration:   2001, Training Accuracy:  87.9%\n",
      "Optimization Iteration:   2101, Training Accuracy:  92.0%\n",
      "Optimization Iteration:   2201, Training Accuracy:  89.1%\n",
      "Optimization Iteration:   2301, Training Accuracy:  87.1%\n",
      "Optimization Iteration:   2401, Training Accuracy:  85.9%\n",
      "Optimization Iteration:   2501, Training Accuracy:  88.3%\n",
      "Optimization Iteration:   2601, Training Accuracy:  88.3%\n",
      "Optimization Iteration:   2701, Training Accuracy:  88.5%\n",
      "Optimization Iteration:   2801, Training Accuracy:  86.5%\n",
      "Optimization Iteration:   2901, Training Accuracy:  88.5%\n",
      "Optimization Iteration:   3001, Training Accuracy:  85.7%\n",
      "Optimization Iteration:   3101, Training Accuracy:  88.7%\n",
      "Optimization Iteration:   3201, Training Accuracy:  87.9%\n",
      "Optimization Iteration:   3301, Training Accuracy:  88.1%\n",
      "Optimization Iteration:   3401, Training Accuracy:  89.6%\n",
      "Optimization Iteration:   3501, Training Accuracy:  89.5%\n",
      "Optimization Iteration:   3601, Training Accuracy:  87.7%\n",
      "Optimization Iteration:   3701, Training Accuracy:  89.6%\n",
      "Optimization Iteration:   3801, Training Accuracy:  87.9%\n",
      "Optimization Iteration:   3901, Training Accuracy:  89.1%\n",
      "Optimization Iteration:   4001, Training Accuracy:  90.0%\n",
      "Optimization Iteration:   4101, Training Accuracy:  87.1%\n",
      "Optimization Iteration:   4201, Training Accuracy:  90.4%\n",
      "Optimization Iteration:   4301, Training Accuracy:  88.3%\n",
      "Optimization Iteration:   4401, Training Accuracy:  87.5%\n",
      "Optimization Iteration:   4501, Training Accuracy:  88.9%\n",
      "Optimization Iteration:   4601, Training Accuracy:  87.1%\n",
      "Optimization Iteration:   4701, Training Accuracy:  90.2%\n",
      "Optimization Iteration:   4801, Training Accuracy:  90.2%\n",
      "Optimization Iteration:   4901, Training Accuracy:  90.0%\n",
      "Optimization Iteration:   5001, Training Accuracy:  87.7%\n",
      "Optimization Iteration:   5101, Training Accuracy:  87.7%\n",
      "Optimization Iteration:   5201, Training Accuracy:  90.8%\n",
      "Optimization Iteration:   5301, Training Accuracy:  88.9%\n",
      "Optimization Iteration:   5401, Training Accuracy:  89.3%\n",
      "Optimization Iteration:   5501, Training Accuracy:  88.3%\n",
      "Optimization Iteration:   5601, Training Accuracy:  88.9%\n",
      "Optimization Iteration:   5701, Training Accuracy:  85.4%\n",
      "Optimization Iteration:   5801, Training Accuracy:  89.3%\n",
      "Optimization Iteration:   5901, Training Accuracy:  89.8%\n",
      "Optimization Iteration:   6001, Training Accuracy:  89.1%\n",
      "Optimization Iteration:   6101, Training Accuracy:  87.9%\n",
      "Optimization Iteration:   6201, Training Accuracy:  85.9%\n",
      "Optimization Iteration:   6301, Training Accuracy:  92.6%\n",
      "Optimization Iteration:   6401, Training Accuracy:  88.9%\n",
      "Optimization Iteration:   6501, Training Accuracy:  89.8%\n",
      "Optimization Iteration:   6601, Training Accuracy:  89.1%\n",
      "Optimization Iteration:   6701, Training Accuracy:  88.1%\n",
      "Optimization Iteration:   6801, Training Accuracy:  87.9%\n",
      "Optimization Iteration:   6901, Training Accuracy:  87.9%\n",
      "Optimization Iteration:   7001, Training Accuracy:  88.5%\n",
      "Optimization Iteration:   7101, Training Accuracy:  88.3%\n",
      "Optimization Iteration:   7201, Training Accuracy:  88.1%\n",
      "Optimization Iteration:   7301, Training Accuracy:  87.9%\n",
      "Optimization Iteration:   7401, Training Accuracy:  89.6%\n",
      "Optimization Iteration:   7501, Training Accuracy:  89.1%\n",
      "Optimization Iteration:   7601, Training Accuracy:  89.1%\n",
      "Optimization Iteration:   7701, Training Accuracy:  88.5%\n",
      "Optimization Iteration:   7801, Training Accuracy:  88.1%\n",
      "Optimization Iteration:   7901, Training Accuracy:  87.1%\n",
      "Optimization Iteration:   8001, Training Accuracy:  92.6%\n",
      "Optimization Iteration:   8101, Training Accuracy:  89.3%\n",
      "Optimization Iteration:   8201, Training Accuracy:  87.9%\n",
      "Optimization Iteration:   8301, Training Accuracy:  90.2%\n",
      "Optimization Iteration:   8401, Training Accuracy:  91.4%\n",
      "Optimization Iteration:   8501, Training Accuracy:  87.9%\n",
      "Optimization Iteration:   8601, Training Accuracy:  87.5%\n",
      "Optimization Iteration:   8701, Training Accuracy:  91.2%\n",
      "Optimization Iteration:   8801, Training Accuracy:  89.3%\n",
      "Optimization Iteration:   8901, Training Accuracy:  89.6%\n",
      "Optimization Iteration:   9001, Training Accuracy:  87.1%\n",
      "Optimization Iteration:   9101, Training Accuracy:  87.5%\n",
      "Optimization Iteration:   9201, Training Accuracy:  87.7%\n",
      "Optimization Iteration:   9301, Training Accuracy:  86.7%\n",
      "Optimization Iteration:   9401, Training Accuracy:  88.3%\n",
      "Optimization Iteration:   9501, Training Accuracy:  90.0%\n",
      "Optimization Iteration:   9601, Training Accuracy:  87.7%\n",
      "Optimization Iteration:   9701, Training Accuracy:  89.6%\n",
      "Optimization Iteration:   9801, Training Accuracy:  86.7%\n",
      "Optimization Iteration:   9901, Training Accuracy:  91.4%\n",
      "Optimization Iteration:  10001, Training Accuracy:  90.2%\n",
      "Optimization Iteration:  10101, Training Accuracy:  90.2%\n",
      "Optimization Iteration:  10201, Training Accuracy:  89.5%\n",
      "Optimization Iteration:  10301, Training Accuracy:  88.3%\n",
      "Optimization Iteration:  10401, Training Accuracy:  87.9%\n",
      "Optimization Iteration:  10501, Training Accuracy:  90.6%\n",
      "Optimization Iteration:  10601, Training Accuracy:  89.3%\n",
      "Optimization Iteration:  10701, Training Accuracy:  88.5%\n",
      "Optimization Iteration:  10801, Training Accuracy:  88.3%\n",
      "Optimization Iteration:  10901, Training Accuracy:  88.9%\n",
      "Optimization Iteration:  11001, Training Accuracy:  86.3%\n",
      "Optimization Iteration:  11101, Training Accuracy:  88.1%\n",
      "Optimization Iteration:  11201, Training Accuracy:  89.8%\n",
      "Optimization Iteration:  11301, Training Accuracy:  88.7%\n",
      "Optimization Iteration:  11401, Training Accuracy:  87.1%\n",
      "Optimization Iteration:  11501, Training Accuracy:  90.0%\n",
      "Optimization Iteration:  11601, Training Accuracy:  87.3%\n",
      "Optimization Iteration:  11701, Training Accuracy:  86.7%\n",
      "Optimization Iteration:  11801, Training Accuracy:  87.9%\n",
      "Optimization Iteration:  11901, Training Accuracy:  87.9%\n",
      "Optimization Iteration:  12001, Training Accuracy:  89.3%\n",
      "Optimization Iteration:  12101, Training Accuracy:  89.8%\n",
      "Optimization Iteration:  12201, Training Accuracy:  88.3%\n",
      "Optimization Iteration:  12301, Training Accuracy:  90.4%\n",
      "Optimization Iteration:  12401, Training Accuracy:  91.0%\n",
      "Optimization Iteration:  12501, Training Accuracy:  91.2%\n"
     ]
    }
   ],
   "source": [
    "optimize(20000)"
   ]
  },
  {
   "cell_type": "code",
   "execution_count": null,
   "metadata": {
    "collapsed": true
   },
   "outputs": [],
   "source": []
  }
 ],
 "metadata": {
  "kernelspec": {
   "display_name": "Python 3",
   "language": "python",
   "name": "python3"
  },
  "language_info": {
   "codemirror_mode": {
    "name": "ipython",
    "version": 3
   },
   "file_extension": ".py",
   "mimetype": "text/x-python",
   "name": "python",
   "nbconvert_exporter": "python",
   "pygments_lexer": "ipython3",
   "version": "3.5.3"
  }
 },
 "nbformat": 4,
 "nbformat_minor": 2
}
