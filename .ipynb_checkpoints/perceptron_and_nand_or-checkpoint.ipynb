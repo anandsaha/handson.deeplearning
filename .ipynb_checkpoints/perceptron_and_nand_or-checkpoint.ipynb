{
 "cells": [
  {
   "cell_type": "markdown",
   "metadata": {},
   "source": [
    "### Performing AND, OR and NAND operations using perceptron"
   ]
  },
  {
   "cell_type": "markdown",
   "metadata": {},
   "source": [
    "### Helper functions"
   ]
  },
  {
   "cell_type": "code",
   "execution_count": 1,
   "metadata": {
    "collapsed": true
   },
   "outputs": [],
   "source": [
    "import numpy as np"
   ]
  },
  {
   "cell_type": "code",
   "execution_count": 2,
   "metadata": {
    "collapsed": true
   },
   "outputs": [],
   "source": [
    "def error(prediction, ground_truth):\n",
    "    return np.sum(np.square(prediction - ground_truth)) / 2.0"
   ]
  },
  {
   "cell_type": "code",
   "execution_count": 3,
   "metadata": {
    "collapsed": true
   },
   "outputs": [],
   "source": [
    "def step(v):\n",
    "    if v < 0:\n",
    "        return 0\n",
    "    return 1"
   ]
  },
  {
   "cell_type": "code",
   "execution_count": 4,
   "metadata": {
    "collapsed": true
   },
   "outputs": [],
   "source": [
    "def activate(w, x):\n",
    "    t = w.dot(x.T)\n",
    "    return [step(i) for i in t]"
   ]
  },
  {
   "cell_type": "code",
   "execution_count": 5,
   "metadata": {},
   "outputs": [],
   "source": [
    "def gradient_descent(weights, inputs, outputs):\n",
    "    for i in range(1000):\n",
    "        t = activate(weights, inputs)\n",
    "        e = error(t, outputs)\n",
    "\n",
    "        if e < 0.1:\n",
    "            break\n",
    "        # Update w's\n",
    "        for idx, item in enumerate(inputs):\n",
    "            weights[0] = weights[0] - learning_rate * (t[idx] - outputs[idx]) * item[0]\n",
    "            weights[1] = weights[1] - learning_rate * (t[idx] - outputs[idx]) * item[1]\n",
    "            weights[2] = weights[2] - learning_rate * (t[idx] - outputs[idx]) * item[2]\n",
    "    return weights"
   ]
  },
  {
   "cell_type": "markdown",
   "metadata": {},
   "source": [
    "In the below approach, the inputs consist of two binary inputs and a bias (which is always 1)"
   ]
  },
  {
   "cell_type": "markdown",
   "metadata": {},
   "source": [
    "### Let's try to train a perceptron to perform AND operation"
   ]
  },
  {
   "cell_type": "code",
   "execution_count": 6,
   "metadata": {
    "collapsed": true
   },
   "outputs": [],
   "source": [
    "inputs = np.array([[0, 0, 1], [0, 1, 1], [1, 0, 1], [1, 1, 1]])\n",
    "outputs = np.array([0, 0, 0, 1])\n",
    "\n",
    "learning_rate = 0.001\n",
    "err = float('inf')\n",
    "weights = np.random.rand(3, ).T"
   ]
  },
  {
   "cell_type": "code",
   "execution_count": 7,
   "metadata": {},
   "outputs": [],
   "source": [
    "weights = gradient_descent(weights, inputs, outputs)"
   ]
  },
  {
   "cell_type": "code",
   "execution_count": 8,
   "metadata": {},
   "outputs": [
    {
     "name": "stdout",
     "output_type": "stream",
     "text": [
      "AND Output:  [0, 0, 0, 1]\n"
     ]
    }
   ],
   "source": [
    "print(\"AND Output: \", activate(weights, inputs))"
   ]
  },
  {
   "cell_type": "code",
   "execution_count": 9,
   "metadata": {},
   "outputs": [
    {
     "name": "stdout",
     "output_type": "stream",
     "text": [
      "The weights derived were:  [ 0.2724549   0.48390817 -0.48412075]\n"
     ]
    }
   ],
   "source": [
    "print(\"The weights derived were: \", weights)"
   ]
  },
  {
   "cell_type": "markdown",
   "metadata": {},
   "source": [
    "### Let's try to train a perceptron to perform OR operation"
   ]
  },
  {
   "cell_type": "code",
   "execution_count": 10,
   "metadata": {
    "collapsed": true
   },
   "outputs": [],
   "source": [
    "inputs = np.array([[0, 0, 1], [0, 1, 1], [1, 0, 1], [1, 1, 1]])\n",
    "outputs = np.array([0, 1, 1, 1])\n",
    "\n",
    "learning_rate = 0.001\n",
    "err = float('inf')\n",
    "weights = np.random.rand(3, ).T"
   ]
  },
  {
   "cell_type": "code",
   "execution_count": 11,
   "metadata": {
    "collapsed": true
   },
   "outputs": [],
   "source": [
    "weights = gradient_descent(weights, inputs, outputs)"
   ]
  },
  {
   "cell_type": "code",
   "execution_count": 12,
   "metadata": {},
   "outputs": [
    {
     "name": "stdout",
     "output_type": "stream",
     "text": [
      "OR Output:  [0, 1, 1, 1]\n"
     ]
    }
   ],
   "source": [
    "print(\"OR Output: \", activate(weights, inputs))"
   ]
  },
  {
   "cell_type": "code",
   "execution_count": 13,
   "metadata": {},
   "outputs": [
    {
     "name": "stdout",
     "output_type": "stream",
     "text": [
      "The weights derived were:  [ 0.08542758  0.13126875 -0.00025438]\n"
     ]
    }
   ],
   "source": [
    "print(\"The weights derived were: \", weights)"
   ]
  },
  {
   "cell_type": "markdown",
   "metadata": {},
   "source": [
    "### Let's try to train a perceptron to perform NAND operation"
   ]
  },
  {
   "cell_type": "code",
   "execution_count": 14,
   "metadata": {
    "collapsed": true
   },
   "outputs": [],
   "source": [
    "inputs = np.array([[0, 0, 1], [0, 1, 1], [1, 0, 1], [1, 1, 1]])\n",
    "outputs = np.array([1, 1, 1, 0])\n",
    "\n",
    "learning_rate = 0.001\n",
    "err = float('inf')\n",
    "weights = np.random.rand(3, ).T"
   ]
  },
  {
   "cell_type": "code",
   "execution_count": 15,
   "metadata": {
    "collapsed": true
   },
   "outputs": [],
   "source": [
    "weights = gradient_descent(weights, inputs, outputs)"
   ]
  },
  {
   "cell_type": "code",
   "execution_count": 16,
   "metadata": {},
   "outputs": [
    {
     "name": "stdout",
     "output_type": "stream",
     "text": [
      "NAND Output:  [1, 1, 1, 0]\n"
     ]
    }
   ],
   "source": [
    "print(\"NAND Output: \", activate(weights, inputs))"
   ]
  },
  {
   "cell_type": "code",
   "execution_count": 17,
   "metadata": {},
   "outputs": [
    {
     "name": "stdout",
     "output_type": "stream",
     "text": [
      "The weights derived were:  [-0.00090284 -0.00092459  0.00113688]\n"
     ]
    }
   ],
   "source": [
    "print(\"The weights derived were: \", weights)"
   ]
  }
 ],
 "metadata": {
  "kernelspec": {
   "display_name": "Python 3",
   "language": "python",
   "name": "python3"
  },
  "language_info": {
   "codemirror_mode": {
    "name": "ipython",
    "version": 3
   },
   "file_extension": ".py",
   "mimetype": "text/x-python",
   "name": "python",
   "nbconvert_exporter": "python",
   "pygments_lexer": "ipython3",
   "version": "3.5.3"
  }
 },
 "nbformat": 4,
 "nbformat_minor": 2
}
