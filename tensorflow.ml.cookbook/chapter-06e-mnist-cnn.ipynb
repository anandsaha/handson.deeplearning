{
 "cells": [
  {
   "cell_type": "markdown",
   "metadata": {},
   "source": [
    "### Classify MNIST digits using a simple CNN model"
   ]
  },
  {
   "cell_type": "code",
   "execution_count": 1,
   "metadata": {
    "collapsed": true
   },
   "outputs": [],
   "source": [
    "import tensorflow as tf\n",
    "import numpy as np\n",
    "import matplotlib.pyplot as plt\n",
    "from tensorflow.examples.tutorials.mnist import input_data\n",
    "\n",
    "%matplotlib inline"
   ]
  },
  {
   "cell_type": "code",
   "execution_count": 2,
   "metadata": {
    "collapsed": true
   },
   "outputs": [],
   "source": [
    "data_folder = '/tmp/'"
   ]
  },
  {
   "cell_type": "code",
   "execution_count": 3,
   "metadata": {},
   "outputs": [
    {
     "name": "stdout",
     "output_type": "stream",
     "text": [
      "Extracting /tmp/train-images-idx3-ubyte.gz\n",
      "Extracting /tmp/train-labels-idx1-ubyte.gz\n",
      "Extracting /tmp/t10k-images-idx3-ubyte.gz\n",
      "Extracting /tmp/t10k-labels-idx1-ubyte.gz\n"
     ]
    }
   ],
   "source": [
    "# Fetch the data via tensorflow, we specify one_hot=True so that \n",
    "# the output classes are automatically OneHotEncoded\n",
    "\n",
    "mnist = input_data.read_data_sets(data_folder, one_hot=True)"
   ]
  },
  {
   "cell_type": "code",
   "execution_count": 4,
   "metadata": {
    "collapsed": true
   },
   "outputs": [],
   "source": [
    "# Get the data\n",
    "x_train = np.array([img.reshape(28, 28, 1)  for img in mnist.train.images])\n",
    "y_train = np.array(mnist.train.labels)\n",
    "\n",
    "x_test = np.array([img.reshape(28, 28, 1)  for img in mnist.test.images])\n",
    "y_test = np.array(mnist.test.labels)"
   ]
  },
  {
   "cell_type": "code",
   "execution_count": 5,
   "metadata": {
    "collapsed": true
   },
   "outputs": [],
   "source": [
    "# Image pre processing - TODO\n",
    "# Ideally we would do mean image subtraction and normalization, \n",
    "# but for this demo we are skipping it"
   ]
  },
  {
   "cell_type": "code",
   "execution_count": 6,
   "metadata": {
    "collapsed": true
   },
   "outputs": [],
   "source": [
    "# Constants\n",
    "input_dim_height = x_train[0].shape[0]\n",
    "input_dim_width = x_train[0].shape[1]\n",
    "input_channels = 1   # We are dealing with gray scale images\n",
    "num_classes = 10     # We are predicting the digits\n",
    "\n",
    "# Model constants\n",
    "layer1_conv_dim = 5\n",
    "layer1_conv_channels = 20\n",
    "layer2_conv_dim = 5\n",
    "layer2_conv_channels = 50\n",
    "stride = 1 # Common stride in all dimensions\n",
    "max_pool_size = 2\n",
    "fc1_size = 100\n",
    "\n",
    "# Runtime params\n",
    "batch_size = 100\n",
    "lr = 0.01\n",
    "num_epoch = 50"
   ]
  },
  {
   "cell_type": "code",
   "execution_count": 7,
   "metadata": {
    "collapsed": true
   },
   "outputs": [],
   "source": [
    "# The model inputs\n",
    "input_shape = [None, input_dim_width, input_dim_height, input_channels]\n",
    "x = tf.placeholder(dtype=tf.float32, shape=input_shape)\n",
    "y = tf.placeholder(dtype=tf.float32, shape=[None, num_classes])\n",
    "\n",
    "# The Layers\n",
    "# We will do a Conv-ReLU-Conv-ReLU-MaxPool-FC-FC-Sigmoid-CrossEntropyLoss\n",
    "\n",
    "# 1st Conv-ReLU\n",
    "conv1_shape = [layer1_conv_dim, layer1_conv_dim, input_channels, layer1_conv_channels]\n",
    "conv1_weights = tf.Variable(tf.truncated_normal(shape=conv1_shape))\n",
    "conv1_bias = tf.Variable(tf.ones(layer1_conv_channels) * 0.01)\n",
    "conv1_temp = tf.nn.conv2d(x, conv1_weights, strides=[1, 1, 1, 1], padding='VALID')\n",
    "relu1_output = tf.nn.relu(tf.nn.bias_add(conv1_temp, conv1_bias))\n",
    "layer1_height = (input_dim_height + 2 * 0 - layer1_conv_dim) / stride + 1\n",
    "layer1_width = (input_dim_width + 2 * 0 - layer1_conv_dim) / stride + 1\n",
    "\n",
    "# 2nd Conv-ReLU\n",
    "conv2_shape = [layer2_conv_dim, layer2_conv_dim, layer1_conv_channels, layer2_conv_channels]\n",
    "conv2_weights = tf.Variable(tf.truncated_normal(shape=conv2_shape))\n",
    "conv2_bias = tf.Variable(tf.ones(layer2_conv_channels) * 0.01)\n",
    "conv2_temp = tf.nn.conv2d(relu1_output, conv2_weights, strides=[1, 1, 1, 1], padding='VALID')\n",
    "relu2_output = tf.nn.relu(tf.nn.bias_add(conv2_temp, conv2_bias))\n",
    "layer2_height = (layer1_height + 2 * 0 - layer2_conv_dim) / stride + 1\n",
    "layer2_width = (layer1_width + 2 * 0 - layer2_conv_dim) / stride + 1\n",
    "\n",
    "# Max Pooling\n",
    "max_pool2 = tf.nn.max_pool(relu2_output, ksize=[1, max_pool_size, max_pool_size, 1], \n",
    "                           strides=[1, max_pool_size, max_pool_size, 1], padding='VALID')\n",
    "\n",
    "# Let's calculate the tensor sizes here, before moving to Fully Connected layers\n",
    "final_height = int((layer2_height - max_pool_size) / max_pool_size + 1)\n",
    "final_width = int((layer2_width - max_pool_size) / max_pool_size + 1)\n",
    "final_channels = layer2_conv_channels\n",
    "\n",
    "# FC 1\n",
    "fc1_input_dim = final_height * final_width * final_channels\n",
    "fc1_weights = tf.Variable(tf.truncated_normal([fc1_input_dim, fc1_size], stddev=0.1, dtype=tf.float32))\n",
    "fc1_bias = tf.Variable(tf.truncated_normal([fc1_size], stddev=0.1, dtype=tf.float32))\n",
    "max_pool2_flatten = tf.contrib.layers.flatten(max_pool2)\n",
    "\n",
    "fc1_output = tf.nn.relu(tf.nn.bias_add(tf.matmul(max_pool2_flatten, fc1_weights), fc1_bias))\n",
    "\n",
    "# FC 2\n",
    "fc2_weights = tf.Variable(tf.truncated_normal([fc1_size, num_classes], stddev=0.1, dtype=tf.float32))\n",
    "fc2_bias = tf.Variable(tf.truncated_normal([num_classes], stddev=0.1, dtype=tf.float32))\n",
    "fc2_output = tf.nn.bias_add(tf.matmul(fc1_output, fc2_weights), fc2_bias)\n",
    "\n",
    "\n",
    "# Ok so we have our raw scores\n",
    "xentropy = tf.nn.softmax_cross_entropy_with_logits(labels=y, logits=fc2_output)\n",
    "loss = tf.reduce_mean(xentropy)\n",
    "opt = tf.train.GradientDescentOptimizer(lr)\n",
    "train_step = opt.minimize(loss)\n"
   ]
  },
  {
   "cell_type": "code",
   "execution_count": 8,
   "metadata": {
    "collapsed": true
   },
   "outputs": [],
   "source": [
    "training_loss = list()\n",
    "training_acc = list()\n",
    "testing_loss = list()\n",
    "testing_acc = list()"
   ]
  },
  {
   "cell_type": "code",
   "execution_count": 9,
   "metadata": {},
   "outputs": [
    {
     "name": "stdout",
     "output_type": "stream",
     "text": [
      "Epoch 0 ,  Test accuracy 0.8856\n",
      "Epoch 1 ,  Test accuracy 0.9235\n",
      "Epoch 2 ,  Test accuracy 0.9411\n",
      "Epoch 3 ,  Test accuracy 0.9473\n",
      "Epoch 4 ,  Test accuracy 0.9522\n",
      "Epoch 5 ,  Test accuracy 0.9556\n",
      "Epoch 6 ,  Test accuracy 0.9625\n",
      "Epoch 7 ,  Test accuracy 0.9642\n",
      "Epoch 8 ,  Test accuracy 0.9655\n",
      "Epoch 9 ,  Test accuracy 0.9678\n",
      "Epoch 10 ,  Test accuracy 0.9676\n",
      "Epoch 11 ,  Test accuracy 0.969\n",
      "Epoch 12 ,  Test accuracy 0.9679\n",
      "Epoch 13 ,  Test accuracy 0.97\n",
      "Epoch 14 ,  Test accuracy 0.97\n",
      "Epoch 15 ,  Test accuracy 0.971\n",
      "Epoch 16 ,  Test accuracy 0.9718\n",
      "Epoch 17 ,  Test accuracy 0.9734\n",
      "Epoch 18 ,  Test accuracy 0.9747\n",
      "Epoch 19 ,  Test accuracy 0.9737\n",
      "Epoch 20 ,  Test accuracy 0.9719\n",
      "Epoch 21 ,  Test accuracy 0.9734\n",
      "Epoch 22 ,  Test accuracy 0.9752\n",
      "Epoch 23 ,  Test accuracy 0.9737\n",
      "Epoch 24 ,  Test accuracy 0.9757\n",
      "Epoch 25 ,  Test accuracy 0.9741\n",
      "Epoch 26 ,  Test accuracy 0.9742\n",
      "Epoch 27 ,  Test accuracy 0.9763\n",
      "Epoch 28 ,  Test accuracy 0.9764\n",
      "Epoch 29 ,  Test accuracy 0.9771\n",
      "Epoch 30 ,  Test accuracy 0.9769\n",
      "Epoch 31 ,  Test accuracy 0.9762\n",
      "Epoch 32 ,  Test accuracy 0.9777\n",
      "Epoch 33 ,  Test accuracy 0.9772\n",
      "Epoch 34 ,  Test accuracy 0.9762\n",
      "Epoch 35 ,  Test accuracy 0.9776\n",
      "Epoch 36 ,  Test accuracy 0.9777\n",
      "Epoch 37 ,  Test accuracy 0.9777\n",
      "Epoch 38 ,  Test accuracy 0.9778\n",
      "Epoch 39 ,  Test accuracy 0.9778\n",
      "Epoch 40 ,  Test accuracy 0.9768\n",
      "Epoch 41 ,  Test accuracy 0.9772\n",
      "Epoch 42 ,  Test accuracy 0.9759\n",
      "Epoch 43 ,  Test accuracy 0.9785\n",
      "Epoch 44 ,  Test accuracy 0.9785\n",
      "Epoch 45 ,  Test accuracy 0.9771\n",
      "Epoch 46 ,  Test accuracy 0.9777\n",
      "Epoch 47 ,  Test accuracy 0.9778\n",
      "Epoch 48 ,  Test accuracy 0.9773\n",
      "Epoch 49 ,  Test accuracy 0.9768\n"
     ]
    }
   ],
   "source": [
    "\n",
    "# Time to train\n",
    "with tf.Session() as sess:\n",
    "    sess.run(tf.global_variables_initializer())\n",
    "    \n",
    "    data_size = len(x_train)\n",
    "    feed_test = {x: x_test, y: y_test}\n",
    "    \n",
    "    for ep in range(num_epoch):\n",
    "        for bs in range(int(data_size // batch_size)):\n",
    "            \n",
    "            mask = np.random.choice(data_size, batch_size)\n",
    "            x_rand = x_train[mask]\n",
    "            y_rand = y_train[mask]\n",
    "            \n",
    "            feed = {x: x_rand, y: y_rand}\n",
    "            op = sess.run(train_step, feed_dict=feed)\n",
    "            \n",
    "            \n",
    "        train_loss = sess.run(loss, feed_dict=feed)\n",
    "        train_pred = sess.run(fc2_output, feed_dict=feed)\n",
    "        train_accuracy = np.mean(np.argmax(train_pred, axis=1) == np.argmax(y_rand, axis=1))\n",
    "            \n",
    "        test_loss = sess.run(loss, feed_dict=feed_test)\n",
    "        test_pred = sess.run(fc2_output, feed_dict=feed_test)\n",
    "        test_accuracy = np.mean(np.argmax(test_pred, axis=1) == np.argmax(y_test, axis=1))\n",
    "        \n",
    "        training_loss.append(train_loss)\n",
    "        training_acc.append(train_accuracy)\n",
    "        testing_loss.append(test_loss)\n",
    "        testing_acc.append(test_accuracy)\n",
    "        \n",
    "        print('Epoch', ep, ',  Test accuracy', test_accuracy)\n",
    "        \n",
    "        lr *= 0.98\n"
   ]
  },
  {
   "cell_type": "code",
   "execution_count": 10,
   "metadata": {},
   "outputs": [
    {
     "data": {
      "image/png": "[encoded data removed]",
      "text/plain": [
       "<matplotlib.figure.Figure at 0x7f8256923470>"
      ]
     },
     "metadata": {},
     "output_type": "display_data"
    },
    {
     "data": {
      "image/png": "[encoded data removed]",
      "text/plain": [
       "<matplotlib.figure.Figure at 0x7f8256771518>"
      ]
     },
     "metadata": {},
     "output_type": "display_data"
    }
   ],
   "source": [
    "xaxis = [ep for ep in range(num_epoch)]\n",
    "\n",
    "plt.plot(xaxis, training_acc, c='blue')\n",
    "plt.plot(xaxis, testing_acc, c='red')\n",
    "plt.show()\n",
    "\n",
    "plt.plot(xaxis, training_loss, c='blue')\n",
    "plt.plot(xaxis, testing_loss, c='red')\n",
    "plt.show()\n",
    "\n"
   ]
  },
  {
   "cell_type": "markdown",
   "metadata": {},
   "source": [
    "TODO\n",
    "\n",
    "- Try with batch normalization\n",
    "- Try with dropouts"
   ]
  }
 ],
 "metadata": {
  "kernelspec": {
   "display_name": "Python 3",
   "language": "python",
   "name": "python3"
  },
  "language_info": {
   "codemirror_mode": {
    "name": "ipython",
    "version": 3
   },
   "file_extension": ".py",
   "mimetype": "text/x-python",
   "name": "python",
   "nbconvert_exporter": "python",
   "pygments_lexer": "ipython3",
   "version": "3.6.3"
  }
 },
 "nbformat": 4,
 "nbformat_minor": 2
}
