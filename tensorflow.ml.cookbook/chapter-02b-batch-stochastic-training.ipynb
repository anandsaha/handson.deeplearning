{
 "cells": [
  {
   "cell_type": "markdown",
   "metadata": {},
   "source": [
    "### Batch and stochastic training"
   ]
  },
  {
   "cell_type": "code",
   "execution_count": 1,
   "metadata": {
    "collapsed": true
   },
   "outputs": [],
   "source": [
    "import tensorflow as tf\n",
    "import numpy as np\n",
    "import matplotlib.pyplot as plt\n",
    "\n",
    "%matplotlib inline"
   ]
  },
  {
   "cell_type": "code",
   "execution_count": 12,
   "metadata": {},
   "outputs": [
    {
     "name": "stdout",
     "output_type": "stream",
     "text": [
      "\n",
      "Step #100 A = [[ 9.84072399]]\n",
      "Loss = 0.894058\n",
      "\n",
      "Step #200 A = [[ 9.97477627]]\n",
      "Loss = 0.931786\n",
      "\n",
      "Step #300 A = [[ 9.9371357]]\n",
      "Loss = 0.815094\n",
      "\n",
      "Step #400 A = [[ 9.98896599]]\n",
      "Loss = 1.00884\n",
      "\n",
      "Step #500 A = [[ 9.89531517]]\n",
      "Loss = 0.475355\n"
     ]
    }
   ],
   "source": [
    "# Create dummy dataset\n",
    "num_instances = 100\n",
    "batch_size = 20\n",
    "x_data = np.random.normal(1, 0.1, num_instances)\n",
    "y_data = np.repeat(10., num_instances)\n",
    "\n",
    "# The placeholders\n",
    "x = tf.placeholder(dtype=tf.float32, shape=[None, 1], name='x')\n",
    "y = tf.placeholder(dtype=tf.float32, shape=[None, 1], name='y')\n",
    "\n",
    "# The parameter\n",
    "A = tf.Variable(tf.random_normal(shape=[1, 1]), 'A')\n",
    "\n",
    "# The operation\n",
    "out = tf.matmul(x, A, name='multiply')\n",
    "\n",
    "# The loss\n",
    "loss = tf.reduce_mean(tf.square(out - y), name='loss')\n",
    "\n",
    "# The optimizer\n",
    "opt = tf.train.GradientDescentOptimizer(learning_rate=0.02)\n",
    "train_step = opt.minimize(loss)\n",
    "\n",
    "with tf.Session() as sess:\n",
    "    sess.run(tf.global_variables_initializer())\n",
    "    \n",
    "    for i in range(500):\n",
    "        rand_index = np.random.choice(num_instances, size=batch_size)\n",
    "        x_rand = np.transpose([x_data[rand_index]])\n",
    "        y_rand = np.transpose([y_data[rand_index]])\n",
    "        \n",
    "        op = sess.run(train_step, feed_dict={x: x_rand, y: y_rand})\n",
    "        \n",
    "        if (i+1)%100 == 0:\n",
    "            print('\\nStep #' + str(i+1) + ' A = ' + str(sess.run(A)))\n",
    "            temp_loss = sess.run(loss, feed_dict={x: x_rand, y: y_rand})\n",
    "            print('Loss = ' + str(temp_loss))"
   ]
  }
 ],
 "metadata": {
  "kernelspec": {
   "display_name": "Python 3",
   "language": "python",
   "name": "python3"
  },
  "language_info": {
   "codemirror_mode": {
    "name": "ipython",
    "version": 3
   },
   "file_extension": ".py",
   "mimetype": "text/x-python",
   "name": "python",
   "nbconvert_exporter": "python",
   "pygments_lexer": "ipython3",
   "version": "3.6.3"
  }
 },
 "nbformat": 4,
 "nbformat_minor": 2
}
