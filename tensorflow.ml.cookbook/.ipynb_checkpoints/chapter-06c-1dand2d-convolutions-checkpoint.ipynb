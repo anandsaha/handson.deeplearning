{
 "cells": [
  {
   "cell_type": "markdown",
   "metadata": {},
   "source": [
    "### Convolution with 1D data\n",
    "\n",
    "This will mean our batch size is 1, height is 1, width is length of the array, and channels is 1."
   ]
  },
  {
   "cell_type": "code",
   "execution_count": 1,
   "metadata": {
    "collapsed": true
   },
   "outputs": [],
   "source": [
    "import tensorflow as tf\n",
    "import numpy as np\n",
    "import matplotlib.pyplot as plt\n",
    "\n",
    "%matplotlib inline"
   ]
  },
  {
   "cell_type": "code",
   "execution_count": 2,
   "metadata": {
    "collapsed": true
   },
   "outputs": [],
   "source": [
    "tf.reset_default_graph()\n",
    "tf.set_random_seed(42)\n",
    "np.random.seed(42)"
   ]
  },
  {
   "cell_type": "code",
   "execution_count": null,
   "metadata": {
    "collapsed": true
   },
   "outputs": [],
   "source": [
    "# The input data (1-d)\n",
    "height = 25\n",
    "batch_size = 1\n",
    "width = 1\n",
    "channel = 1\n",
    "filter_h = 5\n",
    "filter_w = 1\n",
    "data_1d = np.random.normal(size=height)"
   ]
  },
  {
   "cell_type": "code",
   "execution_count": 4,
   "metadata": {},
   "outputs": [
    {
     "name": "stdout",
     "output_type": "stream",
     "text": [
      "Input dim Tensor(\"ExpandDims_8:0\", shape=(1, 1, 25, 1), dtype=float32)\n",
      "Output dim (21,)\n",
      "Pool output dim (17,)\n"
     ]
    }
   ],
   "source": [
    "\n",
    "# The input placeholder\n",
    "x0 = tf.placeholder(dtype=tf.float32, shape=[height])\n",
    "\n",
    "# Convert the input data's dimension to fit convolution\n",
    "x1 = tf.expand_dims(x0, 0)\n",
    "x2 = tf.expand_dims(x1, 0)\n",
    "x = tf.expand_dims(x2, 3)\n",
    "print('Input dim', x)\n",
    "\n",
    "# The filter\n",
    "x_filter = tf.Variable(tf.random_normal(shape=[filter_w, filter_h, 1, 1]))\n",
    "\n",
    "# The Convolition\n",
    "strides = [1, 1, 1, 1]\n",
    "conv_output = tf.nn.conv2d(x, x_filter, strides, padding=\"VALID\")\n",
    "conv_output_1d = tf.squeeze(conv_output)\n",
    "\n",
    "# Output is 1x28 because:\n",
    "# HH = (H + 2P - F)/S + 1 = (32 + 0 - 5)/1 + 1 = 28.\n",
    "print('Output dim', conv_output_1d.get_shape())\n",
    "\n",
    "# Activation\n",
    "activation_out = tf.nn.relu(conv_output_1d)\n",
    "\n",
    "# Apply Max Pool\n",
    "pool_width = 5\n",
    "act0 = tf.expand_dims(activation_out, 0)\n",
    "act1 = tf.expand_dims(act0, 0)\n",
    "act = tf.expand_dims(act1, 3)\n",
    "\n",
    "pool_output = tf.nn.max_pool(act, ksize=[1, 1, pool_width, 1], strides=[1, 1, 1, 1], padding='VALID')\n",
    "pool_output_1d = tf.squeeze(pool_output)\n",
    "print('Pool output dim', pool_output_1d.get_shape())\n",
    "\n",
    "# Fully connected layer\n",
    "fc_output = 5\n",
    "\n",
    "weight_shape = tf.squeeze(tf.stack([tf.shape(pool_output_1d), [fc_output]]))\n",
    "weight = tf.random_normal(weight_shape, stddev=0.1)\n",
    "bias = tf.random_normal(shape=[fc_output])\n",
    "pool_output_2d = tf.expand_dims(pool_output_1d, 0)\n",
    "\n",
    "full_output = tf.add(tf.matmul(pool_output_2d, weight), bias)\n",
    "full_output_1d = tf.squeeze(full_output)"
   ]
  },
  {
   "cell_type": "code",
   "execution_count": 9,
   "metadata": {},
   "outputs": [
    {
     "name": "stdout",
     "output_type": "stream",
     "text": [
      "Input = array of length 25\n",
      "Convolution w/filter, length = 5, stride size = 1, results in an array of length 21:\n",
      "[-0.79238796  0.73822975  2.20840859 -0.15232582 -2.92923903  2.30346775\n",
      " -1.65250707 -0.2738196  -0.30570835 -1.46909201  3.37300992  1.23552966\n",
      "  0.18724805 -0.18755838 -0.2965169  -1.66084778  0.10388383  1.20356035\n",
      "  1.73469138  0.79053807 -2.86840439]\n",
      "\n",
      "Input = the above array of length 21\n",
      "ReLU element wise returns the array of length 21:\n",
      "[[[[ 0.        ]\n",
      "   [ 0.73822975]\n",
      "   [ 2.20840859]\n",
      "   [ 0.        ]\n",
      "   [ 0.        ]\n",
      "   [ 2.30346775]\n",
      "   [ 0.        ]\n",
      "   [ 0.        ]\n",
      "   [ 0.        ]\n",
      "   [ 0.        ]\n",
      "   [ 3.37300992]\n",
      "   [ 1.23552966]\n",
      "   [ 0.18724805]\n",
      "   [ 0.        ]\n",
      "   [ 0.        ]\n",
      "   [ 0.        ]\n",
      "   [ 0.10388383]\n",
      "   [ 1.20356035]\n",
      "   [ 1.73469138]\n",
      "   [ 0.79053807]\n",
      "   [ 0.        ]]]]\n",
      "\n",
      "Input = the above array of length 21\n",
      "MaxPool, window length = 5, stride size = 1, results in the array of length 17:\n",
      "[ 2.20840859  2.30346775  2.30346775  2.30346775  2.30346775  2.30346775\n",
      "  3.37300992  3.37300992  3.37300992  3.37300992  3.37300992  1.23552966\n",
      "  0.18724805  1.20356035  1.73469138  1.73469138  1.73469138]\n",
      "\n",
      "Input = the above array of length 17\n",
      "Fully connected layer on all four rows with five outputs:\n",
      "[-0.68021971  0.12659964  0.21780148 -0.52946717  1.67980063]\n"
     ]
    }
   ],
   "source": [
    "# Run it!\n",
    "\n",
    "init = tf.global_variables_initializer()\n",
    "sess = tf.Session()\n",
    "sess.run(init)\n",
    "feed_dict = {x0: data_1d}\n",
    "# Convolution Output\n",
    "print('Input = array of length 25')\n",
    "print('Convolution w/filter, length = 5, stride size = 1, results in an array of length 21:')\n",
    "print(sess.run(conv_output_1d, feed_dict=feed_dict))\n",
    "# Activation Output\n",
    "print('\\nInput = the above array of length 21')\n",
    "print('ReLU element wise returns the array of length 21:')\n",
    "print(sess.run(act, feed_dict=feed_dict))\n",
    "# Maxpool Output\n",
    "print('\\nInput = the above array of length 21')\n",
    "print('MaxPool, window length = 5, stride size = 1, results in the array of length 17:')\n",
    "print(sess.run(pool_output_1d, feed_dict=feed_dict))\n",
    "# Fully Connected Output\n",
    "print('\\nInput = the above array of length 17')\n",
    "print('Fully connected layer on all four rows with five outputs:')\n",
    "print(sess.run(full_output_1d, feed_dict=feed_dict))\n",
    "sess.close()"
   ]
  },
  {
   "cell_type": "markdown",
   "metadata": {},
   "source": [
    "### Convolution with 2D data"
   ]
  },
  {
   "cell_type": "code",
   "execution_count": 10,
   "metadata": {
    "collapsed": true
   },
   "outputs": [],
   "source": [
    "tf.reset_default_graph()\n",
    "tf.set_random_seed(42)\n",
    "np.random.seed(42)"
   ]
  },
  {
   "cell_type": "code",
   "execution_count": 14,
   "metadata": {},
   "outputs": [],
   "source": [
    "# The input data\n",
    "input_h = 10\n",
    "input_w = 10\n",
    "conv_h = 2\n",
    "conv_w = 2\n",
    "channel = 1\n",
    "output_channel = 1\n",
    "pool_w = 2\n",
    "pool_h = 2\n",
    "num_output = 5\n",
    "\n",
    "data_2d = np.random.normal(size=[input_w, input_h])\n",
    "\n",
    "# The placeholder\n",
    "x = tf.placeholder(dtype=tf.float32, shape=[input_w, input_h])\n",
    "\n",
    "# The filter\n",
    "x_filter = tf.Variable(tf.random_normal(shape=[conv_w, conv_h, channel, output_channel]))\n",
    "\n",
    "# Apply the filter\n",
    "x0 = tf.expand_dims(x, 0)\n",
    "x1 = tf.expand_dims(x0, 3)\n",
    "conv_output = tf.nn.conv2d(x1, x_filter, [1, 1, 1, 1], padding='VALID')\n",
    "conv_output_2d = tf.squeeze(conv_output)\n",
    "\n",
    "# Apply activation\n",
    "activation_output = tf.nn.relu(conv_output_2d)\n",
    "\n",
    "# Apply maxpool\n",
    "y0 = tf.expand_dims(activation_output, 0)\n",
    "y1 = tf.expand_dims(y0, 3)\n",
    "pool_output = tf.nn.max_pool(y1, [1, pool_w, pool_h, 1], strides=[1, 1, 1, 1], padding='VALID')\n",
    "pool_output_2d = tf.squeeze(pool_output)\n",
    "\n",
    "# Fully connected\n",
    "fc_flat_input = tf.reshape(pool_output_2d, [-1])\n",
    "weight_shape = tf.squeeze(tf.stack([tf.shape(fc_flat_input), [num_output]]))\n",
    "weight = tf.random_normal(weight_shape, stddev=0.1)\n",
    "bias = tf.random_normal(shape=[num_output])\n",
    "input_2d = tf.expand_dims(fc_flat_input, 0)\n",
    "full_output = tf.add(tf.matmul(input_2d, weight), bias)\n",
    "full_output_2d = tf.squeeze(full_output)"
   ]
  },
  {
   "cell_type": "code",
   "execution_count": 19,
   "metadata": {},
   "outputs": [
    {
     "name": "stdout",
     "output_type": "stream",
     "text": [
      "Input = [10 X 10] array\n",
      "2x2 Convolution, stride size = [2x2], results in the [5x5] array:\n",
      "[[-0.44379291  1.57129633  1.45534515  1.42729986  1.92894435  0.13092358\n",
      "   1.25946319 -0.55691546  0.58810341]\n",
      " [ 0.15874892  1.08674788 -0.86521196  3.23359823 -1.27799237 -1.6965692\n",
      "   1.9114517   1.15039182  1.03497255]\n",
      " [-0.04497477 -1.2056638  -0.0722416  -0.48881117  1.18095028 -0.52003998\n",
      "  -0.96677274 -0.2569097   0.72460705]\n",
      " [-1.22056401  0.17824696  0.3300378  -0.91185498 -0.46591085  0.19386604\n",
      "  -2.42754602 -2.19237137 -0.99634141]\n",
      " [ 0.3818312   2.29887462  1.30072725 -0.36088452 -0.19667564 -1.46215689\n",
      "  -0.40022019 -0.73411506  0.25570849]\n",
      " [ 0.97297597  2.60574698  0.05466461  0.60474455  0.96719444 -0.80194575\n",
      "   0.32182482 -0.03229051  0.14609843]\n",
      " [ 0.21872337  1.17487407  2.19467974  1.66911662  3.2758882  -1.15954983\n",
      "   1.35220218  0.42522156  3.18707156]\n",
      " [-1.26603401 -0.88878638 -2.83095098 -0.56897652 -0.64756745  0.09289005\n",
      "   0.83171368  2.9255712   1.83710396]\n",
      " [-1.49462414  0.45811683 -2.31185675  2.65407705  1.54513931 -0.76948923\n",
      "  -2.32372808  2.4324019   0.11497122]]\n",
      "\n",
      "Input = the above [5x5] array\n",
      "ReLU element wise returns the [5x5] array:\n",
      "[[ 0.          1.57129633  1.45534515  1.42729986  1.92894435  0.13092358\n",
      "   1.25946319  0.          0.58810341]\n",
      " [ 0.15874892  1.08674788  0.          3.23359823  0.          0.\n",
      "   1.9114517   1.15039182  1.03497255]\n",
      " [ 0.          0.          0.          0.          1.18095028  0.          0.\n",
      "   0.          0.72460705]\n",
      " [ 0.          0.17824696  0.3300378   0.          0.          0.19386604\n",
      "   0.          0.          0.        ]\n",
      " [ 0.3818312   2.29887462  1.30072725  0.          0.          0.          0.\n",
      "   0.          0.25570849]\n",
      " [ 0.97297597  2.60574698  0.05466461  0.60474455  0.96719444  0.\n",
      "   0.32182482  0.          0.14609843]\n",
      " [ 0.21872337  1.17487407  2.19467974  1.66911662  3.2758882   0.\n",
      "   1.35220218  0.42522156  3.18707156]\n",
      " [ 0.          0.          0.          0.          0.          0.09289005\n",
      "   0.83171368  2.9255712   1.83710396]\n",
      " [ 0.          0.45811683  0.          2.65407705  1.54513931  0.          0.\n",
      "   2.4324019   0.11497122]]\n",
      "\n",
      "Input = the above [5x5] array\n",
      "MaxPool, stride size = [1x1], results in the [4x4] array:\n",
      "[[ 1.57129633  1.57129633  3.23359823  3.23359823  1.92894435  1.9114517\n",
      "   1.9114517   1.15039182]\n",
      " [ 1.08674788  1.08674788  3.23359823  3.23359823  1.18095028  1.9114517\n",
      "   1.9114517   1.15039182]\n",
      " [ 0.17824696  0.3300378   0.3300378   1.18095028  1.18095028  0.19386604\n",
      "   0.          0.72460705]\n",
      " [ 2.29887462  2.29887462  1.30072725  0.          0.19386604  0.19386604\n",
      "   0.          0.25570849]\n",
      " [ 2.60574698  2.60574698  1.30072725  0.96719444  0.96719444  0.32182482\n",
      "   0.32182482  0.25570849]\n",
      " [ 2.60574698  2.60574698  2.19467974  3.2758882   3.2758882   1.35220218\n",
      "   1.35220218  3.18707156]\n",
      " [ 1.17487407  2.19467974  2.19467974  3.2758882   3.2758882   1.35220218\n",
      "   2.9255712   3.18707156]\n",
      " [ 0.45811683  0.45811683  2.65407705  2.65407705  1.54513931  0.83171368\n",
      "   2.9255712   2.9255712 ]]\n",
      "\n",
      "Input = the above [4x4] array\n",
      "Fully connected layer on all four rows with five outputs:\n",
      "[-0.45955968  2.83833385 -1.79733694 -0.8438164   0.70645916]\n"
     ]
    }
   ],
   "source": [
    "sess = tf.Session()\n",
    "sess.run(tf.global_variables_initializer())\n",
    "feed_dict = {x: data_2d}\n",
    "\n",
    "# Convolution Output\n",
    "print('Input = [10 X 10] array')\n",
    "print('2x2 Convolution, stride size = [2x2], results in the [5x5] array:')\n",
    "print(sess.run(conv_output_2d, feed_dict=feed_dict))\n",
    "# Activation Output\n",
    "print('\\nInput = the above [5x5] array')\n",
    "print('ReLU element wise returns the [5x5] array:')\n",
    "print(sess.run(activation_output, feed_dict=feed_dict))\n",
    "# Max Pool Output\n",
    "print('\\nInput = the above [5x5] array')\n",
    "print('MaxPool, stride size = [1x1], results in the [4x4] array:')\n",
    "print(sess.run(pool_output_2d, feed_dict=feed_dict))\n",
    "# Fully Connected Output\n",
    "print('\\nInput = the above [4x4] array')\n",
    "print('Fully connected layer on all four rows with five outputs:')\n",
    "print(sess.run(full_output_2d, feed_dict=feed_dict))\n",
    "\n",
    "\n",
    "sess.close()"
   ]
  },
  {
   "cell_type": "code",
   "execution_count": null,
   "metadata": {
    "collapsed": true
   },
   "outputs": [],
   "source": []
  },
  {
   "cell_type": "code",
   "execution_count": null,
   "metadata": {
    "collapsed": true
   },
   "outputs": [],
   "source": []
  },
  {
   "cell_type": "code",
   "execution_count": null,
   "metadata": {
    "collapsed": true
   },
   "outputs": [],
   "source": []
  },
  {
   "cell_type": "code",
   "execution_count": null,
   "metadata": {
    "collapsed": true
   },
   "outputs": [],
   "source": []
  }
 ],
 "metadata": {
  "kernelspec": {
   "display_name": "Python 3",
   "language": "python",
   "name": "python3"
  },
  "language_info": {
   "codemirror_mode": {
    "name": "ipython",
    "version": 3
   },
   "file_extension": ".py",
   "mimetype": "text/x-python",
   "name": "python",
   "nbconvert_exporter": "python",
   "pygments_lexer": "ipython3",
   "version": "3.6.3"
  }
 },
 "nbformat": 4,
 "nbformat_minor": 2
}
