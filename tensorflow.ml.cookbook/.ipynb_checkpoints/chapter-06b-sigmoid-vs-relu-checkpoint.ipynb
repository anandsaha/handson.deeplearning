{
 "cells": [
  {
   "cell_type": "markdown",
   "metadata": {},
   "source": [
    "### Sigmoid vs ReLU"
   ]
  },
  {
   "cell_type": "code",
   "execution_count": 1,
   "metadata": {
    "collapsed": true
   },
   "outputs": [],
   "source": [
    "import tensorflow as tf\n",
    "import numpy as np\n",
    "import matplotlib.pyplot as plt\n",
    "\n",
    "%matplotlib inline"
   ]
  },
  {
   "cell_type": "code",
   "execution_count": 2,
   "metadata": {
    "collapsed": true
   },
   "outputs": [],
   "source": [
    "np.random.seed(42)\n",
    "tf.reset_default_graph()\n",
    "tf.set_random_seed(42)\n"
   ]
  },
  {
   "cell_type": "code",
   "execution_count": 3,
   "metadata": {
    "collapsed": true
   },
   "outputs": [],
   "source": [
    "# Data\n",
    "x_data = np.random.normal(2, 0.1, 500).reshape(-1, 1) \n",
    "target = 0.75\n",
    "batch_size = 50\n",
    "num_epoch = 300"
   ]
  },
  {
   "cell_type": "code",
   "execution_count": 4,
   "metadata": {
    "collapsed": true
   },
   "outputs": [],
   "source": [
    "sigmoid_loss = []\n",
    "sigmoid_act = []\n",
    "\n",
    "relu_loss = []\n",
    "relu_act = []"
   ]
  },
  {
   "cell_type": "code",
   "execution_count": 5,
   "metadata": {
    "collapsed": true
   },
   "outputs": [],
   "source": [
    "# Sigmoid\n",
    "\n",
    "a = tf.Variable(tf.random_normal(shape=[1, 1]))\n",
    "b = tf.Variable(tf.random_uniform(shape=[1, 1]))\n",
    "x = tf.placeholder(dtype=tf.float32, shape=[None, 1])\n",
    "z = tf.add(tf.multiply(a, x), b)\n",
    "act = tf.sigmoid(z)\n",
    "loss = tf.reduce_mean(tf.square(tf.subtract(act, 0.75)))\n",
    "opt = tf.train.GradientDescentOptimizer(0.01)\n",
    "train_step = opt.minimize(loss)\n",
    "\n",
    "ra = tf.Variable(tf.random_normal(shape=[1, 1]))\n",
    "rb = tf.Variable(tf.random_uniform(shape=[1, 1]))\n",
    "rx = tf.placeholder(dtype=tf.float32, shape=[None, 1])\n",
    "rz = tf.add(tf.multiply(ra, rx), rb)\n",
    "ract = tf.nn.relu(rz)\n",
    "rloss = tf.reduce_mean(tf.square(tf.subtract(ract, 0.75)))\n",
    "ropt = tf.train.GradientDescentOptimizer(0.01)\n",
    "rtrain_step = ropt.minimize(rloss)\n",
    "\n",
    "\n",
    "with tf.Session() as sess:\n",
    "    sess.run(tf.global_variables_initializer())\n",
    "    \n",
    "    for i in range(num_epoch):\n",
    "        \n",
    "        for ba in range(len(x_data) // batch_size):\n",
    "            mask = np.random.choice(len(x_data), batch_size)\n",
    "            x_rand = x_data[mask]\n",
    "            sess.run(train_step, feed_dict={x: x_rand})\n",
    "            sess.run(rtrain_step, feed_dict={rx: x_rand})\n",
    "        \n",
    "        l = sess.run(loss, feed_dict={x: x_rand})\n",
    "        act_ = np.squeeze(sess.run(act, feed_dict={x: x_rand}))\n",
    "        sigmoid_loss.append(l)\n",
    "        sigmoid_act.append(np.mean(act_))\n",
    "        \n",
    "        rl = sess.run(rloss, feed_dict={rx: x_rand})\n",
    "        ract_ = np.squeeze(sess.run(ract, feed_dict={rx: x_rand}))\n",
    "        relu_loss.append(rl)\n",
    "        relu_act.append(np.mean(ract_))\n",
    "\n",
    "            "
   ]
  },
  {
   "cell_type": "code",
   "execution_count": 6,
   "metadata": {},
   "outputs": [
    {
     "data": {
      "image/png": "[encoded data removed]",
      "text/plain": [
       "<matplotlib.figure.Figure at 0x7f3383d27be0>"
      ]
     },
     "metadata": {},
     "output_type": "display_data"
    }
   ],
   "source": [
    "xaxis = [i for i in range(num_epoch)]\n",
    "plt.plot(xaxis, sigmoid_loss, c='red', label='sigmoid')\n",
    "plt.plot(xaxis, relu_loss, c='blue', label='relu')\n",
    "plt.legend()\n",
    "plt.show()"
   ]
  },
  {
   "cell_type": "code",
   "execution_count": 7,
   "metadata": {},
   "outputs": [
    {
     "data": {
      "image/png": "[encoded data removed]",
      "text/plain": [
       "<matplotlib.figure.Figure at 0x7f33839e9dd8>"
      ]
     },
     "metadata": {},
     "output_type": "display_data"
    }
   ],
   "source": [
    "xaxis = [i for i in range(num_epoch)]\n",
    "plt.plot(xaxis, sigmoid_act, c='red', label='sigmoid')\n",
    "plt.plot(xaxis, relu_act, c='blue', label='relu')\n",
    "plt.legend()\n",
    "plt.show()"
   ]
  }
 ],
 "metadata": {
  "kernelspec": {
   "display_name": "Python 3",
   "language": "python",
   "name": "python3"
  },
  "language_info": {
   "codemirror_mode": {
    "name": "ipython",
    "version": 3
   },
   "file_extension": ".py",
   "mimetype": "text/x-python",
   "name": "python",
   "nbconvert_exporter": "python",
   "pygments_lexer": "ipython3",
   "version": "3.6.3"
  }
 },
 "nbformat": 4,
 "nbformat_minor": 2
}
