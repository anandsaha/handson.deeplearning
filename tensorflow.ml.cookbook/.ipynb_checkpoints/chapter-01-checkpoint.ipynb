{
 "cells": [
  {
   "cell_type": "markdown",
   "metadata": {},
   "source": [
    "### The Flow:\n",
    "\n",
    "- Import or generate dataset\n",
    "- Transform and normalize data: Match the shape, normalize, set datatype\n",
    "- Partition data: test, train, validation\n",
    "- Set hyper parameters for training\n",
    "- Intialize variables (updated by the optimizer) and placeholders (used to inject data): Set correct shape and datatype of these objects\n",
    "- Define the model: Create the computational graph\n",
    "- Declare a loss function: Used to quantify the goodness of prediction compared to actual\n",
    "- Initialize and train the model: Create instance of the graph, feed data through placeholders. TF runs it's optimizer to adjust the learnable parameters.\n",
    "- Evaluate the model on new data, after it has been trained\n",
    "- Tune hyper parameters and repeat till a good model is created"
   ]
  },
  {
   "cell_type": "markdown",
   "metadata": {},
   "source": [
    "### Tensors\n",
    "\n",
    "- Fundamental data structures that TensorFlow uses to operate on the computational graph\n",
    "- Are created and fed into Placeholders\n",
    "- When a Tensor is created, several structures in the computational graph is updated"
   ]
  },
  {
   "cell_type": "code",
   "execution_count": 1,
   "metadata": {
    "collapsed": true
   },
   "outputs": [],
   "source": [
    "import tensorflow as tf\n",
    "import numpy as np"
   ]
  },
  {
   "cell_type": "code",
   "execution_count": 2,
   "metadata": {},
   "outputs": [
    {
     "name": "stdout",
     "output_type": "stream",
     "text": [
      "Zeros\n",
      " [[ 0.  0.  0.  0.  0.]\n",
      " [ 0.  0.  0.  0.  0.]\n",
      " [ 0.  0.  0.  0.  0.]] \n",
      "\n",
      "Ones\n",
      " [[1 1 1 1 1]\n",
      " [1 1 1 1 1]\n",
      " [1 1 1 1 1]] \n",
      "\n",
      "Filled\n",
      " [[42 42 42 42 42]\n",
      " [42 42 42 42 42]\n",
      " [42 42 42 42 42]] \n",
      "\n",
      "Const\n",
      " [1 2 3] \n",
      "\n",
      "Const2\n",
      " [[42 42 42 42 42]\n",
      " [42 42 42 42 42]\n",
      " [42 42 42 42 42]] \n",
      "\n",
      "Zeros Like Const\n",
      " [0 0 0] \n",
      "\n",
      "Ones Like Const\n",
      " [1 1 1] \n",
      "\n"
     ]
    }
   ],
   "source": [
    "row_dim = 3\n",
    "col_dim = 5\n",
    "\n",
    "# Zero filled tensor\n",
    "zero_tsr = tf.zeros([row_dim, col_dim])\n",
    "\n",
    "# Ones filled tensor\n",
    "ones_tsr = tf.ones([row_dim, col_dim], dtype=tf.int32)\n",
    "\n",
    "# Tensor initialized with a constant\n",
    "filled_tsr = tf.fill([row_dim, col_dim], 42)\n",
    "\n",
    "# Tensor out of existing constant\n",
    "constant_tsr = tf.constant([1, 2, 3])\n",
    "# OR\n",
    "constant_tsr2 = tf.constant(42, shape=(row_dim, col_dim))\n",
    "\n",
    "# Tensor of similar shape (depends on previously declared tensor)\n",
    "zero_like = tf.zeros_like(constant_tsr)\n",
    "ones_like = tf.ones_like(constant_tsr)\n",
    "\n",
    "init = tf.global_variables_initializer()\n",
    "with tf.Session() as sess:\n",
    "    sess.run(init)\n",
    "    [a, b, c, d, e, f, g] = sess.run([zero_tsr, ones_tsr, filled_tsr, constant_tsr, constant_tsr2, zero_like, ones_like])\n",
    "\n",
    "    print('Zeros\\n', a, '\\n')\n",
    "    print('Ones\\n', b, '\\n')\n",
    "    print('Filled\\n', c, '\\n')\n",
    "    print('Const\\n', d, '\\n')\n",
    "    print('Const2\\n', e, '\\n')\n",
    "    print('Zeros Like Const\\n', f, '\\n')\n",
    "    print('Ones Like Const\\n', g, '\\n')\n"
   ]
  },
  {
   "cell_type": "code",
   "execution_count": 3,
   "metadata": {},
   "outputs": [
    {
     "name": "stdout",
     "output_type": "stream",
     "text": [
      "linspace\n",
      " [ 0.    0.25  0.5   0.75  1.  ] \n",
      "\n",
      "range\n",
      " [ 6  9 12] \n",
      "\n"
     ]
    }
   ],
   "source": [
    "# Sequence tensors\n",
    "\n",
    "linear_tsr = tf.linspace(start=0., stop=1., num=5) # Includes the right limit\n",
    "integer_seq_tsr = tf.range(start=6, limit=15, delta=3) # Does not include the right limit\n",
    "\n",
    "init = tf.global_variables_initializer()\n",
    "with tf.Session() as sess:\n",
    "    sess.run(init)\n",
    "    [a, b] = sess.run([linear_tsr, integer_seq_tsr])\n",
    "\n",
    "    print('linspace\\n', a, '\\n')\n",
    "    print('range\\n', b, '\\n')"
   ]
  },
  {
   "cell_type": "code",
   "execution_count": 4,
   "metadata": {},
   "outputs": [
    {
     "name": "stdout",
     "output_type": "stream",
     "text": [
      "rand_unif_tsr\n",
      " [[ 0.42643142  0.84565139  0.4365077   0.93230057  0.93225753]\n",
      " [ 0.62327313  0.56252408  0.18925571  0.85394335  0.34819424]\n",
      " [ 0.53281903  0.08409905  0.86284065  0.43261826  0.109586  ]] \n",
      "\n",
      "rand_norm_tsr\n",
      " [[-0.0610145   0.9260475   1.32612431  0.49909142  0.65990525]\n",
      " [ 1.20643866  0.67027092 -0.10440363  1.49963927  0.32882699]\n",
      " [ 0.24214604  0.53310221  1.75613225 -0.34721786  0.23102067]] \n",
      "\n",
      "rand_trunnorm_tsr\n",
      " [[ 1.26317155 -0.79812765 -1.28346336 -1.12750447  0.0785866 ]\n",
      " [-1.11750019  0.16882208 -0.47668883  1.42965639 -1.30707145]\n",
      " [ 0.57618481 -1.38943088 -1.41618609 -0.25880557 -0.69435799]] \n",
      "\n",
      "input_tensor\n",
      " [0 1 2 3 4 5 6 7 8 9] \n",
      "\n",
      "shuffle_output\n",
      " [7 1 8 3 5 6 2 4 9 0] \n",
      "\n",
      "cropped_output\n",
      " [1 2 3 4 5 6 7 8] \n",
      "\n"
     ]
    }
   ],
   "source": [
    "# Random numbers\n",
    "\n",
    "# Uniform distribution\n",
    "rand_unif_tsr = tf.random_uniform([row_dim, col_dim], minval=0, maxval=1) # Range is (inclusive exclusive]\n",
    "# Normal distribution\n",
    "rand_norm_tsr = tf.random_normal([row_dim, col_dim], mean=0.0, stddev=1.0)\n",
    "# Pick values from normal distribution, within two standard deviations\n",
    "rand_trunnorm_tsr = tf.truncated_normal([row_dim, col_dim], mean=0.0)\n",
    "# Randomize inputs of array\n",
    "input_tensor = tf.range(0, 10, 1)\n",
    "shuffle_output = tf.random_shuffle(input_tensor)\n",
    "cropped_output = tf.random_crop(input_tensor, [8])\n",
    "\n",
    "init = tf.global_variables_initializer()\n",
    "with tf.Session() as sess:\n",
    "    sess.run(init)\n",
    "    [a, b, c, d, e, f] = sess.run([rand_unif_tsr, rand_norm_tsr, rand_trunnorm_tsr, input_tensor, shuffle_output, cropped_output])\n",
    "\n",
    "    print('rand_unif_tsr\\n', a, '\\n')\n",
    "    print('rand_norm_tsr\\n', b, '\\n')\n",
    "    print('rand_trunnorm_tsr\\n', c, '\\n')\n",
    "    print('input_tensor\\n', d, '\\n')\n",
    "    print('shuffle_output\\n', e, '\\n')\n",
    "    print('cropped_output\\n', f, '\\n')"
   ]
  },
  {
   "cell_type": "code",
   "execution_count": 5,
   "metadata": {},
   "outputs": [
    {
     "data": {
      "image/png": "[encoded data removed]",
      "text/plain": [
       "<matplotlib.figure.Figure at 0x7fc1fa3d4668>"
      ]
     },
     "metadata": {},
     "output_type": "display_data"
    }
   ],
   "source": [
    "# Let's visualize truncate_normal and random_normal\n",
    "\n",
    "num = 100000\n",
    "tn = tf.truncated_normal([num, ], mean=0.0, stddev=1.5)\n",
    "rn = tf.random_normal([num, ], mean=0.0, stddev=1.0)\n",
    "\n",
    "init = tf.global_variables_initializer()\n",
    "with tf.Session() as sess:\n",
    "    sess.run(init)\n",
    "    [tn1, rn1] = sess.run([tn, rn])\n",
    "    \n",
    "import matplotlib.pyplot as plt\n",
    "%matplotlib inline\n",
    "\n",
    "plt.hist(tn1, bins=100, range=[-4, 4])\n",
    "plt.show()"
   ]
  },
  {
   "cell_type": "code",
   "execution_count": 6,
   "metadata": {},
   "outputs": [
    {
     "data": {
      "image/png": "[encoded data removed]",
      "text/plain": [
       "<matplotlib.figure.Figure at 0x7fc1fa42be80>"
      ]
     },
     "metadata": {},
     "output_type": "display_data"
    }
   ],
   "source": [
    "plt.hist(rn1, bins=100)\n",
    "plt.show()"
   ]
  },
  {
   "cell_type": "markdown",
   "metadata": {
    "collapsed": true
   },
   "source": [
    "### Variables\n",
    "\n",
    "- Once we know how to create tensors, we can put them into placeholders and variables.\n",
    "- Variables are parameters of the graph. These are tweaked by the optimizer.\n",
    "- Placeholders are to provide input to the computational graph\n"
   ]
  },
  {
   "cell_type": "code",
   "execution_count": 7,
   "metadata": {},
   "outputs": [
    {
     "name": "stdout",
     "output_type": "stream",
     "text": [
      "[[1 1 1 1]\n",
      " [1 1 1 1]] \n",
      "\n",
      "[[ 5.59512234  5.72405243  5.95375633  0.43201447  4.43606472]\n",
      " [ 7.45896101  0.34683824  0.94880819  5.82623863  3.6864233 ]\n",
      " [ 2.02880025  0.22070765  0.69835901  7.73641205  1.97494507]]\n"
     ]
    }
   ],
   "source": [
    "var1 = tf.Variable(tf.ones([2, 4], dtype=tf.int32), dtype=tf.int32)\n",
    "var2 = tf.Variable(tf.random_uniform([3, 5], minval=0, maxval=10, dtype=tf.float32))\n",
    "\n",
    "init = tf.global_variables_initializer()\n",
    "with tf.Session() as sess:\n",
    "    sess.run(init) # Initialize the variable\n",
    "    [a, b] = sess.run([var1, var2])\n",
    "    \n",
    "print(a, '\\n')\n",
    "print(b)"
   ]
  },
  {
   "cell_type": "code",
   "execution_count": 8,
   "metadata": {},
   "outputs": [
    {
     "name": "stdout",
     "output_type": "stream",
     "text": [
      "[[ 23.78653934  54.36286181  65.45496449  19.03082193  37.93935521]\n",
      " [ 24.70800461  37.76856567  66.10745908  97.90175154  45.91795553]\n",
      " [ 45.4324511   77.92667193  35.15282388  47.54184285  52.13972647]] \n",
      "\n",
      "[[ 42.1265316   69.57653965]\n",
      " [ 57.8491182   92.6311389 ]\n",
      " [  6.32104917  69.80112403]\n",
      " [ 37.11453343  28.63754592]\n",
      " [ 65.73909521  72.47624522]] \n",
      "\n",
      "[[  7761.05078125  14554.20703125]\n",
      " [ 10295.79199219  15963.64453125]\n",
      " [ 11836.21484375  17973.55078125]]\n"
     ]
    }
   ],
   "source": [
    "x = tf.placeholder(tf.float32, shape=[3, 5])\n",
    "y = tf.placeholder(tf.float32, shape=[5, 2])\n",
    "z = tf.matmul(x, y)\n",
    "\n",
    "x_input = np.random.uniform(size=x.get_shape(), low=0, high=100)\n",
    "y_input = np.random.uniform(size=y.get_shape(), low=0, high=100)\n",
    "init = tf.global_variables_initializer()\n",
    "\n",
    "with tf.Session() as sess:\n",
    "    sess.run(init)\n",
    "    [op] = sess.run([z], feed_dict={x: x_input, y: y_input})\n",
    "    \n",
    "print(x_input, '\\n')\n",
    "print(y_input, '\\n')\n",
    "print(op)"
   ]
  },
  {
   "cell_type": "markdown",
   "metadata": {},
   "source": [
    "### Working with Matrices\n",
    "\n",
    "- Example of various operations with Matrices"
   ]
  },
  {
   "cell_type": "code",
   "execution_count": 9,
   "metadata": {},
   "outputs": [
    {
     "name": "stdout",
     "output_type": "stream",
     "text": [
      "Add\n",
      " [[ 10.  10.  10.]\n",
      " [ 10.  10.  10.]] \n",
      "\n",
      "Sub\n",
      " [[-8. -6. -4.]\n",
      " [-2.  0.  2.]] \n",
      "\n",
      "Mul\n",
      " [[  9.  16.  21.]\n",
      " [ 24.  25.  24.]] \n",
      "\n",
      "Matmul\n",
      " [[  46.   28.]\n",
      " [ 118.   73.]] \n",
      "\n",
      "Determinant\n",
      " 53.9999 \n",
      "\n",
      "Inv\n",
      " [[ 1.35185373 -0.51851928]\n",
      " [-2.18518829  0.85185307]] \n",
      "\n",
      "Eigen Val Vector\n",
      " (array([ -0.55530695,   1.72103872,  18.83426823]), array([[-0.09716963, -0.75097333,  0.65314403],\n",
      "       [ 0.77686814,  0.35297764,  0.52142371],\n",
      "       [-0.62212053,  0.55807333,  0.54910855]])) \n",
      "\n"
     ]
    }
   ],
   "source": [
    "A = tf.convert_to_tensor(np.array([[1, 2, 3], [4, 5, 6]]), dtype=tf.float32)\n",
    "B = tf.convert_to_tensor(np.array([[9, 8, 7], [6, 5, 4]]), dtype=tf.float32)\n",
    "E = tf.convert_to_tensor(np.array([[9., 8, 7], [6, 5, 4], [6, 6, 6]]))\n",
    "\n",
    "init = tf.global_variables_initializer()\n",
    "\n",
    "with tf.Session() as sess:\n",
    "    sess.run(init)\n",
    "    print('Add\\n', sess.run(A+B), '\\n')\n",
    "    print('Sub\\n', sess.run(A-B), '\\n')\n",
    "    print('Mul\\n', sess.run(A*B), '\\n')\n",
    "    C = tf.matmul(A, tf.transpose(B))\n",
    "    print('Matmul\\n', sess.run(C), '\\n')\n",
    "    print('Determinant\\n', sess.run(tf.matrix_determinant(C)), '\\n')\n",
    "    print('Inv\\n', sess.run(tf.matrix_inverse(C)), '\\n')\n",
    "    print('Eigen Val Vector\\n', sess.run(tf.self_adjoint_eig(E)), '\\n')"
   ]
  },
  {
   "cell_type": "markdown",
   "metadata": {},
   "source": [
    "### Element wise operations\n",
    "\n",
    "    abs() Absolute value of one input tensor\n",
    "    ceil() Ceiling function of one input tensor\n",
    "    cos() Cosine function of one input tensor\n",
    "    exp() Base e exponential of one input tensor\n",
    "    floor() Floor function of one input tensor\n",
    "    inv() Multiplicative inverse (1/x) of one input tensor\n",
    "    log() Natural logarithm of one input tensor\n",
    "    maximum() Element-wise max of two tensors\n",
    "    minimum() Element-wise min of two tensors\n",
    "    neg() Negative of one input tensor\n",
    "    pow() The first tensor raised to the second tensor element-wise\n",
    "    round() Rounds one input tensor\n",
    "    rsqrt() One over the square root of one tensor\n",
    "    sign() Returns -1, 0, or 1, depending on the sign of the tensor\n",
    "    sin() Sine function of one input tensor\n",
    "    sqrt() Square root of one input tensor\n",
    "    square() Square of one input tensor"
   ]
  },
  {
   "cell_type": "code",
   "execution_count": 10,
   "metadata": {},
   "outputs": [
    {
     "name": "stdout",
     "output_type": "stream",
     "text": [
      "362\n"
     ]
    }
   ],
   "source": [
    "# Custom function\n",
    "\n",
    "def custom_polynomial(value):\n",
    "    return(tf.subtract(3 * tf.square(value), value) + 10)\n",
    "\n",
    "init = tf.global_variables_initializer()\n",
    "with tf.Session() as sess:\n",
    "    sess.run(init)\n",
    "    print(sess.run(custom_polynomial(11)))\n"
   ]
  },
  {
   "cell_type": "markdown",
   "metadata": {},
   "source": [
    "### Activation functions\n",
    "\n",
    "- Introduces non linearity in the graph, so that gradients can be calculated, so that parameters can be updated"
   ]
  },
  {
   "cell_type": "code",
   "execution_count": 11,
   "metadata": {},
   "outputs": [
    {
     "data": {
      "text/plain": [
       "array([ -1.00000000e+01,  -9.60000000e+00,  -9.20000000e+00,\n",
       "        -8.80000000e+00,  -8.40000000e+00,  -8.00000000e+00,\n",
       "        -7.60000000e+00,  -7.20000000e+00,  -6.80000000e+00,\n",
       "        -6.40000000e+00,  -6.00000000e+00,  -5.60000000e+00,\n",
       "        -5.20000000e+00,  -4.80000000e+00,  -4.40000000e+00,\n",
       "        -4.00000000e+00,  -3.60000000e+00,  -3.20000000e+00,\n",
       "        -2.80000000e+00,  -2.40000000e+00,  -2.00000000e+00,\n",
       "        -1.60000000e+00,  -1.20000000e+00,  -8.00000000e-01,\n",
       "        -4.00000000e-01,   8.88178420e-15,   4.00000000e-01,\n",
       "         8.00000000e-01,   1.20000000e+00,   1.60000000e+00,\n",
       "         2.00000000e+00,   2.40000000e+00,   2.80000000e+00,\n",
       "         3.20000000e+00,   3.60000000e+00,   4.00000000e+00,\n",
       "         4.40000000e+00,   4.80000000e+00,   5.20000000e+00,\n",
       "         5.60000000e+00,   6.00000000e+00,   6.40000000e+00,\n",
       "         6.80000000e+00,   7.20000000e+00,   7.60000000e+00,\n",
       "         8.00000000e+00,   8.40000000e+00,   8.80000000e+00,\n",
       "         9.20000000e+00,   9.60000000e+00,   1.00000000e+01,\n",
       "         1.04000000e+01,   1.08000000e+01])"
      ]
     },
     "execution_count": 11,
     "metadata": {},
     "output_type": "execute_result"
    }
   ],
   "source": [
    "np.arange(-10, 11, 0.4)"
   ]
  },
  {
   "cell_type": "code",
   "execution_count": 12,
   "metadata": {},
   "outputs": [
    {
     "data": {
      "image/png": "[encoded data removed]",
      "text/plain": [
       "<matplotlib.figure.Figure at 0x7fc1700972b0>"
      ]
     },
     "metadata": {},
     "output_type": "display_data"
    },
    {
     "data": {
      "image/png": "[encoded data removed]",
      "text/plain": [
       "<matplotlib.figure.Figure at 0x7fc14c8e10b8>"
      ]
     },
     "metadata": {},
     "output_type": "display_data"
    },
    {
     "data": {
      "image/png": "[encoded data removed]",
      "text/plain": [
       "<matplotlib.figure.Figure at 0x7fc14c8d35c0>"
      ]
     },
     "metadata": {},
     "output_type": "display_data"
    },
    {
     "data": {
      "image/png": "[encoded data removed]",
      "text/plain": [
       "<matplotlib.figure.Figure at 0x7fc14c9347f0>"
      ]
     },
     "metadata": {},
     "output_type": "display_data"
    },
    {
     "data": {
      "image/png": "[encoded data removed]",
      "text/plain": [
       "<matplotlib.figure.Figure at 0x7fc1700a1dd8>"
      ]
     },
     "metadata": {},
     "output_type": "display_data"
    },
    {
     "data": {
      "image/png": "[encoded data removed]",
      "text/plain": [
       "<matplotlib.figure.Figure at 0x7fc1700c4da0>"
      ]
     },
     "metadata": {},
     "output_type": "display_data"
    },
    {
     "data": {
      "image/png": "[encoded data removed]",
      "text/plain": [
       "<matplotlib.figure.Figure at 0x7fc1fa468a58>"
      ]
     },
     "metadata": {},
     "output_type": "display_data"
    }
   ],
   "source": [
    "\"\"\"\n",
    "Activation Functions\n",
    "We should be aware that some activation functions are not zero centered, \n",
    "such as the sigmoid. This will require us to zero-mean the data prior to \n",
    "using it in most computational graph algorithms.\n",
    "\"\"\"\n",
    "def plot(x, y, title):\n",
    "    plt.plot(x, y)\n",
    "    plt.title(title)\n",
    "    plt.show()\n",
    "    \n",
    "\n",
    "with tf.Session() as sess:\n",
    "    x = np.arange(-10, 11, 0.4)\n",
    "    \n",
    "    # ReLU\n",
    "    plot(x, sess.run(tf.nn.relu(x)), 'ReLU')\n",
    "    \n",
    "    # ReLU6, clamps positive values at 6\n",
    "    plot(x, sess.run(tf.nn.relu6(x)), 'ReLU6')\n",
    "    \n",
    "    # Sigmoid or Logistic function\n",
    "    plot(x, sess.run(tf.nn.sigmoid(x)), 'Sigmoid')\n",
    "    \n",
    "    # Hypertangent or tanh \n",
    "    plot(x, sess.run(tf.nn.tanh(x)), 'Tanh')\n",
    "    \n",
    "    # Softsign \n",
    "    plot(x, sess.run(tf.nn.softsign(x)), 'Softsign')\n",
    "    \n",
    "    # Softplus - smooth version of ReLU\n",
    "    plot(x, sess.run(tf.nn.softplus(x)), 'Softplus')\n",
    "    \n",
    "    # ELU - Exponential Linear Unit\n",
    "    plot(x, sess.run(tf.nn.elu(x)), 'ELU')\n",
    "    "
   ]
  },
  {
   "cell_type": "markdown",
   "metadata": {},
   "source": [
    "We can evaluate a constant, a placeholder, a variable, or an operation"
   ]
  },
  {
   "cell_type": "code",
   "execution_count": 13,
   "metadata": {},
   "outputs": [
    {
     "name": "stdout",
     "output_type": "stream",
     "text": [
      "\n",
      "Constant\n",
      " [[42 42]\n",
      " [42 42]]\n",
      "\n",
      "Placeholder\n",
      " [[ 0.72631872  0.5790363   1.83363903  1.26237261 -2.22652841]\n",
      " [ 0.17215897  0.66149986 -0.48203558 -1.08216584 -1.40619898]]\n",
      "\n",
      "Variable\n",
      " [[ 0.43116677  0.73963666  0.13329029]\n",
      " [ 0.57157481  0.34469116  0.09751809]\n",
      " [ 0.89770496  0.71249437  0.0659045 ]\n",
      " [ 0.41538823  0.63855731  0.71347022]\n",
      " [ 0.473243    0.12217259  0.63255417]]\n",
      "\n",
      "Operation\n",
      " [[ 1.42443943  1.34310734  0.78262794]\n",
      " [ 1.24386239  0.92708188  0.94762927]]\n"
     ]
    }
   ],
   "source": [
    "constant = tf.constant(42, shape=(2, 2))\n",
    "x = tf.placeholder(tf.float32, shape=(2, 5))\n",
    "var = tf.Variable(tf.random_uniform((5, 3)))\n",
    "z = tf.matmul(x, var)\n",
    "init = tf.global_variables_initializer()\n",
    "    \n",
    "with tf.Session() as sess:\n",
    "    sess.run(init)\n",
    "    print('\\nConstant\\n', sess.run(constant))\n",
    "    print('\\nPlaceholder\\n', sess.run(x, feed_dict={x: np.random.normal(size=(2, 5))}))\n",
    "    print('\\nVariable\\n', sess.run(var))\n",
    "    print('\\nOperation\\n', sess.run(z, feed_dict={x: np.random.random((2, 5))}))\n",
    "    \n",
    "    "
   ]
  }
 ],
 "metadata": {
  "kernelspec": {
   "display_name": "Python 3",
   "language": "python",
   "name": "python3"
  },
  "language_info": {
   "codemirror_mode": {
    "name": "ipython",
    "version": 3
   },
   "file_extension": ".py",
   "mimetype": "text/x-python",
   "name": "python",
   "nbconvert_exporter": "python",
   "pygments_lexer": "ipython3",
   "version": "3.6.3"
  }
 },
 "nbformat": 4,
 "nbformat_minor": 2
}
