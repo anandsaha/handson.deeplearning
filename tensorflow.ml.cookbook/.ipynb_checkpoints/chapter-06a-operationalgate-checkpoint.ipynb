{
 "cells": [
  {
   "cell_type": "markdown",
   "metadata": {},
   "source": [
    "Let's try to solve Ax+b=50. We have to find A and b such that for a given x, we get answer as 50."
   ]
  },
  {
   "cell_type": "code",
   "execution_count": 1,
   "metadata": {
    "collapsed": true
   },
   "outputs": [],
   "source": [
    "import tensorflow as tf\n"
   ]
  },
  {
   "cell_type": "code",
   "execution_count": 13,
   "metadata": {},
   "outputs": [
    {
     "name": "stdout",
     "output_type": "stream",
     "text": [
      "a:  5.4 , val:  28.88\n",
      "a:  7.512 , val:  39.8624\n",
      "a:  8.52576 , val:  45.134\n",
      "a:  9.01236 , val:  47.6643\n",
      "a:  9.24593 , val:  48.8789\n",
      "a:  9.35805 , val:  49.4619\n",
      "a:  9.41186 , val:  49.7417\n",
      "a:  9.43769 , val:  49.876\n",
      "a:  9.45009 , val:  49.9405\n",
      "a:  9.45605 , val:  49.9714\n",
      "a:  9.4589 , val:  49.9863\n",
      "a:  9.46027 , val:  49.9934\n",
      "a:  9.46093 , val:  49.9968\n",
      "a:  9.46125 , val:  49.9985\n",
      "a:  9.4614 , val:  49.9993\n",
      "a:  9.46147 , val:  49.9996\n",
      "a:  9.46151 , val:  49.9998\n",
      "a:  9.46152 , val:  49.9999\n",
      "a:  9.46153 , val:  50.0\n",
      "a:  9.46153 , val:  50.0\n"
     ]
    }
   ],
   "source": [
    "a = tf.Variable(tf.constant(1.))\n",
    "b = tf.Variable(tf.constant(1.))\n",
    "x = tf.placeholder(dtype=tf.float32)\n",
    "\n",
    "x_input = 5.\n",
    "y_output = 50.\n",
    "\n",
    "z = tf.add(tf.multiply(x, a), b)\n",
    "loss = tf.square(tf.subtract(z, y_output))\n",
    "\n",
    "opt = tf.train.GradientDescentOptimizer(0.01)\n",
    "train_step = opt.minimize(loss)\n",
    "\n",
    "with tf.Session() as sess:\n",
    "    sess.run(tf.global_variables_initializer())\n",
    "    \n",
    "    for i in range(20):\n",
    "        sess.run(train_step, feed_dict={x: x_input})\n",
    "        print('a: ', sess.run(a), ', val: ', sess.run(z, feed_dict={x: x_input}))\n"
   ]
  }
 ],
 "metadata": {
  "kernelspec": {
   "display_name": "Python 3",
   "language": "python",
   "name": "python3"
  },
  "language_info": {
   "codemirror_mode": {
    "name": "ipython",
    "version": 3
   },
   "file_extension": ".py",
   "mimetype": "text/x-python",
   "name": "python",
   "nbconvert_exporter": "python",
   "pygments_lexer": "ipython3",
   "version": "3.6.3"
  }
 },
 "nbformat": 4,
 "nbformat_minor": 2
}
