{
 "cells": [
  {
   "cell_type": "code",
   "execution_count": 1,
   "metadata": {
    "collapsed": true
   },
   "outputs": [],
   "source": [
    "import matplotlib.pyplot as plt\n",
    "import numpy as np\n",
    "import tensorflow as tf\n",
    "from sklearn import datasets\n",
    "from sklearn.preprocessing import OneHotEncoder\n",
    "from sklearn.model_selection import train_test_split"
   ]
  },
  {
   "cell_type": "code",
   "execution_count": 2,
   "metadata": {
    "collapsed": true
   },
   "outputs": [],
   "source": [
    "tf.reset_default_graph()\n",
    "tf.set_random_seed(42)\n",
    "np.random.seed(42)"
   ]
  },
  {
   "cell_type": "code",
   "execution_count": 3,
   "metadata": {
    "collapsed": true
   },
   "outputs": [],
   "source": [
    "seed = 42\n",
    "num_features = 4\n",
    "num_classes = 3\n",
    "num_hidden_layer_nodes = 5\n",
    "lr = 0.01\n",
    "num_epoch = 1000\n",
    "batch_size = 50"
   ]
  },
  {
   "cell_type": "code",
   "execution_count": 4,
   "metadata": {
    "collapsed": true
   },
   "outputs": [],
   "source": [
    "# Get the dataset\n",
    "iris = datasets.load_iris()\n",
    "\n",
    "# X\n",
    "x_data = iris.data\n",
    "\n",
    "# Y\n",
    "ohe = OneHotEncoder()\n",
    "y_data = ohe.fit_transform(iris.target.reshape(-1, 1)).toarray()\n",
    "\n",
    "# Test Train split\n",
    "x_train, x_test, y_train, y_test = train_test_split(x_data, \n",
    "                                                    y_data, \n",
    "                                                    test_size=0.30, \n",
    "                                                    random_state=seed)"
   ]
  },
  {
   "cell_type": "code",
   "execution_count": 5,
   "metadata": {},
   "outputs": [
    {
     "name": "stdout",
     "output_type": "stream",
     "text": [
      "(105, 4)\n",
      "(45, 4)\n",
      "(105, 3)\n",
      "(45, 3)\n"
     ]
    }
   ],
   "source": [
    "print(x_train.shape)\n",
    "print(x_test.shape)\n",
    "print(y_train.shape)\n",
    "print(y_test.shape)"
   ]
  },
  {
   "cell_type": "code",
   "execution_count": 6,
   "metadata": {
    "collapsed": true
   },
   "outputs": [],
   "source": [
    "# Weights\n",
    "w1 = tf.Variable(tf.random_normal([num_features, num_hidden_layer_nodes]))\n",
    "b1 = tf.Variable(tf.ones(shape=[1, num_hidden_layer_nodes]) * 0.01, dtype=tf.float32)\n",
    "w2 = tf.Variable(tf.random_normal([num_hidden_layer_nodes, num_classes]))\n",
    "b2 = tf.Variable(tf.ones([1, num_classes]) * 0.01, dtype=tf.float32)\n",
    "\n",
    "# Placeholders\n",
    "x = tf.placeholder(dtype=tf.float32, shape=[None, 4])\n",
    "y = tf.placeholder(dtype=tf.float32, shape=[None, 3])\n",
    "\n",
    "# The model\n",
    "z_hidden = tf.nn.relu(tf.matmul(x, w1))\n",
    "z_output = tf.nn.relu(tf.matmul(z_hidden, w2) + b2)"
   ]
  },
  {
   "cell_type": "code",
   "execution_count": 7,
   "metadata": {
    "collapsed": true
   },
   "outputs": [],
   "source": [
    "# Classifier\n",
    "xentropy = tf.nn.softmax_cross_entropy_with_logits(labels=y, logits=z_output)\n",
    "loss = tf.reduce_mean(xentropy)\n",
    "\n",
    "# Optimizer\n",
    "opt = tf.train.GradientDescentOptimizer(lr)\n",
    "train_step = opt.minimize(loss)"
   ]
  },
  {
   "cell_type": "code",
   "execution_count": 8,
   "metadata": {
    "collapsed": true
   },
   "outputs": [],
   "source": [
    "loss_train = list()\n",
    "loss_test = list()\n",
    "\n",
    "acc_train = list()\n",
    "acc_test = list()"
   ]
  },
  {
   "cell_type": "code",
   "execution_count": 9,
   "metadata": {},
   "outputs": [
    {
     "name": "stdout",
     "output_type": "stream",
     "text": [
      "0 0.32 0.288888888889\n",
      "50 0.72 0.666666666667\n",
      "100 0.92 0.844444444444\n",
      "150 0.8 0.844444444444\n",
      "200 0.92 0.888888888889\n",
      "250 0.94 0.955555555556\n",
      "300 0.96 0.888888888889\n",
      "350 0.9 0.888888888889\n",
      "400 0.92 0.888888888889\n",
      "450 0.98 0.955555555556\n",
      "500 0.96 0.977777777778\n",
      "550 0.98 0.888888888889\n",
      "600 0.94 0.888888888889\n",
      "650 0.96 0.955555555556\n",
      "700 0.98 0.911111111111\n",
      "750 1.0 0.911111111111\n",
      "800 0.96 0.977777777778\n",
      "850 0.92 0.955555555556\n",
      "900 1.0 0.955555555556\n",
      "950 0.94 0.955555555556\n"
     ]
    }
   ],
   "source": [
    "with tf.Session() as sess:\n",
    "    sess.run(tf.global_variables_initializer())\n",
    "    total_instances = len(x_train)\n",
    "    \n",
    "    for i in range(num_epoch):\n",
    "        \n",
    "        for ba in range(total_instances // batch_size):\n",
    "            mask = np.random.choice(total_instances, batch_size)\n",
    "            x_rand = x_train[mask]\n",
    "            y_rand = y_train[mask]\n",
    "            \n",
    "            sess.run(train_step, feed_dict={x: x_rand, y: y_rand})\n",
    "            \n",
    "       \n",
    "        pred = sess.run(z_output, feed_dict={x: x_rand})\n",
    "        compared = (np.argmax(pred, axis=1) == np.argmax(y_rand, axis=1))\n",
    "        accuracy = np.mean(compared)\n",
    "\n",
    "        pred_test = sess.run(z_output, feed_dict={x: x_test})\n",
    "        compared_test = (np.argmax(pred_test, axis=1) == np.argmax(y_test, axis=1))\n",
    "        accuracy_test = np.mean(compared_test)\n",
    "        \n",
    "        if i%50 == 0:\n",
    "            acc_train.append(accuracy)\n",
    "            acc_test.append(accuracy_test)\n",
    "            print(i,  accuracy, accuracy_test)\n",
    "            \n",
    "        l_train = sess.run(loss, feed_dict={x: x_rand, y: y_rand})\n",
    "        l_test = sess.run(loss, feed_dict={x: x_test, y: y_test})\n",
    "        \n",
    "        loss_train.append(l_train)\n",
    "        loss_test.append(l_test)"
   ]
  },
  {
   "cell_type": "code",
   "execution_count": 10,
   "metadata": {},
   "outputs": [
    {
     "data": {
      "image/png": "[encoded data removed]",
      "text/plain": [
       "<matplotlib.figure.Figure at 0x7f0ddb7cf4e0>"
      ]
     },
     "metadata": {},
     "output_type": "display_data"
    }
   ],
   "source": [
    "xaxis = [i for i in range(num_epoch)]\n",
    "\n",
    "f = plt.figure(figsize=(10, 6))\n",
    "plt.plot(xaxis, loss_train, c='blue', label='train')\n",
    "plt.plot(xaxis, loss_test, c='red', label='test')\n",
    "plt.legend()\n",
    "plt.xlabel('Epoch')\n",
    "plt.ylabel('Loss')\n",
    "plt.show()\n"
   ]
  },
  {
   "cell_type": "code",
   "execution_count": 13,
   "metadata": {},
   "outputs": [
    {
     "data": {
      "image/png": "[encoded data removed]",
      "text/plain": [
       "<matplotlib.figure.Figure at 0x7f0dd6397f28>"
      ]
     },
     "metadata": {},
     "output_type": "display_data"
    }
   ],
   "source": [
    "xaxis = [i for i in range(int(num_epoch/50))]\n",
    "\n",
    "f = plt.figure(figsize=(10, 6))\n",
    "plt.plot(xaxis, acc_train, c='blue', label='train')\n",
    "plt.plot(xaxis, acc_test, c='red', label='test')\n",
    "plt.legend()\n",
    "plt.xlabel('Epoch')\n",
    "plt.ylabel('Acc')\n",
    "plt.show()\n"
   ]
  }
 ],
 "metadata": {
  "kernelspec": {
   "display_name": "Python 3",
   "language": "python",
   "name": "python3"
  },
  "language_info": {
   "codemirror_mode": {
    "name": "ipython",
    "version": 3
   },
   "file_extension": ".py",
   "mimetype": "text/x-python",
   "name": "python",
   "nbconvert_exporter": "python",
   "pygments_lexer": "ipython3",
   "version": "3.6.3"
  }
 },
 "nbformat": 4,
 "nbformat_minor": 2
}
