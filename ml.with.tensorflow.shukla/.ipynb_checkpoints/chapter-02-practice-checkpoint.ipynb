{
 "cells": [
  {
   "cell_type": "code",
   "execution_count": 1,
   "metadata": {
    "collapsed": true
   },
   "outputs": [],
   "source": [
    "import tensorflow as tf\n",
    "import numpy as np"
   ]
  },
  {
   "cell_type": "code",
   "execution_count": 2,
   "metadata": {
    "collapsed": true
   },
   "outputs": [],
   "source": [
    "rand_nums = np.random.normal(0, 10, 100)"
   ]
  },
  {
   "cell_type": "code",
   "execution_count": 3,
   "metadata": {},
   "outputs": [
    {
     "data": {
      "text/plain": [
       "array([  9.27101529,  -4.50954615,  -4.55982206, -12.20180945,\n",
       "         1.63092288,  -9.20404125, -11.79280087,   8.85694217,\n",
       "        -2.39184468,  11.42612547, -12.56751796, -15.0417579 ,\n",
       "         4.45365878,  -8.37559344,  -0.14104044,  17.36477743,\n",
       "         4.84003474,  18.63844681,   5.33210657,  -1.84024126,\n",
       "         2.6579953 ,  -3.29973968,   2.49280454,  -6.16952798,\n",
       "        -6.31723686,   7.87356638, -13.59643339,   7.00214862,\n",
       "        16.57023469,  -0.7174126 ,  -5.37545186,  -7.84445216,\n",
       "        -3.98281698,   8.55280504,   2.71294418,  11.65879567,\n",
       "       -10.97541684,  17.12505251,   3.2240422 , -14.02936785,\n",
       "        -5.0336082 ,   1.12389668,   6.53184226,  -5.5222548 ,\n",
       "        -2.82416104,  -3.43264146,  -3.21111431,   0.99521767,\n",
       "        -5.88905236,  -5.23599993,  11.74456229,  -1.65040602,\n",
       "         4.0888824 ,   5.66735789,  -2.51686579,   0.50839289,\n",
       "         8.29560176,  34.89912598,  -5.50829777,   4.781029  ,\n",
       "       -11.20865273, -23.44790565,   8.44075544,  -8.585484  ,\n",
       "        -6.55561715,   1.57069699,  -9.60339333,   2.95263876,\n",
       "       -19.43650039,  -4.50295867,   7.47700944,  14.89663416,\n",
       "       -14.08609542,  20.63178452,   2.14249402,  -2.70429781,\n",
       "         6.84339676,  13.82049868,   4.57449041,  -0.5089672 ,\n",
       "        -5.53010206,  -5.29317877,  -2.13879642,  17.16159049,\n",
       "       -10.57356707,   3.57928047,   2.69914948,  14.87219538,\n",
       "        -5.40382337,   8.89458517,  -4.5898537 , -12.69286951,\n",
       "        12.34148561,  -8.42868055,   6.95096289,  -5.9646996 ,\n",
       "        16.98621386,  -2.33785083, -14.52489852,  -6.68171049])"
      ]
     },
     "execution_count": 3,
     "metadata": {},
     "output_type": "execute_result"
    }
   ],
   "source": [
    "rand_nums"
   ]
  },
  {
   "cell_type": "code",
   "execution_count": 4,
   "metadata": {
    "collapsed": true
   },
   "outputs": [],
   "source": [
    "alpha = tf.constant(0.5)\n",
    "cur_val = tf.placeholder(dtype=tf.float32)\n",
    "cur_avg = tf.Variable(0.)\n",
    "\n",
    "updated_avg = alpha * cur_val + (1 - alpha) * cur_avg"
   ]
  },
  {
   "cell_type": "code",
   "execution_count": 5,
   "metadata": {
    "collapsed": true
   },
   "outputs": [],
   "source": [
    "avg_hist = tf.summary.scalar('avg_hist', cur_avg)\n",
    "val_hist = tf.summary.scalar('val_hist', cur_val)\n",
    "\n",
    "merged = tf.summary.merge_all()\n",
    "writer = tf.summary.FileWriter('./logs1')"
   ]
  },
  {
   "cell_type": "code",
   "execution_count": 6,
   "metadata": {
    "collapsed": true
   },
   "outputs": [],
   "source": [
    "init = tf.global_variables_initializer()"
   ]
  },
  {
   "cell_type": "code",
   "execution_count": 7,
   "metadata": {
    "collapsed": true
   },
   "outputs": [],
   "source": [
    "with tf.Session() as sess:\n",
    "    sess.run(init)\n",
    "    for i in range(len(rand_nums)):\n",
    "        summ, updated_avg_ = sess.run([merged, updated_avg], feed_dict={cur_val: rand_nums[i]})\n",
    "        sess.run(tf.assign(cur_avg, updated_avg_))\n",
    "        writer.add_summary(summ, i)"
   ]
  }
 ],
 "metadata": {
  "kernelspec": {
   "display_name": "Python 3",
   "language": "python",
   "name": "python3"
  },
  "language_info": {
   "codemirror_mode": {
    "name": "ipython",
    "version": 3
   },
   "file_extension": ".py",
   "mimetype": "text/x-python",
   "name": "python",
   "nbconvert_exporter": "python",
   "pygments_lexer": "ipython3",
   "version": "3.6.3"
  }
 },
 "nbformat": 4,
 "nbformat_minor": 2
}
