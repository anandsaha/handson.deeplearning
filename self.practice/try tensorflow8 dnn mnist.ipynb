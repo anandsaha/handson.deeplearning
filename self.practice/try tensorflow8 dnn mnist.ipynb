{
 "cells": [
  {
   "cell_type": "code",
   "execution_count": 1,
   "metadata": {
    "collapsed": true
   },
   "outputs": [],
   "source": [
    "import tensorflow as tf\n",
    "import numpy as np"
   ]
  },
  {
   "cell_type": "code",
   "execution_count": 2,
   "metadata": {
    "collapsed": true
   },
   "outputs": [],
   "source": [
    "n_inputs = 784\n",
    "n_hidden1 = 512\n",
    "n_hidden2 = 256\n",
    "n_outputs = 10"
   ]
  },
  {
   "cell_type": "code",
   "execution_count": 3,
   "metadata": {},
   "outputs": [
    {
     "name": "stdout",
     "output_type": "stream",
     "text": [
      "Extracting /home/anand/.tensorflow/data/MNIST/train-images-idx3-ubyte.gz\n",
      "Extracting /home/anand/.tensorflow/data/MNIST/train-labels-idx1-ubyte.gz\n",
      "Extracting /home/anand/.tensorflow/data/MNIST/t10k-images-idx3-ubyte.gz\n",
      "Extracting /home/anand/.tensorflow/data/MNIST/t10k-labels-idx1-ubyte.gz\n"
     ]
    }
   ],
   "source": [
    "from tensorflow.examples.tutorials.mnist import input_data\n",
    "mnist = input_data.read_data_sets(\"/home/anand/.tensorflow/data/MNIST\")"
   ]
  },
  {
   "cell_type": "code",
   "execution_count": 4,
   "metadata": {
    "collapsed": true
   },
   "outputs": [],
   "source": [
    "x = tf.placeholder(dtype=tf.float32, shape=(None, n_inputs))\n",
    "y = tf.placeholder(dtype=tf.int64, shape=(None))"
   ]
  },
  {
   "cell_type": "code",
   "execution_count": 6,
   "metadata": {},
   "outputs": [],
   "source": [
    "def new_layer(x, n_nodes, name, activation=None):\n",
    "    with tf.name_scope(name):\n",
    "        n_inputs = int(x.get_shape()[1])\n",
    "        stddev = 2 / np.sqrt(n_inputs)\n",
    "        init = tf.truncated_normal(shape=(n_inputs, n_nodes), stddev=stddev)\n",
    "        w = tf.Variable(init)\n",
    "        b = tf.Variable(tf.zeros(shape=(n_nodes)))\n",
    "        z = tf.matmul(x, w) + b\n",
    "        if activation == 'relu':\n",
    "            return tf.nn.relu(z)\n",
    "        return z"
   ]
  },
  {
   "cell_type": "code",
   "execution_count": 7,
   "metadata": {
    "collapsed": true
   },
   "outputs": [],
   "source": [
    "with tf.name_scope('dnn'):\n",
    "    hidden1 = new_layer(x, n_hidden1, 'hidden1', activation='relu')\n",
    "    hidden2 = new_layer(hidden1, n_hidden2, 'hidden2', activation='relu')\n",
    "    output = new_layer(hidden2, n_outputs, 'outputs')"
   ]
  },
  {
   "cell_type": "code",
   "execution_count": 9,
   "metadata": {},
   "outputs": [],
   "source": [
    "with tf.name_scope('loss'):\n",
    "    xentropy = tf.nn.sparse_softmax_cross_entropy_with_logits(labels=y, logits=output)\n",
    "    loss = tf.reduce_mean(xentropy)"
   ]
  },
  {
   "cell_type": "code",
   "execution_count": 17,
   "metadata": {
    "collapsed": true
   },
   "outputs": [],
   "source": [
    "learning_rate = 0.1\n",
    "n_epocs = 100\n",
    "batch_size = 100"
   ]
  },
  {
   "cell_type": "code",
   "execution_count": 12,
   "metadata": {},
   "outputs": [],
   "source": [
    "with tf.name_scope('optimizer'):\n",
    "    optimizer = tf.train.GradientDescentOptimizer(learning_rate=learning_rate)\n",
    "    training_op = optimizer.minimize(loss)"
   ]
  },
  {
   "cell_type": "code",
   "execution_count": 16,
   "metadata": {},
   "outputs": [],
   "source": [
    "with tf.name_scope('eval'):\n",
    "    correct = tf.nn.in_top_k(output, y, 1)\n",
    "    accuracy = tf.reduce_mean(tf.cast(correct, tf.float32))"
   ]
  },
  {
   "cell_type": "code",
   "execution_count": 19,
   "metadata": {
    "collapsed": true
   },
   "outputs": [],
   "source": [
    "init = tf.global_variables_initializer()\n",
    "saver = tf.train.Saver()"
   ]
  },
  {
   "cell_type": "code",
   "execution_count": 22,
   "metadata": {},
   "outputs": [
    {
     "name": "stdout",
     "output_type": "stream",
     "text": [
      "0.154343\n",
      "0.0401526\n",
      "0.0443916\n",
      "0.0804484\n",
      "0.0306493\n",
      "0.0129843\n",
      "0.0259539\n",
      "0.0109027\n",
      "0.0138669\n",
      "0.00661842\n",
      "0.00855853\n",
      "0.00605331\n",
      "0.0041816\n",
      "0.00945966\n",
      "0.00403831\n",
      "0.00237641\n",
      "0.00256068\n",
      "0.00571599\n",
      "0.00340799\n",
      "0.00330485\n",
      "0.00311339\n",
      "0.00318168\n",
      "0.00682412\n",
      "0.00164893\n",
      "0.0022426\n",
      "0.00408405\n",
      "0.00325012\n",
      "0.00120595\n",
      "0.00120061\n",
      "0.00113647\n",
      "0.00128533\n",
      "0.00124588\n",
      "0.000886322\n",
      "0.00134719\n",
      "0.00131497\n",
      "0.00155856\n",
      "0.00103687\n",
      "0.00106031\n",
      "0.00068626\n",
      "0.000662867\n",
      "0.00137997\n",
      "0.00120653\n",
      "0.00134627\n",
      "0.000721679\n",
      "0.000506059\n",
      "0.00117539\n",
      "0.00121172\n",
      "0.000239375\n",
      "0.000691923\n",
      "0.000747952\n",
      "0.000981891\n",
      "0.000466485\n",
      "0.000771421\n",
      "0.000671272\n",
      "6.97411e-05\n",
      "0.000343586\n",
      "0.000484366\n",
      "0.000646863\n",
      "0.000637108\n",
      "0.00106618\n",
      "0.000835594\n",
      "0.000249171\n",
      "0.000886304\n",
      "0.000551715\n",
      "0.000945963\n",
      "0.000257016\n",
      "0.000209132\n",
      "0.000115864\n",
      "0.000219211\n",
      "0.000318958\n",
      "0.000363905\n",
      "0.00012012\n",
      "0.000246921\n",
      "0.000373738\n",
      "0.000367951\n",
      "0.000409053\n",
      "0.000508425\n",
      "0.000161119\n",
      "0.000384895\n",
      "0.000440113\n",
      "0.000553836\n",
      "0.000463745\n",
      "0.000493104\n",
      "0.000319771\n",
      "0.000208898\n",
      "0.00013898\n",
      "0.000551556\n",
      "0.000180507\n",
      "0.000235758\n",
      "0.000257074\n",
      "0.000372133\n",
      "0.000170097\n",
      "0.000323004\n",
      "0.000364685\n",
      "0.000228958\n",
      "0.000531285\n",
      "0.000452297\n",
      "0.000175982\n",
      "0.000548061\n",
      "0.000290876\n"
     ]
    }
   ],
   "source": [
    "with tf.Session() as sess:\n",
    "    sess.run(init)\n",
    "    \n",
    "    for epoch in range(n_epocs):\n",
    "        for batch in range(mnist.train.num_examples // batch_size):\n",
    "            x_batch, y_batch = mnist.train.next_batch(batch_size)\n",
    "            sess.run(training_op, feed_dict={x: x_batch, y: y_batch})\n",
    "        print(loss.eval(feed_dict={x: x_batch, y: y_batch}))\n",
    "            \n",
    "    saver.save(sess, '/tmp/model/mnist2.ckpt')"
   ]
  },
  {
   "cell_type": "code",
   "execution_count": 36,
   "metadata": {},
   "outputs": [
    {
     "name": "stdout",
     "output_type": "stream",
     "text": [
      "INFO:tensorflow:Restoring parameters from /tmp/model/mnist2.ckpt\n",
      "Prediction [6]\n",
      "Actual 6\n"
     ]
    }
   ],
   "source": [
    "idx = 131\n",
    "\n",
    "with tf.Session() as sess:\n",
    "    save_path = saver.restore(sess, '/tmp/model/mnist2.ckpt')\n",
    "    \n",
    "    image = mnist.test.images[idx].reshape(-1, 784)\n",
    "    l = sess.run(output, feed_dict={x: image})\n",
    "    print(\"Prediction\", np.argmax(l, axis=1))\n",
    "    print(\"Actual\", mnist.test.labels[idx])"
   ]
  }
 ],
 "metadata": {
  "kernelspec": {
   "display_name": "Python 3",
   "language": "python",
   "name": "python3"
  },
  "language_info": {
   "codemirror_mode": {
    "name": "ipython",
    "version": 3
   },
   "file_extension": ".py",
   "mimetype": "text/x-python",
   "name": "python",
   "nbconvert_exporter": "python",
   "pygments_lexer": "ipython3",
   "version": "3.5.3"
  }
 },
 "nbformat": 4,
 "nbformat_minor": 2
}
