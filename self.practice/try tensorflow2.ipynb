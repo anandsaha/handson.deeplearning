{
 "cells": [
  {
   "cell_type": "code",
   "execution_count": 2,
   "metadata": {
    "collapsed": true
   },
   "outputs": [],
   "source": [
    "import tensorflow as tf\n",
    "import numpy as np\n",
    "from sklearn.datasets import fetch_california_housing"
   ]
  },
  {
   "cell_type": "code",
   "execution_count": 16,
   "metadata": {
    "collapsed": true
   },
   "outputs": [],
   "source": [
    "from sklearn.preprocessing import StandardScaler\n",
    "scaler = StandardScaler()\n",
    "scaled_housing_data = scaler.fit_transform(housing.data)\n",
    "scaled_housing_data_plus_bias = np.c_[np.ones((m, 1)), scaled_housing_data]"
   ]
  },
  {
   "cell_type": "code",
   "execution_count": 17,
   "metadata": {},
   "outputs": [
    {
     "name": "stdout",
     "output_type": "stream",
     "text": [
      "Epoch 0  MSE= 5.12372\n",
      "Epoch 100  MSE= 0.550871\n",
      "Epoch 200  MSE= 0.532082\n",
      "Epoch 300  MSE= 0.526873\n",
      "Epoch 400  MSE= 0.525235\n",
      "Epoch 500  MSE= 0.524667\n",
      "Epoch 600  MSE= 0.524455\n",
      "Epoch 700  MSE= 0.524374\n",
      "Epoch 800  MSE= 0.524342\n",
      "Epoch 900  MSE= 0.524329\n"
     ]
    },
    {
     "data": {
      "text/plain": [
       "array([[ 2.06855702],\n",
       "       [ 0.83166057],\n",
       "       [ 0.11915865],\n",
       "       [-0.2693381 ],\n",
       "       [ 0.30882788],\n",
       "       [-0.00438144],\n",
       "       [-0.03940422],\n",
       "       [-0.89500201],\n",
       "       [-0.86589271]], dtype=float32)"
      ]
     },
     "execution_count": 17,
     "metadata": {},
     "output_type": "execute_result"
    }
   ],
   "source": [
    "housing = fetch_california_housing()\n",
    "num_examples, num_features = housing.data.shape\n",
    "housing_withbias = np.c_[np.ones((num_examples, 1)), housing.data]\n",
    "x = tf.constant(scaled_housing_data_plus_bias, dtype=tf.float32)\n",
    "y = tf.constant(housing.target.reshape(-1, 1), dtype=tf.float32)\n",
    "theta = tf.Variable(tf.random_uniform([num_features+1, 1], minval=-1.0, maxval=1.0))\n",
    "y_pred = tf.matmul(x, theta)\n",
    "error = y_pred - y\n",
    "mse = tf.reduce_mean(tf.square(error))\n",
    "\n",
    "optimizer = tf.train.GradientDescentOptimizer(learning_rate=0.05)\n",
    "training_op = optimizer.minimize(mse)\n",
    "init = tf.global_variables_initializer()\n",
    "\n",
    "with tf.Session() as sess:\n",
    "    sess.run(init)\n",
    "    for epoch in range(1000):\n",
    "        if epoch % 100 == 0:\n",
    "            print(\"Epoch\", epoch, \" MSE=\", mse.eval())\n",
    "        sess.run(training_op)\n",
    "    best_theta = theta.eval()\n",
    "\n",
    "best_theta"
   ]
  }
 ],
 "metadata": {
  "kernelspec": {
   "display_name": "Python 3",
   "language": "python",
   "name": "python3"
  },
  "language_info": {
   "codemirror_mode": {
    "name": "ipython",
    "version": 3
   },
   "file_extension": ".py",
   "mimetype": "text/x-python",
   "name": "python",
   "nbconvert_exporter": "python",
   "pygments_lexer": "ipython3",
   "version": "3.5.3"
  }
 },
 "nbformat": 4,
 "nbformat_minor": 2
}
