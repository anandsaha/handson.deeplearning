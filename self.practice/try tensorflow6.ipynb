{
 "cells": [
  {
   "cell_type": "code",
   "execution_count": 1,
   "metadata": {
    "collapsed": true
   },
   "outputs": [],
   "source": [
    "import tensorflow as tf\n",
    "import numpy as np"
   ]
  },
  {
   "cell_type": "code",
   "execution_count": 2,
   "metadata": {
    "collapsed": true
   },
   "outputs": [],
   "source": [
    "from sklearn.datasets import fetch_california_housing"
   ]
  },
  {
   "cell_type": "code",
   "execution_count": 3,
   "metadata": {
    "collapsed": true
   },
   "outputs": [],
   "source": [
    "housing = fetch_california_housing()"
   ]
  },
  {
   "cell_type": "code",
   "execution_count": 4,
   "metadata": {
    "collapsed": true
   },
   "outputs": [],
   "source": [
    "from sklearn.preprocessing import StandardScaler"
   ]
  },
  {
   "cell_type": "code",
   "execution_count": 5,
   "metadata": {
    "collapsed": true
   },
   "outputs": [],
   "source": [
    "ss = StandardScaler()"
   ]
  },
  {
   "cell_type": "code",
   "execution_count": 6,
   "metadata": {},
   "outputs": [],
   "source": [
    "scaler_housing_with_bias = np.c_[np.ones(shape=(housing.data.shape[0], 1)), ss.fit_transform(housing.data)]"
   ]
  },
  {
   "cell_type": "code",
   "execution_count": 7,
   "metadata": {
    "collapsed": true
   },
   "outputs": [],
   "source": [
    "housing_labels = housing.target.reshape(-1, 1)"
   ]
  },
  {
   "cell_type": "code",
   "execution_count": 8,
   "metadata": {
    "collapsed": true
   },
   "outputs": [],
   "source": [
    "num_examples, num_features = scaler_housing_with_bias.shape"
   ]
  },
  {
   "cell_type": "code",
   "execution_count": 9,
   "metadata": {
    "collapsed": true
   },
   "outputs": [],
   "source": [
    "lr = 0.005\n",
    "batch_size = 100\n",
    "num_epochs = 500\n",
    "num_batches = int(np.ceil(num_epochs/batch_size))"
   ]
  },
  {
   "cell_type": "code",
   "execution_count": 10,
   "metadata": {
    "collapsed": true
   },
   "outputs": [],
   "source": [
    "def get_batch(idx_epoch, idx_batch, batch_size):\n",
    "    np.random.seed(idx_epoch * num_batches + idx_batch )\n",
    "    indexes = np.random.randint(low=0, high=num_examples, size=batch_size)\n",
    "    x_batch = scaler_housing_with_bias[indexes]\n",
    "    y_batch = housing_labels[indexes]\n",
    "    return x_batch, y_batch"
   ]
  },
  {
   "cell_type": "code",
   "execution_count": 11,
   "metadata": {
    "collapsed": true
   },
   "outputs": [],
   "source": [
    "with tf.name_scope(\"my_graph\") as scope:\n",
    "    x = tf.placeholder(dtype=tf.float32, shape=(None, num_features))\n",
    "    y = tf.placeholder(dtype=tf.float32, shape=(None, 1))\n",
    "    theta = tf.Variable(tf.random_normal((num_features, 1)), dtype=tf.float32)\n",
    "    y_pred = tf.matmul(x, theta)\n",
    "    error = y_pred - y\n",
    "    mse = tf.reduce_mean(tf.square(error))\n",
    "    optimizer = tf.train.GradientDescentOptimizer(learning_rate=lr)\n",
    "    training_op = optimizer.minimize(mse)"
   ]
  },
  {
   "cell_type": "code",
   "execution_count": 12,
   "metadata": {},
   "outputs": [],
   "source": [
    "saver = tf.train.Saver()\n",
    "init = tf.global_variables_initializer()\n",
    "\n",
    "from datetime import datetime\n",
    "now = datetime.utcnow().strftime(\"%Y%m%d%H%M%S\")\n",
    "root_dir = 'logs'\n",
    "log_dir = \"{0}/runa-{1}\".format(root_dir, now)\n",
    "\n",
    "\n",
    "mse_summary = tf.summary.scalar(\"MSE\", mse)\n",
    "file_summary = tf.summary.FileWriter(log_dir, tf.get_default_graph())\n",
    "\n",
    "config = tf.ConfigProto()\n",
    "config.gpu_options.allow_growth = True"
   ]
  },
  {
   "cell_type": "code",
   "execution_count": 13,
   "metadata": {},
   "outputs": [],
   "source": [
    "with tf.Session(config=config) as sess:\n",
    "    sess.run(init)\n",
    "    \n",
    "    for e in range(num_epochs):\n",
    "        for b in range(num_batches):\n",
    "            x_batch, y_batch = get_batch(e, b, batch_size)\n",
    "            feed = {x: x_batch, y: y_batch}\n",
    "            sess.run(training_op, feed_dict=feed)\n",
    "        saver.save(sess, '/tmp/model/my_model2.ckpt')\n",
    "        summ = sess.run(mse_summary, {x: scaler_housing_with_bias, y: housing_labels})\n",
    "        step = e\n",
    "        file_summary.add_summary(summ, step)\n",
    "    \n",
    "    saver.save(sess, '/tmp/model/my_model2-final.ckpt')\n",
    "    best_weights = theta.eval()\n",
    "    file_summary.close()"
   ]
  }
 ],
 "metadata": {
  "kernelspec": {
   "display_name": "Python 3",
   "language": "python",
   "name": "python3"
  },
  "language_info": {
   "codemirror_mode": {
    "name": "ipython",
    "version": 3
   },
   "file_extension": ".py",
   "mimetype": "text/x-python",
   "name": "python",
   "nbconvert_exporter": "python",
   "pygments_lexer": "ipython3",
   "version": "3.5.3"
  }
 },
 "nbformat": 4,
 "nbformat_minor": 2
}
