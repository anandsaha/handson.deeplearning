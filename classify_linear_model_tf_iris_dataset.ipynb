{
 "cells": [
  {
   "cell_type": "markdown",
   "metadata": {},
   "source": [
    "### Classifying Iris dataset\n",
    "\n",
    "This is a simple linear model to classify the flowers in iris dataset"
   ]
  },
  {
   "cell_type": "code",
   "execution_count": 1,
   "metadata": {
    "collapsed": true
   },
   "outputs": [],
   "source": [
    "import tensorflow as tf\n",
    "import numpy as np\n",
    "import matplotlib.pyplot as plt\n",
    "\n",
    "from sklearn import datasets\n",
    "from sklearn.preprocessing import OneHotEncoder\n",
    "from sklearn.model_selection import train_test_split\n",
    "\n",
    "%matplotlib inline"
   ]
  },
  {
   "cell_type": "code",
   "execution_count": 2,
   "metadata": {
    "collapsed": true
   },
   "outputs": [],
   "source": [
    "seed = 42"
   ]
  },
  {
   "cell_type": "code",
   "execution_count": 3,
   "metadata": {
    "collapsed": true
   },
   "outputs": [],
   "source": [
    "# Get the dataset\n",
    "iris = datasets.load_iris()\n",
    "\n",
    "# X\n",
    "x_data = iris.data\n",
    "\n",
    "# Y\n",
    "ohe = OneHotEncoder()\n",
    "y_data = ohe.fit_transform(iris.target.reshape(-1, 1)).toarray()\n",
    "\n",
    "# Test Train split\n",
    "\n",
    "x_train, x_test, y_train, y_test = train_test_split(x_data, \n",
    "                                                    y_data, \n",
    "                                                    test_size=0.30, \n",
    "                                                    random_state=seed)"
   ]
  },
  {
   "cell_type": "code",
   "execution_count": 4,
   "metadata": {
    "collapsed": true
   },
   "outputs": [],
   "source": [
    "batch_size = 20\n",
    "learning_rate = 1e-2\n",
    "num_epoch = 1200\n",
    "num_class = 3\n",
    "\n",
    "x = tf.placeholder(dtype=tf.float32, shape=[None, 4])\n",
    "y = tf.placeholder(dtype=tf.float32, shape=[None, 3])\n",
    "\n",
    "W = tf.Variable(tf.random_normal(shape=[4, num_class]), dtype=tf.float32)\n",
    "b = tf.Variable(tf.constant(0., shape=[1, num_class]), dtype=tf.float32)\n",
    "\n",
    "out = tf.matmul(x, W) + b"
   ]
  },
  {
   "cell_type": "code",
   "execution_count": 5,
   "metadata": {
    "collapsed": true
   },
   "outputs": [],
   "source": [
    "xentropy = tf.nn.softmax_cross_entropy_with_logits(labels=y, logits=out)\n",
    "cost = tf.reduce_mean(xentropy)\n",
    "\n",
    "opt = tf.train.GradientDescentOptimizer(learning_rate)\n",
    "train_step = opt.minimize(cost)"
   ]
  },
  {
   "cell_type": "code",
   "execution_count": 6,
   "metadata": {},
   "outputs": [
    {
     "name": "stdout",
     "output_type": "stream",
     "text": [
      "Train loss 3.61281 ,   Test loss 2.59473 ,   Train accuracy 0.25\n",
      "Train loss 0.578562 ,   Test loss 0.467649 ,   Train accuracy 0.9\n",
      "Train loss 0.408532 ,   Test loss 0.367084 ,   Train accuracy 0.9\n",
      "Train loss 0.407463 ,   Test loss 0.315087 ,   Train accuracy 0.95\n",
      "Train loss 0.403204 ,   Test loss 0.277437 ,   Train accuracy 0.9\n",
      "Train loss 0.195963 ,   Test loss 0.251079 ,   Train accuracy 1.0\n",
      "Train loss 0.232047 ,   Test loss 0.229983 ,   Train accuracy 1.0\n",
      "Train loss 0.202208 ,   Test loss 0.212407 ,   Train accuracy 1.0\n",
      "Train loss 0.277693 ,   Test loss 0.198577 ,   Train accuracy 0.95\n",
      "Train loss 0.14358 ,   Test loss 0.187877 ,   Train accuracy 1.0\n",
      "Train loss 0.179105 ,   Test loss 0.176219 ,   Train accuracy 1.0\n",
      "Train loss 0.30129 ,   Test loss 0.168853 ,   Train accuracy 0.85\n",
      "Train loss 0.144196 ,   Test loss 0.161035 ,   Train accuracy 1.0\n",
      "Train loss 0.186498 ,   Test loss 0.152706 ,   Train accuracy 0.95\n",
      "Train loss 0.203877 ,   Test loss 0.14656 ,   Train accuracy 0.95\n",
      "Train loss 0.162548 ,   Test loss 0.141907 ,   Train accuracy 1.0\n",
      "Train loss 0.30818 ,   Test loss 0.136381 ,   Train accuracy 0.9\n",
      "Train loss 0.197513 ,   Test loss 0.139768 ,   Train accuracy 0.9\n",
      "Train loss 0.27518 ,   Test loss 0.131329 ,   Train accuracy 0.85\n",
      "Train loss 0.163053 ,   Test loss 0.12909 ,   Train accuracy 0.95\n",
      "Train loss 0.129317 ,   Test loss 0.12159 ,   Train accuracy 1.0\n",
      "Train loss 0.177164 ,   Test loss 0.123164 ,   Train accuracy 0.95\n",
      "Train loss 0.125455 ,   Test loss 0.114294 ,   Train accuracy 1.0\n",
      "Train loss 0.116661 ,   Test loss 0.114061 ,   Train accuracy 0.95\n",
      "\n",
      "Final results on test set are [ True  True  True  True  True  True  True  True  True  True  True  True\n",
      "  True  True  True  True  True  True  True  True  True  True  True  True\n",
      "  True  True  True  True  True  True  True  True  True  True  True  True\n",
      "  True  True  True  True  True  True  True  True  True]\n",
      "\n",
      "Final accuracy on test set is 1.0\n"
     ]
    }
   ],
   "source": [
    "init = tf.global_variables_initializer()\n",
    "\n",
    "with tf.Session() as sess:\n",
    "    sess.run(init)\n",
    "    \n",
    "    for i in range(num_epoch):\n",
    "        for b in range(len(x_data) // batch_size):\n",
    "            mask = np.random.randint(0, len(x_train), size=batch_size)\n",
    "            x_rand = x_train[mask]\n",
    "            y_rand = y_train[mask]\n",
    "            \n",
    "            op = sess.run(train_step, feed_dict={x: x_rand, y: y_rand})\n",
    "            \n",
    "        if i % 50 == 0:\n",
    "            train_loss = sess.run(cost, feed_dict={x: x_rand, y: y_rand})\n",
    "            test_loss = sess.run(cost, feed_dict={x: x_test, y: y_test})\n",
    "            preds = sess.run(out, feed_dict={x: x_rand})\n",
    "            result = (np.argmax(preds, axis=1) == np.argmax(y_rand, axis=1))\n",
    "            accuracy = np.mean(result)\n",
    "    \n",
    "            print('Train loss', train_loss, ',   Test loss', test_loss,\n",
    "                  ',   Train accuracy', accuracy)\n",
    "            \n",
    "    \n",
    "    preds = sess.run(out, feed_dict={x: x_test})\n",
    "    result = (np.argmax(preds, axis=1) == np.argmax(y_test, axis=1))\n",
    "    accuracy = np.mean(result)\n",
    "    print('\\nFinal results on test set are', result)\n",
    "    print('\\nFinal accuracy on test set is', accuracy)"
   ]
  }
 ],
 "metadata": {
  "kernelspec": {
   "display_name": "Python 3",
   "language": "python",
   "name": "python3"
  },
  "language_info": {
   "codemirror_mode": {
    "name": "ipython",
    "version": 3
   },
   "file_extension": ".py",
   "mimetype": "text/x-python",
   "name": "python",
   "nbconvert_exporter": "python",
   "pygments_lexer": "ipython3",
   "version": "3.6.3"
  }
 },
 "nbformat": 4,
 "nbformat_minor": 2
}
